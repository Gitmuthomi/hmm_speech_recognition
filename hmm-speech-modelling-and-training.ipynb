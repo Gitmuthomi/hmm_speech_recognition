{
 "cells": [
  {
   "cell_type": "markdown",
   "id": "cd2339c9",
   "metadata": {
    "papermill": {
     "duration": 0.016328,
     "end_time": "2025-02-07T05:00:17.458517",
     "exception": false,
     "start_time": "2025-02-07T05:00:17.442189",
     "status": "completed"
    },
    "tags": []
   },
   "source": [
    "# Welcome 👋\n",
    "\n",
    "Hi, I'm **Ashiq Nazir Bhat**,  \n",
    "**Research Scholar** and **AP Contractual - 1**,  \n",
    "Previously **JRF at Thapar Institute of Engineering & Technology**.  \n",
    "\n",
    "### 🌟 About Me  \n",
    "- 📊 Passionate about Data Science, Data Security and AI.\n",
    "- 🛠️ Skilled in Python, R, SQL, Non SQL and Secure Data Analysis.\n",
    "- 🌱 Constantly learning and sharing knowledge!\n",
    "\n",
    "### 🌟 Credentials  \n",
    "- **#UGCNET23 Qualified**  \n",
    "- **#GATE21 & #GATE22 Qualified**  \n",
    "\n",
    "This notebook showcases insights and analysis on **HMM Speech Modelling and Training**. Let's dive in!  \n",
    "\n",
    "---\n",
    "\n",
    "<link rel=\"stylesheet\" href=\"https://cdnjs.cloudflare.com/ajax/libs/font-awesome/5.15.4/css/all.min.css\">\n",
    "\n",
    "### 📲 Connect With Me  \n",
    "\n",
    "<a href=\"https://github.com/ashiqnazirbhat\" target=\"_blank\" style=\"margin-right:5px;\">\n",
    "    <i class=\"fab fa-github\" style=\"font-size:20px; color:black;\"></i>\n",
    "</a>\n",
    "<a href=\"https://www.linkedin.com/in/ashiqnazir/\" target=\"_blank\" style=\"margin-right:5px;\">\n",
    "    <i class=\"fab fa-linkedin\" style=\"font-size:20px; color:#0077B5;\"></i>\n",
    "</a>\n",
    "<a href=\"mailto:bhatashiq4gmail.com\" target=\"_blank\" style=\"margin-right:5px;\">\n",
    "    <i class=\"fas fa-envelope\" style=\"font-size:20px; color:#D44638;\"></i>\n",
    "</a>\n",
    "<a href=\"https://ashiqnazirbhat.github.io/\" target=\"_blank\" style=\"margin-right:5px;\">\n",
    "    <i class=\"fas fa-globe\" style=\"font-size:20px; color:#4CAF50;\"></i>\n",
    "</a>\n"
   ]
  },
  {
   "cell_type": "code",
   "execution_count": 1,
   "id": "b6f42ec9",
   "metadata": {
    "_cell_guid": "b1076dfc-b9ad-4769-8c92-a6c4dae69d19",
    "_uuid": "8f2839f25d086af736a60e9eeb907d3b93b6e0e5",
    "execution": {
     "iopub.execute_input": "2025-02-07T05:00:17.490876Z",
     "iopub.status.busy": "2025-02-07T05:00:17.490483Z",
     "iopub.status.idle": "2025-02-07T05:00:18.603302Z",
     "shell.execute_reply": "2025-02-07T05:00:18.602215Z"
    },
    "papermill": {
     "duration": 1.131592,
     "end_time": "2025-02-07T05:00:18.605549",
     "exception": false,
     "start_time": "2025-02-07T05:00:17.473957",
     "status": "completed"
    },
    "tags": []
   },
   "outputs": [
    {
     "name": "stdout",
     "output_type": "stream",
     "text": [
      "/kaggle/input/sample-wav-audio-files/Beethoven_Diabelli_Variation_No._13.wav\n",
      "/kaggle/input/sample-wav-audio-files/Divisive_rhythm_in_4-4_time.wav\n",
      "/kaggle/input/sample-wav-audio-files/BAK.wav\n",
      "/kaggle/input/sample-wav-audio-files/Circle_of_fifths_chord_progression_-_minor.wav\n",
      "/kaggle/input/sample-wav-audio-files/Mozart_from_Piano_Sonata_K310_first_movement.wav\n",
      "/kaggle/input/spech-model-dataset/audio/orange/orange08.wav\n",
      "/kaggle/input/spech-model-dataset/audio/orange/orange11.wav\n",
      "/kaggle/input/spech-model-dataset/audio/orange/orange02.wav\n",
      "/kaggle/input/spech-model-dataset/audio/orange/orange01.wav\n",
      "/kaggle/input/spech-model-dataset/audio/orange/orange03.wav\n",
      "/kaggle/input/spech-model-dataset/audio/orange/orange10.wav\n",
      "/kaggle/input/spech-model-dataset/audio/orange/orange15.wav\n",
      "/kaggle/input/spech-model-dataset/audio/orange/orange07.wav\n",
      "/kaggle/input/spech-model-dataset/audio/orange/orange12.wav\n",
      "/kaggle/input/spech-model-dataset/audio/orange/orange13.wav\n",
      "/kaggle/input/spech-model-dataset/audio/orange/orange04.wav\n",
      "/kaggle/input/spech-model-dataset/audio/orange/orange14.wav\n",
      "/kaggle/input/spech-model-dataset/audio/orange/orange06.wav\n",
      "/kaggle/input/spech-model-dataset/audio/orange/orange09.wav\n",
      "/kaggle/input/spech-model-dataset/audio/orange/orange05.wav\n",
      "/kaggle/input/spech-model-dataset/audio/lime/lime02.wav\n",
      "/kaggle/input/spech-model-dataset/audio/lime/lime04.wav\n",
      "/kaggle/input/spech-model-dataset/audio/lime/lime05.wav\n",
      "/kaggle/input/spech-model-dataset/audio/lime/lime10.wav\n",
      "/kaggle/input/spech-model-dataset/audio/lime/lime09.wav\n",
      "/kaggle/input/spech-model-dataset/audio/lime/lime13.wav\n",
      "/kaggle/input/spech-model-dataset/audio/lime/lime06.wav\n",
      "/kaggle/input/spech-model-dataset/audio/lime/lime11.wav\n",
      "/kaggle/input/spech-model-dataset/audio/lime/lime15.wav\n",
      "/kaggle/input/spech-model-dataset/audio/lime/lime12.wav\n",
      "/kaggle/input/spech-model-dataset/audio/lime/lime08.wav\n",
      "/kaggle/input/spech-model-dataset/audio/lime/lime14.wav\n",
      "/kaggle/input/spech-model-dataset/audio/lime/lime03.wav\n",
      "/kaggle/input/spech-model-dataset/audio/lime/lime07.wav\n",
      "/kaggle/input/spech-model-dataset/audio/lime/lime01.wav\n",
      "/kaggle/input/spech-model-dataset/audio/pineapple/pineapple05.wav\n",
      "/kaggle/input/spech-model-dataset/audio/pineapple/pineapple10.wav\n",
      "/kaggle/input/spech-model-dataset/audio/pineapple/pineapple02.wav\n",
      "/kaggle/input/spech-model-dataset/audio/pineapple/pineapple13.wav\n",
      "/kaggle/input/spech-model-dataset/audio/pineapple/pineapple04.wav\n",
      "/kaggle/input/spech-model-dataset/audio/pineapple/pineapple11.wav\n",
      "/kaggle/input/spech-model-dataset/audio/pineapple/pineapple14.wav\n",
      "/kaggle/input/spech-model-dataset/audio/pineapple/pineapple09.wav\n",
      "/kaggle/input/spech-model-dataset/audio/pineapple/pineapple12.wav\n",
      "/kaggle/input/spech-model-dataset/audio/pineapple/pineapple15.wav\n",
      "/kaggle/input/spech-model-dataset/audio/pineapple/pineapple06.wav\n",
      "/kaggle/input/spech-model-dataset/audio/pineapple/pineapple01.wav\n",
      "/kaggle/input/spech-model-dataset/audio/pineapple/pineapple03.wav\n",
      "/kaggle/input/spech-model-dataset/audio/pineapple/pineapple07.wav\n",
      "/kaggle/input/spech-model-dataset/audio/pineapple/pineapple08.wav\n",
      "/kaggle/input/spech-model-dataset/audio/apple/apple12.wav\n",
      "/kaggle/input/spech-model-dataset/audio/apple/apple06.wav\n",
      "/kaggle/input/spech-model-dataset/audio/apple/apple05.wav\n",
      "/kaggle/input/spech-model-dataset/audio/apple/apple02.wav\n",
      "/kaggle/input/spech-model-dataset/audio/apple/apple11.wav\n",
      "/kaggle/input/spech-model-dataset/audio/apple/apple07.wav\n",
      "/kaggle/input/spech-model-dataset/audio/apple/apple14.wav\n",
      "/kaggle/input/spech-model-dataset/audio/apple/apple10.wav\n",
      "/kaggle/input/spech-model-dataset/audio/apple/apple01.wav\n",
      "/kaggle/input/spech-model-dataset/audio/apple/apple08.wav\n",
      "/kaggle/input/spech-model-dataset/audio/apple/apple09.wav\n",
      "/kaggle/input/spech-model-dataset/audio/apple/apple13.wav\n",
      "/kaggle/input/spech-model-dataset/audio/apple/apple04.wav\n",
      "/kaggle/input/spech-model-dataset/audio/apple/apple03.wav\n",
      "/kaggle/input/spech-model-dataset/audio/apple/apple15.wav\n",
      "/kaggle/input/spech-model-dataset/audio/kiwi/kiwi14.wav\n",
      "/kaggle/input/spech-model-dataset/audio/kiwi/kiwi06.wav\n",
      "/kaggle/input/spech-model-dataset/audio/kiwi/kiwi07.wav\n",
      "/kaggle/input/spech-model-dataset/audio/kiwi/kiwi01.wav\n",
      "/kaggle/input/spech-model-dataset/audio/kiwi/kiwi04.wav\n",
      "/kaggle/input/spech-model-dataset/audio/kiwi/kiwi10.wav\n",
      "/kaggle/input/spech-model-dataset/audio/kiwi/kiwi02.wav\n",
      "/kaggle/input/spech-model-dataset/audio/kiwi/kiwi11.wav\n",
      "/kaggle/input/spech-model-dataset/audio/kiwi/kiwi15.wav\n",
      "/kaggle/input/spech-model-dataset/audio/kiwi/kiwi08.wav\n",
      "/kaggle/input/spech-model-dataset/audio/kiwi/kiwi03.wav\n",
      "/kaggle/input/spech-model-dataset/audio/kiwi/kiwi12.wav\n",
      "/kaggle/input/spech-model-dataset/audio/kiwi/kiwi05.wav\n",
      "/kaggle/input/spech-model-dataset/audio/kiwi/kiwi13.wav\n",
      "/kaggle/input/spech-model-dataset/audio/kiwi/kiwi09.wav\n",
      "/kaggle/input/spech-model-dataset/audio/peach/peach14.wav\n",
      "/kaggle/input/spech-model-dataset/audio/peach/peach10.wav\n",
      "/kaggle/input/spech-model-dataset/audio/peach/peach07.wav\n",
      "/kaggle/input/spech-model-dataset/audio/peach/peach12.wav\n",
      "/kaggle/input/spech-model-dataset/audio/peach/peach02.wav\n",
      "/kaggle/input/spech-model-dataset/audio/peach/peach04.wav\n",
      "/kaggle/input/spech-model-dataset/audio/peach/peach06.wav\n",
      "/kaggle/input/spech-model-dataset/audio/peach/peach05.wav\n",
      "/kaggle/input/spech-model-dataset/audio/peach/peach08.wav\n",
      "/kaggle/input/spech-model-dataset/audio/peach/peach13.wav\n",
      "/kaggle/input/spech-model-dataset/audio/peach/peach09.wav\n",
      "/kaggle/input/spech-model-dataset/audio/peach/peach03.wav\n",
      "/kaggle/input/spech-model-dataset/audio/peach/peach11.wav\n",
      "/kaggle/input/spech-model-dataset/audio/peach/peach01.wav\n",
      "/kaggle/input/spech-model-dataset/audio/peach/peach15.wav\n",
      "/kaggle/input/spech-model-dataset/audio/banana/banana01.wav\n",
      "/kaggle/input/spech-model-dataset/audio/banana/banana14.wav\n",
      "/kaggle/input/spech-model-dataset/audio/banana/banana05.wav\n",
      "/kaggle/input/spech-model-dataset/audio/banana/banana09.wav\n",
      "/kaggle/input/spech-model-dataset/audio/banana/banana04.wav\n",
      "/kaggle/input/spech-model-dataset/audio/banana/banana10.wav\n",
      "/kaggle/input/spech-model-dataset/audio/banana/banana03.wav\n",
      "/kaggle/input/spech-model-dataset/audio/banana/banana02.wav\n",
      "/kaggle/input/spech-model-dataset/audio/banana/banana08.wav\n",
      "/kaggle/input/spech-model-dataset/audio/banana/banana15.wav\n",
      "/kaggle/input/spech-model-dataset/audio/banana/banana13.wav\n",
      "/kaggle/input/spech-model-dataset/audio/banana/banana12.wav\n",
      "/kaggle/input/spech-model-dataset/audio/banana/banana11.wav\n",
      "/kaggle/input/spech-model-dataset/audio/banana/banana07.wav\n",
      "/kaggle/input/spech-model-dataset/audio/banana/banana06.wav\n"
     ]
    }
   ],
   "source": [
    "# This Python 3 environment comes with many helpful analytics libraries installed\n",
    "# It is defined by the kaggle/python Docker image: https://github.com/kaggle/docker-python\n",
    "# For example, here's several helpful packages to load\n",
    "\n",
    "import numpy as np # linear algebra\n",
    "import pandas as pd # data processing, CSV file I/O (e.g. pd.read_csv)\n",
    "\n",
    "# Input data files are available in the read-only \"../input/\" directory\n",
    "# For example, running this (by clicking run or pressing Shift+Enter) will list all files under the input directory\n",
    "\n",
    "import os\n",
    "for dirname, _, filenames in os.walk('/kaggle/input'):\n",
    "    for filename in filenames:\n",
    "        print(os.path.join(dirname, filename))\n",
    "\n",
    "# You can write up to 20GB to the current directory (/kaggle/working/) that gets preserved as output when you create a version using \"Save & Run All\" \n",
    "# You can also write temporary files to /kaggle/temp/, but they won't be saved outside of the current session"
   ]
  },
  {
   "cell_type": "markdown",
   "id": "3c5a6b14",
   "metadata": {
    "papermill": {
     "duration": 0.015416,
     "end_time": "2025-02-07T05:00:18.638283",
     "exception": false,
     "start_time": "2025-02-07T05:00:18.622867",
     "status": "completed"
    },
    "tags": []
   },
   "source": [
    " ## 🛠️ **Project Overview** \n",
    "\n",
    "This notebook demonstrates the development of a **speech recognition system** using a combination of **Hidden Markov Models (HMMs)** and **Logistic Regression** for word-level classification. The workflow includes:\n",
    "\n",
    "1. **Data Augmentation**: Enhancing the dataset with pitch shifts, time stretching, and speed adjustments.\n",
    "2. **Feature Extraction**: Extracting **MFCC** and **delta features** to capture spectral and temporal dynamics.\n",
    "3. **Class-Specific HMMs**: Training separate HMMs for each word to model.\n",
    "4. **Word-Level Classification**: Using log-likelihood scores from the HMMs as features to train a LR.\n",
    "5. **Evaluation**: Assessing the system's performance reports and confusion matrices and addressing class imbalance using data augmentation and class weighting.\n",
    "\n",
    "This notebook combines traditional HMM-based sequence modeling with modern machine learning techniques to achieve robust speech recognition.\n",
    "\n",
    "Please **Upvote Dateset and Notebook**, to keep motivating... "
   ]
  },
  {
   "cell_type": "markdown",
   "id": "038be454",
   "metadata": {
    "papermill": {
     "duration": 0.015198,
     "end_time": "2025-02-07T05:00:18.669544",
     "exception": false,
     "start_time": "2025-02-07T05:00:18.654346",
     "status": "completed"
    },
    "tags": []
   },
   "source": [
    "## 🛠️ **Import Libraries**  "
   ]
  },
  {
   "cell_type": "code",
   "execution_count": 2,
   "id": "8d12567e",
   "metadata": {
    "execution": {
     "iopub.execute_input": "2025-02-07T05:00:18.701972Z",
     "iopub.status.busy": "2025-02-07T05:00:18.701406Z",
     "iopub.status.idle": "2025-02-07T05:00:19.140055Z",
     "shell.execute_reply": "2025-02-07T05:00:19.139178Z"
    },
    "papermill": {
     "duration": 0.456839,
     "end_time": "2025-02-07T05:00:19.141879",
     "exception": false,
     "start_time": "2025-02-07T05:00:18.685040",
     "status": "completed"
    },
    "tags": []
   },
   "outputs": [],
   "source": [
    "import numpy as np\n",
    "import matplotlib.pyplot as plt\n",
    "from scipy.io import wavfile"
   ]
  },
  {
   "cell_type": "markdown",
   "id": "1622aca9",
   "metadata": {
    "papermill": {
     "duration": 0.015195,
     "end_time": "2025-02-07T05:00:19.172985",
     "exception": false,
     "start_time": "2025-02-07T05:00:19.157790",
     "status": "completed"
    },
    "tags": []
   },
   "source": [
    "## 🛠️ Get Input\n",
    "#### Reads a .wav audio file using wavfile.read(). \n",
    "\n",
    "* **sampling_freq:** The audio sampling rate.\n",
    "* **audio.shape:** (mono: (n_samples,), stereo: (n_samples, 2)).\n",
    "* **audio.dtype:** (int16, float32).\n",
    "* **Duration:** audio.shape[0] / sampling_freq (seconds)."
   ]
  },
  {
   "cell_type": "code",
   "execution_count": 3,
   "id": "b9142d1a",
   "metadata": {
    "execution": {
     "iopub.execute_input": "2025-02-07T05:00:19.205060Z",
     "iopub.status.busy": "2025-02-07T05:00:19.204522Z",
     "iopub.status.idle": "2025-02-07T05:00:19.256650Z",
     "shell.execute_reply": "2025-02-07T05:00:19.255250Z"
    },
    "papermill": {
     "duration": 0.06986,
     "end_time": "2025-02-07T05:00:19.258117",
     "exception": false,
     "start_time": "2025-02-07T05:00:19.188257",
     "status": "completed"
    },
    "tags": []
   },
   "outputs": [
    {
     "name": "stdout",
     "output_type": "stream",
     "text": [
      "\n",
      "Shape: (367538, 2)\n",
      "Datatype: int16\n",
      "Duration: 8.334 seconds\n"
     ]
    },
    {
     "name": "stderr",
     "output_type": "stream",
     "text": [
      "<ipython-input-3-894b411bc508>:1: WavFileWarning: Chunk (non-data) not understood, skipping it.\n",
      "  sampling_freq, audio = wavfile.read('/kaggle/input/sample-wav-audio-files/BAK.wav')\n"
     ]
    }
   ],
   "source": [
    "sampling_freq, audio = wavfile.read('/kaggle/input/sample-wav-audio-files/BAK.wav')\n",
    "print( '\\nShape:', audio.shape)\n",
    "print ('Datatype:', audio.dtype)\n",
    "print ('Duration:', round(audio.shape[0] / float(sampling_freq), 3), 'seconds')"
   ]
  },
  {
   "cell_type": "markdown",
   "id": "b78a23ce",
   "metadata": {
    "papermill": {
     "duration": 0.015286,
     "end_time": "2025-02-07T05:00:19.289195",
     "exception": false,
     "start_time": "2025-02-07T05:00:19.273909",
     "status": "completed"
    },
    "tags": []
   },
   "source": [
    "## 🛠️ Visualise audio"
   ]
  },
  {
   "cell_type": "code",
   "execution_count": 4,
   "id": "20cd3a5e",
   "metadata": {
    "execution": {
     "iopub.execute_input": "2025-02-07T05:00:19.322164Z",
     "iopub.status.busy": "2025-02-07T05:00:19.321797Z",
     "iopub.status.idle": "2025-02-07T05:00:19.920165Z",
     "shell.execute_reply": "2025-02-07T05:00:19.919122Z"
    },
    "papermill": {
     "duration": 0.616583,
     "end_time": "2025-02-07T05:00:19.921785",
     "exception": false,
     "start_time": "2025-02-07T05:00:19.305202",
     "status": "completed"
    },
    "tags": []
   },
   "outputs": [
    {
     "data": {
      "text/plain": [
       "[<matplotlib.lines.Line2D at 0x78ff84ee7430>,\n",
       " <matplotlib.lines.Line2D at 0x78ff84ee7490>]"
      ]
     },
     "execution_count": 4,
     "metadata": {},
     "output_type": "execute_result"
    },
    {
     "data": {
      "image/png": "[encoded data removed]",
      "text/plain": [
       "<Figure size 640x480 with 1 Axes>"
      ]
     },
     "metadata": {},
     "output_type": "display_data"
    }
   ],
   "source": [
    "#Plot the complete audio \n",
    "plt.plot(audio)"
   ]
  },
  {
   "cell_type": "markdown",
   "id": "f6e529be",
   "metadata": {
    "papermill": {
     "duration": 0.017434,
     "end_time": "2025-02-07T05:00:19.956797",
     "exception": false,
     "start_time": "2025-02-07T05:00:19.939363",
     "status": "completed"
    },
    "tags": []
   },
   "source": [
    "##### Each point represents the amplitude of the signal at a given sample index."
   ]
  },
  {
   "cell_type": "markdown",
   "id": "6237d08b",
   "metadata": {
    "papermill": {
     "duration": 0.016334,
     "end_time": "2025-02-07T05:00:19.989551",
     "exception": false,
     "start_time": "2025-02-07T05:00:19.973217",
     "status": "completed"
    },
    "tags": []
   },
   "source": [
    "## 🛠️ Channel Division \n",
    "##### Stereo Channels: If the signal is stereo, separate and compare the left and right channels."
   ]
  },
  {
   "cell_type": "code",
   "execution_count": 5,
   "id": "84eddaf8",
   "metadata": {
    "execution": {
     "iopub.execute_input": "2025-02-07T05:00:20.023926Z",
     "iopub.status.busy": "2025-02-07T05:00:20.023549Z",
     "iopub.status.idle": "2025-02-07T05:00:20.385642Z",
     "shell.execute_reply": "2025-02-07T05:00:20.384584Z"
    },
    "papermill": {
     "duration": 0.381576,
     "end_time": "2025-02-07T05:00:20.387566",
     "exception": false,
     "start_time": "2025-02-07T05:00:20.005990",
     "status": "completed"
    },
    "tags": []
   },
   "outputs": [
    {
     "data": {
      "text/plain": [
       "[<matplotlib.lines.Line2D at 0x78ffa2231cc0>]"
      ]
     },
     "execution_count": 5,
     "metadata": {},
     "output_type": "execute_result"
    },
    {
     "data": {
      "image/png": "[encoded data removed]",
      "text/plain": [
       "<Figure size 640x480 with 1 Axes>"
      ]
     },
     "metadata": {},
     "output_type": "display_data"
    }
   ],
   "source": [
    "#Plot only left Channel\n",
    "plt.plot(audio[:, 0], label='Left Channel')"
   ]
  },
  {
   "cell_type": "code",
   "execution_count": 6,
   "id": "bbb36174",
   "metadata": {
    "execution": {
     "iopub.execute_input": "2025-02-07T05:00:20.425489Z",
     "iopub.status.busy": "2025-02-07T05:00:20.425120Z",
     "iopub.status.idle": "2025-02-07T05:00:20.802656Z",
     "shell.execute_reply": "2025-02-07T05:00:20.801429Z"
    },
    "papermill": {
     "duration": 0.398833,
     "end_time": "2025-02-07T05:00:20.804765",
     "exception": false,
     "start_time": "2025-02-07T05:00:20.405932",
     "status": "completed"
    },
    "tags": []
   },
   "outputs": [
    {
     "data": {
      "text/plain": [
       "[<matplotlib.lines.Line2D at 0x78ff84c59570>]"
      ]
     },
     "execution_count": 6,
     "metadata": {},
     "output_type": "execute_result"
    },
    {
     "data": {
      "image/png": "[encoded data removed]",
      "text/plain": [
       "<Figure size 640x480 with 1 Axes>"
      ]
     },
     "metadata": {},
     "output_type": "display_data"
    }
   ],
   "source": [
    "#Plot only right Channel\n",
    "plt.plot(audio[:, 1], label='Right Channel')"
   ]
  },
  {
   "cell_type": "code",
   "execution_count": 7,
   "id": "a62a904b",
   "metadata": {
    "execution": {
     "iopub.execute_input": "2025-02-07T05:00:20.844134Z",
     "iopub.status.busy": "2025-02-07T05:00:20.843773Z",
     "iopub.status.idle": "2025-02-07T05:00:21.246294Z",
     "shell.execute_reply": "2025-02-07T05:00:21.245306Z"
    },
    "papermill": {
     "duration": 0.425057,
     "end_time": "2025-02-07T05:00:21.249202",
     "exception": false,
     "start_time": "2025-02-07T05:00:20.824145",
     "status": "completed"
    },
    "tags": []
   },
   "outputs": [
    {
     "data": {
      "image/png": "[encoded data removed]",
      "text/plain": [
       "<Figure size 1000x400 with 1 Axes>"
      ]
     },
     "metadata": {},
     "output_type": "display_data"
    }
   ],
   "source": [
    "plt.figure(figsize=(10, 4))\n",
    "plt.plot(audio)\n",
    "plt.title(\"Audio Waveform\")\n",
    "plt.xlabel(\"Sample Index\")\n",
    "plt.ylabel(\"Amplitude\")\n",
    "plt.grid()\n",
    "plt.show()"
   ]
  },
  {
   "cell_type": "markdown",
   "id": "7003d679",
   "metadata": {
    "papermill": {
     "duration": 0.020137,
     "end_time": "2025-02-07T05:00:21.303217",
     "exception": false,
     "start_time": "2025-02-07T05:00:21.283080",
     "status": "completed"
    },
    "tags": []
   },
   "source": [
    "\n",
    "##### Consistent loudness normalization across samples. Reducing variations in amplitude that could affect model performance or audio comparison."
   ]
  },
  {
   "cell_type": "markdown",
   "id": "8006a5d2",
   "metadata": {
    "papermill": {
     "duration": 0.019214,
     "end_time": "2025-02-07T05:00:21.342063",
     "exception": false,
     "start_time": "2025-02-07T05:00:21.322849",
     "status": "completed"
    },
    "tags": []
   },
   "source": [
    "## 🛠️ RMS/Volume Normalization: \n",
    "\n",
    "##### Calculate the RMS to analyze the perceived loudness and ensure uniform volume across audio signals."
   ]
  },
  {
   "cell_type": "markdown",
   "id": "38297880",
   "metadata": {
    "papermill": {
     "duration": 0.023369,
     "end_time": "2025-02-07T05:00:21.384895",
     "exception": false,
     "start_time": "2025-02-07T05:00:21.361526",
     "status": "completed"
    },
    "tags": []
   },
   "source": [
    "These lines perform **audio normalization** and scaling:\n",
    "\n",
    "1. **Normalization**: The audio signal is scaled to a range between `-1` and `1` by dividing by the maximum possible value or the maximum absolute value of the signal.\n",
    "2. **Root Mean Square (RMS) Scaling**: The RMS of the signal is calculated to represent its energy, and the signal is scaled to a target RMS value (e.g., 0.1) to ensure consistent loudness across all audio samples.\n",
    "3. **Truncation**: Optionally limits the audio to the first 30 samples, likely for testing or computational efficiency."
   ]
  },
  {
   "cell_type": "code",
   "execution_count": 8,
   "id": "30fa4162",
   "metadata": {
    "execution": {
     "iopub.execute_input": "2025-02-07T05:00:21.437290Z",
     "iopub.status.busy": "2025-02-07T05:00:21.436928Z",
     "iopub.status.idle": "2025-02-07T05:00:21.441002Z",
     "shell.execute_reply": "2025-02-07T05:00:21.439962Z"
    },
    "papermill": {
     "duration": 0.031911,
     "end_time": "2025-02-07T05:00:21.443017",
     "exception": false,
     "start_time": "2025-02-07T05:00:21.411106",
     "status": "completed"
    },
    "tags": []
   },
   "outputs": [],
   "source": [
    "#audio=audio/2.**15\n",
    "#audio=audio/np.max(np.abs(audio))\n",
    "#audio=audio[:30]\n",
    "\n",
    "#rms = np.sqrt(np.mean(audio**2))\n",
    "#target_rms = 0.1\n",
    "\n",
    "\n",
    "#scaling_factor = target_rms / rms\n",
    "#audio = audio * scaling_factor"
   ]
  },
  {
   "cell_type": "markdown",
   "id": "8cc4173c",
   "metadata": {
    "papermill": {
     "duration": 0.020011,
     "end_time": "2025-02-07T05:00:21.488907",
     "exception": false,
     "start_time": "2025-02-07T05:00:21.468896",
     "status": "completed"
    },
    "tags": []
   },
   "source": [
    "### **Positive Effects**:\n",
    "\n",
    "1. **Consistency Across Samples**:\n",
    "2. **Improved Generalization**:\n",
    "3. **Numerical Stability**:\n",
    "4. **Reduced Noise Sensitivity**:\n",
    "\n",
    "### **Potential Risks**:\n",
    "1. **Loss of Information**:\n",
    "2. **Over-normalization**:\n",
    "\n",
    "### **Overall Impact**:\n",
    "- **Normalization** and **RMS scaling** generally improve the model's robustness and performance, especially for audio classification tasks.\n",
    "- **Truncation**, however, should be used carefully to avoid losing important temporal information, as it could negatively affect the model's ability to learn key patterns."
   ]
  },
  {
   "cell_type": "code",
   "execution_count": 9,
   "id": "0554291d",
   "metadata": {
    "execution": {
     "iopub.execute_input": "2025-02-07T05:00:21.530490Z",
     "iopub.status.busy": "2025-02-07T05:00:21.530032Z",
     "iopub.status.idle": "2025-02-07T05:00:21.904899Z",
     "shell.execute_reply": "2025-02-07T05:00:21.903818Z"
    },
    "papermill": {
     "duration": 0.397891,
     "end_time": "2025-02-07T05:00:21.906741",
     "exception": false,
     "start_time": "2025-02-07T05:00:21.508850",
     "status": "completed"
    },
    "tags": []
   },
   "outputs": [
    {
     "data": {
      "image/png": "[encoded data removed]",
      "text/plain": [
       "<Figure size 640x480 with 1 Axes>"
      ]
     },
     "metadata": {},
     "output_type": "display_data"
    }
   ],
   "source": [
    "x_values = np.arange(0, len(audio), 1) / float(sampling_freq)\n",
    "#Multiplying by 1000 converts seconds to milliseconds.\n",
    "x_values *= 1000\n",
    "plt.plot(x_values, audio, color='black')\n",
    "plt.xlabel('Time (ms)')\n",
    "plt.ylabel('Amplitude')\n",
    "plt.title('Audio signal')\n",
    "plt.show()"
   ]
  },
  {
   "cell_type": "markdown",
   "id": "7076e59e",
   "metadata": {
    "papermill": {
     "duration": 0.07415,
     "end_time": "2025-02-07T05:00:22.002033",
     "exception": false,
     "start_time": "2025-02-07T05:00:21.927883",
     "status": "completed"
    },
    "tags": []
   },
   "source": [
    "**Duration:** 8 seconds **Amplitude:** The y-axis ranges -15,000 to 15,000, reflecting the dynamic range of the signal's amplitude, which indicates the intensity or loudness. **Energy Distribution:** The signal's energy appears concentrated between 2000 ms and 6000 ms, suggesting that this part of the audio is louder or contains more activity. At the start (0–2000 ms) and end (6000–8000 ms), the signal tapers off, indicating quieter sections or fades."
   ]
  },
  {
   "cell_type": "markdown",
   "id": "e3a9ef68",
   "metadata": {
    "papermill": {
     "duration": 0.021516,
     "end_time": "2025-02-07T05:00:22.045589",
     "exception": false,
     "start_time": "2025-02-07T05:00:22.024073",
     "status": "completed"
    },
    "tags": []
   },
   "source": [
    "## 🛠️ Frequency Analysis: \n",
    "\n",
    "To analyze the frequency components of the signal (e.g., low, mid, or high frequencies)."
   ]
  },
  {
   "cell_type": "code",
   "execution_count": 10,
   "id": "a06b4ac8",
   "metadata": {
    "execution": {
     "iopub.execute_input": "2025-02-07T05:00:22.090939Z",
     "iopub.status.busy": "2025-02-07T05:00:22.090410Z",
     "iopub.status.idle": "2025-02-07T05:00:22.131201Z",
     "shell.execute_reply": "2025-02-07T05:00:22.129834Z"
    },
    "papermill": {
     "duration": 0.067223,
     "end_time": "2025-02-07T05:00:22.134405",
     "exception": false,
     "start_time": "2025-02-07T05:00:22.067182",
     "status": "completed"
    },
    "tags": []
   },
   "outputs": [],
   "source": [
    "transformed_signal = np.fft.fft(audio)"
   ]
  },
  {
   "cell_type": "markdown",
   "id": "73717621",
   "metadata": {
    "papermill": {
     "duration": 0.026829,
     "end_time": "2025-02-07T05:00:22.201780",
     "exception": false,
     "start_time": "2025-02-07T05:00:22.174951",
     "status": "completed"
    },
    "tags": []
   },
   "source": [
    "## 🛠️ What to Look For:\n",
    "**Peak frequencies:** Peaks in the frequency spectrum indicate dominant frequencies.\n",
    "**Noise:** Broad, non-peaked regions may indicate noise in the signal.\n",
    "**Cutoff Frequencies:** Analyze if the signal is band-limited. "
   ]
  },
  {
   "cell_type": "code",
   "execution_count": 11,
   "id": "4e9ad531",
   "metadata": {
    "execution": {
     "iopub.execute_input": "2025-02-07T05:00:22.277343Z",
     "iopub.status.busy": "2025-02-07T05:00:22.276900Z",
     "iopub.status.idle": "2025-02-07T05:00:22.300290Z",
     "shell.execute_reply": "2025-02-07T05:00:22.298865Z"
    },
    "papermill": {
     "duration": 0.070982,
     "end_time": "2025-02-07T05:00:22.303442",
     "exception": false,
     "start_time": "2025-02-07T05:00:22.232460",
     "status": "completed"
    },
    "tags": []
   },
   "outputs": [],
   "source": [
    "#Calculate Half Length as Fourier Transform of a real-valued signal is symmetric\n",
    "half_length = np.ceil((len(audio) + 1) / 2.0)\n",
    "half_length=int(half_length)\n",
    "\n",
    "#Extracts the magnitude of the first half of the FFT\n",
    "transformed_signal = abs(transformed_signal[0:half_length])\n",
    "\n",
    "\n",
    "#Square the Magnitude:\n",
    "#Squares the magnitude to calculate the power spectrum (energy at each frequency).\n",
    "#The power spectrum is proportional to the square of the amplitude of the frequency components.\n",
    "transformed_signal **= 2"
   ]
  },
  {
   "cell_type": "code",
   "execution_count": 12,
   "id": "a9e10733",
   "metadata": {
    "execution": {
     "iopub.execute_input": "2025-02-07T05:00:22.349829Z",
     "iopub.status.busy": "2025-02-07T05:00:22.349439Z",
     "iopub.status.idle": "2025-02-07T05:00:22.769098Z",
     "shell.execute_reply": "2025-02-07T05:00:22.768007Z"
    },
    "papermill": {
     "duration": 0.44411,
     "end_time": "2025-02-07T05:00:22.770849",
     "exception": false,
     "start_time": "2025-02-07T05:00:22.326739",
     "status": "completed"
    },
    "tags": []
   },
   "outputs": [
    {
     "data": {
      "text/plain": [
       "[<matplotlib.lines.Line2D at 0x78ff844023e0>,\n",
       " <matplotlib.lines.Line2D at 0x78ff844026b0>]"
      ]
     },
     "execution_count": 12,
     "metadata": {},
     "output_type": "execute_result"
    },
    {
     "data": {
      "image/png": "[encoded data removed]",
      "text/plain": [
       "<Figure size 640x480 with 1 Axes>"
      ]
     },
     "metadata": {},
     "output_type": "display_data"
    }
   ],
   "source": [
    "plt.plot(transformed_signal, color='black')"
   ]
  },
  {
   "cell_type": "code",
   "execution_count": 13,
   "id": "fda2d738",
   "metadata": {
    "execution": {
     "iopub.execute_input": "2025-02-07T05:00:22.817264Z",
     "iopub.status.busy": "2025-02-07T05:00:22.816929Z",
     "iopub.status.idle": "2025-02-07T05:00:23.103153Z",
     "shell.execute_reply": "2025-02-07T05:00:23.102071Z"
    },
    "papermill": {
     "duration": 0.311414,
     "end_time": "2025-02-07T05:00:23.104982",
     "exception": false,
     "start_time": "2025-02-07T05:00:22.793568",
     "status": "completed"
    },
    "tags": []
   },
   "outputs": [
    {
     "data": {
      "image/png": "[encoded data removed]",
      "text/plain": [
       "<Figure size 1000x400 with 1 Axes>"
      ]
     },
     "metadata": {},
     "output_type": "display_data"
    }
   ],
   "source": [
    "plt.figure(figsize=(10, 4))\n",
    "plt.plot(transformed_signal, color='red')\n",
    "plt.title(\"Power Spectrum\")\n",
    "plt.xlabel(\"Frequency (Hz)\")\n",
    "plt.ylabel(\"Power\")\n",
    "plt.grid()\n",
    "plt.show()"
   ]
  },
  {
   "cell_type": "markdown",
   "id": "58fb891f",
   "metadata": {
    "papermill": {
     "duration": 0.024895,
     "end_time": "2025-02-07T05:00:23.153658",
     "exception": false,
     "start_time": "2025-02-07T05:00:23.128763",
     "status": "completed"
    },
    "tags": []
   },
   "source": [
    "* **Dominant Frequencies:** Peaks in the spectrum (e.g., near 5,000 Hz and 15,000 Hz) indicate the primary frequency components of the audio signal.\n",
    "\n",
    "* **Energy Distribution:** Most energy is concentrated in the 0–20,000 Hz range, consistent with human-hearable frequencies.\n",
    "\n",
    "* **Noise:** The spectrum's broad base suggests some background noise or wide-frequency energy components."
   ]
  },
  {
   "cell_type": "code",
   "execution_count": 14,
   "id": "3741f6c8",
   "metadata": {
    "execution": {
     "iopub.execute_input": "2025-02-07T05:00:23.202035Z",
     "iopub.status.busy": "2025-02-07T05:00:23.201637Z",
     "iopub.status.idle": "2025-02-07T05:00:23.207313Z",
     "shell.execute_reply": "2025-02-07T05:00:23.206298Z"
    },
    "papermill": {
     "duration": 0.03146,
     "end_time": "2025-02-07T05:00:23.208792",
     "exception": false,
     "start_time": "2025-02-07T05:00:23.177332",
     "status": "completed"
    },
    "tags": []
   },
   "outputs": [
    {
     "data": {
      "text/plain": [
       "array([[ 9, 27],\n",
       "       [ 5, 13],\n",
       "       [-6, -2],\n",
       "       ...,\n",
       "       [ 0,  0],\n",
       "       [ 0,  0],\n",
       "       [ 0,  0]], dtype=int16)"
      ]
     },
     "execution_count": 14,
     "metadata": {},
     "output_type": "execute_result"
    }
   ],
   "source": [
    "audio"
   ]
  },
  {
   "cell_type": "code",
   "execution_count": 15,
   "id": "f15b563b",
   "metadata": {
    "execution": {
     "iopub.execute_input": "2025-02-07T05:00:23.257964Z",
     "iopub.status.busy": "2025-02-07T05:00:23.257589Z",
     "iopub.status.idle": "2025-02-07T05:00:23.263143Z",
     "shell.execute_reply": "2025-02-07T05:00:23.262268Z"
    },
    "papermill": {
     "duration": 0.032238,
     "end_time": "2025-02-07T05:00:23.264823",
     "exception": false,
     "start_time": "2025-02-07T05:00:23.232585",
     "status": "completed"
    },
    "tags": []
   },
   "outputs": [],
   "source": [
    "freqs = np.fft.fftfreq(len(audio), d=1/sampling_freq)[:half_length]"
   ]
  },
  {
   "cell_type": "code",
   "execution_count": 16,
   "id": "85f8c0e0",
   "metadata": {
    "execution": {
     "iopub.execute_input": "2025-02-07T05:00:23.315419Z",
     "iopub.status.busy": "2025-02-07T05:00:23.315012Z",
     "iopub.status.idle": "2025-02-07T05:00:23.564813Z",
     "shell.execute_reply": "2025-02-07T05:00:23.563793Z"
    },
    "papermill": {
     "duration": 0.277687,
     "end_time": "2025-02-07T05:00:23.566348",
     "exception": false,
     "start_time": "2025-02-07T05:00:23.288661",
     "status": "completed"
    },
    "tags": []
   },
   "outputs": [
    {
     "data": {
      "image/png": "[encoded data removed]",
      "text/plain": [
       "<Figure size 1000x400 with 1 Axes>"
      ]
     },
     "metadata": {},
     "output_type": "display_data"
    }
   ],
   "source": [
    "plt.figure(figsize=(10, 4))\n",
    "plt.plot(freqs, transformed_signal, color='red')\n",
    "plt.title(\"Power Spectrum\")\n",
    "plt.xlabel(\"Frequency (Hz)\")\n",
    "plt.ylabel(\"Power\")\n",
    "plt.grid()\n",
    "plt.show()"
   ]
  },
  {
   "cell_type": "markdown",
   "id": "ea8ba4cf",
   "metadata": {
    "papermill": {
     "duration": 0.024082,
     "end_time": "2025-02-07T05:00:23.615073",
     "exception": false,
     "start_time": "2025-02-07T05:00:23.590991",
     "status": "completed"
    },
    "tags": []
   },
   "source": [
    "## 🛠️ Power Representation:\n",
    "\n",
    "#### Squaring the FFT values calculates the power spectrum, which represents the energy at each frequency. \n",
    "\n",
    "**Frequency Range:** The x-axis extends to 200,000 Hz.\n",
    "\n",
    "**Energy Peaks:** Clear peaks are visible in the 100,000–175,000 Hz range, indicating high-energy components at these frequencies. These may arise from:\n",
    "\n",
    "* High-frequency noise or interference.\n",
    "* Ultrasonic signal components, if this is not a standard audio signal.\n",
    "\n",
    "**Overall Energy Distribution:**\n",
    "\n",
    "The power decreases significantly at lower frequencies compared to higher frequencies, which is unusual for most audio signals where lower frequencies often dominate. This might suggest:\n",
    "\n",
    "* Non-audible high-frequency components.\n",
    "* High-frequency noise.\n"
   ]
  },
  {
   "cell_type": "markdown",
   "id": "7e47c2f5",
   "metadata": {
    "papermill": {
     "duration": 0.024433,
     "end_time": "2025-02-07T05:00:23.663915",
     "exception": false,
     "start_time": "2025-02-07T05:00:23.639482",
     "status": "completed"
    },
    "tags": []
   },
   "source": [
    "## 🛠️ Import Libraries  "
   ]
  },
  {
   "cell_type": "code",
   "execution_count": 17,
   "id": "c8056734",
   "metadata": {
    "execution": {
     "iopub.execute_input": "2025-02-07T05:00:23.714933Z",
     "iopub.status.busy": "2025-02-07T05:00:23.714543Z",
     "iopub.status.idle": "2025-02-07T05:00:40.508667Z",
     "shell.execute_reply": "2025-02-07T05:00:40.507594Z"
    },
    "papermill": {
     "duration": 16.822078,
     "end_time": "2025-02-07T05:00:40.510514",
     "exception": false,
     "start_time": "2025-02-07T05:00:23.688436",
     "status": "completed"
    },
    "tags": []
   },
   "outputs": [],
   "source": [
    "import numpy as np\n",
    "from librosa.feature import mfcc\n",
    "import librosa"
   ]
  },
  {
   "cell_type": "markdown",
   "id": "a53ac8ae",
   "metadata": {
    "papermill": {
     "duration": 0.02425,
     "end_time": "2025-02-07T05:00:40.559591",
     "exception": false,
     "start_time": "2025-02-07T05:00:40.535341",
     "status": "completed"
    },
    "tags": []
   },
   "source": [
    "**Librosa** library extract **MFCC (Mel Frequency Cepstral Coefficients)** features from an audio file. MFCCs are commonly used in audio and speech processing to represent the short-term power spectrum of sound on a mel scale. \n",
    "\n",
    "- **Number of windows**: Refers to the total number of time frames.\n",
    "- **Length of each feature**: Indicates the number of MFCC coefficients computed for each time frame, representing the spectral characteristics of the sound.\n",
    "\n",
    "\n",
    "The **Mel scale** is a perceptual scale of pitches that aligns with how humans perceive sound. It transforms frequencies from the linear Hertz (Hz) scale into a scale that reflects human auditory perception.\n",
    "\n",
    "**Application**:\n",
    "   - Widely used in speech and audio processing.\n",
    "   - **Mel-Frequency Cepstral Coefficients (MFCCs)** are computed by applying the Mel scale to the power spectrum, emphasizing perceptually important frequency bands.\n"
   ]
  },
  {
   "cell_type": "code",
   "execution_count": 18,
   "id": "50f667b9",
   "metadata": {
    "execution": {
     "iopub.execute_input": "2025-02-07T05:00:40.610374Z",
     "iopub.status.busy": "2025-02-07T05:00:40.609880Z",
     "iopub.status.idle": "2025-02-07T05:00:41.544938Z",
     "shell.execute_reply": "2025-02-07T05:00:41.543817Z"
    },
    "papermill": {
     "duration": 0.962889,
     "end_time": "2025-02-07T05:00:41.547030",
     "exception": false,
     "start_time": "2025-02-07T05:00:40.584141",
     "status": "completed"
    },
    "tags": []
   },
   "outputs": [
    {
     "name": "stdout",
     "output_type": "stream",
     "text": [
      "Number of windows = 20\n",
      "Length of each feature = 359\n"
     ]
    }
   ],
   "source": [
    "audio,sampling_rate = librosa.load(\"/kaggle/input/sample-wav-audio-files/BAK.wav\")\n",
    "mfcc_features = mfcc(y=audio,sr=sampling_rate)\n",
    "print(\"Number of windows =\", mfcc_features.shape[0])\n",
    "print('Length of each feature =', mfcc_features.shape[1])"
   ]
  },
  {
   "cell_type": "markdown",
   "id": "37d7c102",
   "metadata": {
    "papermill": {
     "duration": 0.024624,
     "end_time": "2025-02-07T05:00:41.596936",
     "exception": false,
     "start_time": "2025-02-07T05:00:41.572312",
     "status": "completed"
    },
    "tags": []
   },
   "source": [
    "## 🛠️ Get Labels\n",
    "\n",
    "Iterates through subfolders in the directory and extract file names as labels. \n",
    "\n",
    "* lists all subfolders or files in the directory.\n",
    "* combines the base directory with the folder name to get the full path.\n",
    "* extracts the folder name after the last * `/`, treating it as a label."
   ]
  },
  {
   "cell_type": "code",
   "execution_count": 19,
   "id": "efc82f43",
   "metadata": {
    "execution": {
     "iopub.execute_input": "2025-02-07T05:00:41.649238Z",
     "iopub.status.busy": "2025-02-07T05:00:41.648872Z",
     "iopub.status.idle": "2025-02-07T05:00:41.661907Z",
     "shell.execute_reply": "2025-02-07T05:00:41.660860Z"
    },
    "papermill": {
     "duration": 0.041259,
     "end_time": "2025-02-07T05:00:41.663386",
     "exception": false,
     "start_time": "2025-02-07T05:00:41.622127",
     "status": "completed"
    },
    "tags": []
   },
   "outputs": [
    {
     "name": "stdout",
     "output_type": "stream",
     "text": [
      "orange\n",
      "lime\n",
      "pineapple\n",
      "apple\n",
      "kiwi\n",
      "peach\n",
      "banana\n"
     ]
    }
   ],
   "source": [
    "import os\n",
    "for dirname in os.listdir('/kaggle/input/spech-model-dataset/audio'):\n",
    "  subfolder = os.path.join('/kaggle/input/spech-model-dataset/audio', dirname)\n",
    "  label = subfolder[subfolder.rfind('/') + 1:]\n",
    "  print(label)"
   ]
  },
  {
   "cell_type": "markdown",
   "id": "73b89ed0",
   "metadata": {
    "papermill": {
     "duration": 0.025507,
     "end_time": "2025-02-07T05:00:41.715546",
     "exception": false,
     "start_time": "2025-02-07T05:00:41.690039",
     "status": "completed"
    },
    "tags": []
   },
   "source": [
    "## 🛠️ Install HMM Library\n",
    "\n",
    "#### [Explore Here](https://pypi.org/project/hmmlearn/#:~:text=hmmlearn%20is%20a%20set%20of,is%20under%20limited%2Dmaintenance%20mode.)"
   ]
  },
  {
   "cell_type": "code",
   "execution_count": 20,
   "id": "889d86a9",
   "metadata": {
    "execution": {
     "iopub.execute_input": "2025-02-07T05:00:41.767562Z",
     "iopub.status.busy": "2025-02-07T05:00:41.767190Z",
     "iopub.status.idle": "2025-02-07T05:00:48.076340Z",
     "shell.execute_reply": "2025-02-07T05:00:48.074778Z"
    },
    "papermill": {
     "duration": 6.337577,
     "end_time": "2025-02-07T05:00:48.078661",
     "exception": false,
     "start_time": "2025-02-07T05:00:41.741084",
     "status": "completed"
    },
    "tags": []
   },
   "outputs": [
    {
     "name": "stdout",
     "output_type": "stream",
     "text": [
      "Collecting hmmlearn\r\n",
      "  Downloading hmmlearn-0.3.3-cp310-cp310-manylinux_2_17_x86_64.manylinux2014_x86_64.whl.metadata (3.0 kB)\r\n",
      "Requirement already satisfied: numpy>=1.10 in /usr/local/lib/python3.10/dist-packages (from hmmlearn) (1.26.4)\r\n",
      "Requirement already satisfied: scikit-learn!=0.22.0,>=0.16 in /usr/local/lib/python3.10/dist-packages (from hmmlearn) (1.2.2)\r\n",
      "Requirement already satisfied: scipy>=0.19 in /usr/local/lib/python3.10/dist-packages (from hmmlearn) (1.13.1)\r\n",
      "Requirement already satisfied: mkl_fft in /usr/local/lib/python3.10/dist-packages (from numpy>=1.10->hmmlearn) (1.3.8)\r\n",
      "Requirement already satisfied: mkl_random in /usr/local/lib/python3.10/dist-packages (from numpy>=1.10->hmmlearn) (1.2.4)\r\n",
      "Requirement already satisfied: mkl_umath in /usr/local/lib/python3.10/dist-packages (from numpy>=1.10->hmmlearn) (0.1.1)\r\n",
      "Requirement already satisfied: mkl in /usr/local/lib/python3.10/dist-packages (from numpy>=1.10->hmmlearn) (2025.0.1)\r\n",
      "Requirement already satisfied: tbb4py in /usr/local/lib/python3.10/dist-packages (from numpy>=1.10->hmmlearn) (2022.0.0)\r\n",
      "Requirement already satisfied: mkl-service in /usr/local/lib/python3.10/dist-packages (from numpy>=1.10->hmmlearn) (2.4.1)\r\n",
      "Requirement already satisfied: joblib>=1.1.1 in /usr/local/lib/python3.10/dist-packages (from scikit-learn!=0.22.0,>=0.16->hmmlearn) (1.4.2)\r\n",
      "Requirement already satisfied: threadpoolctl>=2.0.0 in /usr/local/lib/python3.10/dist-packages (from scikit-learn!=0.22.0,>=0.16->hmmlearn) (3.5.0)\r\n",
      "Requirement already satisfied: intel-openmp>=2024 in /usr/local/lib/python3.10/dist-packages (from mkl->numpy>=1.10->hmmlearn) (2024.2.0)\r\n",
      "Requirement already satisfied: tbb==2022.* in /usr/local/lib/python3.10/dist-packages (from mkl->numpy>=1.10->hmmlearn) (2022.0.0)\r\n",
      "Requirement already satisfied: tcmlib==1.* in /usr/local/lib/python3.10/dist-packages (from tbb==2022.*->mkl->numpy>=1.10->hmmlearn) (1.2.0)\r\n",
      "Requirement already satisfied: intel-cmplr-lib-rt in /usr/local/lib/python3.10/dist-packages (from mkl_umath->numpy>=1.10->hmmlearn) (2024.2.0)\r\n",
      "Requirement already satisfied: intel-cmplr-lib-ur==2024.2.0 in /usr/local/lib/python3.10/dist-packages (from intel-openmp>=2024->mkl->numpy>=1.10->hmmlearn) (2024.2.0)\r\n",
      "Downloading hmmlearn-0.3.3-cp310-cp310-manylinux_2_17_x86_64.manylinux2014_x86_64.whl (164 kB)\r\n",
      "\u001b[2K   \u001b[90m━━━━━━━━━━━━━━━━━━━━━━━━━━━━━━━━━━━━━━━━\u001b[0m \u001b[32m164.6/164.6 kB\u001b[0m \u001b[31m3.4 MB/s\u001b[0m eta \u001b[36m0:00:00\u001b[0m\r\n",
      "\u001b[?25hInstalling collected packages: hmmlearn\r\n",
      "Successfully installed hmmlearn-0.3.3\r\n",
      "Note: you may need to restart the kernel to use updated packages.\n"
     ]
    }
   ],
   "source": [
    "pip install hmmlearn"
   ]
  },
  {
   "cell_type": "markdown",
   "id": "4df7a3e3",
   "metadata": {
    "papermill": {
     "duration": 0.024908,
     "end_time": "2025-02-07T05:00:48.129587",
     "exception": false,
     "start_time": "2025-02-07T05:00:48.104679",
     "status": "completed"
    },
    "tags": []
   },
   "source": [
    "##  🛠️ Import HMM"
   ]
  },
  {
   "cell_type": "code",
   "execution_count": 21,
   "id": "3f28d1df",
   "metadata": {
    "execution": {
     "iopub.execute_input": "2025-02-07T05:00:48.181558Z",
     "iopub.status.busy": "2025-02-07T05:00:48.181164Z",
     "iopub.status.idle": "2025-02-07T05:00:48.904110Z",
     "shell.execute_reply": "2025-02-07T05:00:48.903137Z"
    },
    "papermill": {
     "duration": 0.751289,
     "end_time": "2025-02-07T05:00:48.905958",
     "exception": false,
     "start_time": "2025-02-07T05:00:48.154669",
     "status": "completed"
    },
    "tags": []
   },
   "outputs": [],
   "source": [
    "from scipy.io import wavfile\n",
    "from hmmlearn import hmm"
   ]
  },
  {
   "cell_type": "markdown",
   "id": "3aaaff6b",
   "metadata": {
    "papermill": {
     "duration": 0.024865,
     "end_time": "2025-02-07T05:00:48.956660",
     "exception": false,
     "start_time": "2025-02-07T05:00:48.931795",
     "status": "completed"
    },
    "tags": []
   },
   "source": [
    "A **Hidden Markov Model (HMM)** is a statistical model used to represent systems that are **stochastic** (having a random probability distribution) and **time-dependent**, where the underlying states are hidden (unobservable) but can be inferred through observable outputs. It consists of:\n",
    "\n",
    "1. **States (S))**: Represent the hidden process.  \n",
    "2. **Observations (O)**: Outputs generated by the hidden states.  \n",
    "3. **Transition Probabilities (A)**: Probabilities of moving between states over time.  \n",
    "4. **Emission Probabilities (B)**: Probabilities of an observation being generated from a state.  \n",
    "5. **Initial State Probabilities ($\\pi$ )**: Probabilities of starting in each state.  \n",
    "6. **State Space (S)**: The set of all possible hidden states.  \n",
    "7. **Observation Space (O)**: The set of all possible observations.\n",
    "\n",
    "HMMs are widely used in applications like speech recognition, bioinformatics, and sequence prediction, where temporal or sequential data plays a key role.\n",
    "\n",
    "### For More Info\n",
    "\n",
    "* https://www.analyticsvidhya.com/blog/2023/11/hidden-markov-models/?utm_source=Backlink&utm_medium=SEO\n",
    "* https://medium.com/analytics-vidhya/baum-welch-algorithm-for-training-a-hidden-markov-model-part-2-of-the-hmm-series-d0e393b4fb86\n",
    "* https://medium.com/analytics-vidhya/viterbi-algorithm-for-prediction-with-hmm-part-3-of-the-hmm-series-6466ce2f5dc6"
   ]
  },
  {
   "cell_type": "code",
   "execution_count": 22,
   "id": "820d7ccd",
   "metadata": {
    "execution": {
     "iopub.execute_input": "2025-02-07T05:00:49.008417Z",
     "iopub.status.busy": "2025-02-07T05:00:49.008021Z",
     "iopub.status.idle": "2025-02-07T05:00:49.014158Z",
     "shell.execute_reply": "2025-02-07T05:00:49.012993Z"
    },
    "papermill": {
     "duration": 0.034194,
     "end_time": "2025-02-07T05:00:49.015947",
     "exception": false,
     "start_time": "2025-02-07T05:00:48.981753",
     "status": "completed"
    },
    "tags": []
   },
   "outputs": [],
   "source": [
    "class HMMTrainer(object):\n",
    "   def __init__(self, model_name='GaussianHMM', n_components=7):\n",
    "     self.model_name = model_name\n",
    "     self.n_components = n_components\n",
    "\n",
    "     self.models = []\n",
    "     if self.model_name == 'GaussianHMM':\n",
    "        self.model=hmm.GaussianHMM(n_components=4)\n",
    "     else:\n",
    "        print(\"Please choose GaussianHMM\")\n",
    "   def train(self, X):\n",
    "       self.models.append(self.model.fit(X))\n",
    "   def get_score(self, input_data):\n",
    "       return self.model.score(input_data)"
   ]
  },
  {
   "cell_type": "markdown",
   "id": "7482d38d",
   "metadata": {
    "papermill": {
     "duration": 0.024398,
     "end_time": "2025-02-07T05:00:49.065343",
     "exception": false,
     "start_time": "2025-02-07T05:00:49.040945",
     "status": "completed"
    },
    "tags": []
   },
   "source": [
    " ## 🛠️ Model Design \n",
    " \n",
    " **Hidden Markov Models (HMMs)**, specifically **Gaussian HMMs** are suitable for modeling continuous data.\n",
    "\n",
    "#### Key Components:\n",
    "\n",
    "   - number of hidden states (`n_components`).\n",
    "   - Initializes a `GaussianHMM` model (from the `hmmlearn` library).\n",
    "\n",
    "#### Scoring:\n",
    "   - Computes the **log-likelihood** score of the input data (`input_data`) based on the trained HMM."
   ]
  },
  {
   "cell_type": "code",
   "execution_count": 23,
   "id": "0e1f2f8f",
   "metadata": {
    "execution": {
     "iopub.execute_input": "2025-02-07T05:00:49.116774Z",
     "iopub.status.busy": "2025-02-07T05:00:49.116348Z",
     "iopub.status.idle": "2025-02-07T05:00:50.796838Z",
     "shell.execute_reply": "2025-02-07T05:00:50.795971Z"
    },
    "papermill": {
     "duration": 1.708095,
     "end_time": "2025-02-07T05:00:50.798315",
     "exception": false,
     "start_time": "2025-02-07T05:00:49.090220",
     "status": "completed"
    },
    "tags": []
   },
   "outputs": [
    {
     "name": "stdout",
     "output_type": "stream",
     "text": [
      "/kaggle/input/spech-model-dataset/audio/orange\n",
      "X.shape = (20, 15)\n",
      "X.shape = (40, 15)\n",
      "X.shape = (60, 15)\n",
      "X.shape = (80, 15)\n",
      "X.shape = (100, 15)\n",
      "X.shape = (120, 15)\n",
      "X.shape = (140, 15)\n",
      "X.shape = (160, 15)\n",
      "X.shape = (180, 15)\n",
      "X.shape = (200, 15)\n",
      "X.shape = (220, 15)\n",
      "X.shape = (240, 15)\n",
      "X.shape = (260, 15)\n",
      "X.shape = (280, 15)\n",
      "/kaggle/input/spech-model-dataset/audio/lime\n",
      "X.shape = (20, 15)\n",
      "X.shape = (40, 15)\n",
      "X.shape = (60, 15)\n",
      "X.shape = (80, 15)\n",
      "X.shape = (100, 15)\n",
      "X.shape = (120, 15)\n",
      "X.shape = (140, 15)\n",
      "X.shape = (160, 15)\n",
      "X.shape = (180, 15)\n",
      "X.shape = (200, 15)\n",
      "X.shape = (220, 15)\n",
      "X.shape = (240, 15)\n",
      "X.shape = (260, 15)\n",
      "X.shape = (280, 15)\n",
      "/kaggle/input/spech-model-dataset/audio/pineapple\n",
      "X.shape = (20, 15)\n",
      "X.shape = (40, 15)\n",
      "X.shape = (60, 15)\n",
      "X.shape = (80, 15)\n",
      "X.shape = (100, 15)\n",
      "X.shape = (120, 15)\n",
      "X.shape = (140, 15)\n",
      "X.shape = (160, 15)\n",
      "X.shape = (180, 15)\n",
      "X.shape = (200, 15)\n",
      "X.shape = (220, 15)\n",
      "X.shape = (240, 15)\n",
      "X.shape = (260, 15)\n",
      "X.shape = (280, 15)\n",
      "/kaggle/input/spech-model-dataset/audio/apple\n",
      "X.shape = (20, 15)\n",
      "X.shape = (40, 15)\n",
      "X.shape = (60, 15)\n",
      "X.shape = (80, 15)\n",
      "X.shape = (100, 15)\n",
      "X.shape = (120, 15)\n",
      "X.shape = (140, 15)\n",
      "X.shape = (160, 15)\n",
      "X.shape = (180, 15)\n",
      "X.shape = (200, 15)\n",
      "X.shape = (220, 15)\n",
      "X.shape = (240, 15)\n",
      "X.shape = (260, 15)\n",
      "X.shape = (280, 15)\n",
      "/kaggle/input/spech-model-dataset/audio/kiwi\n",
      "X.shape = (20, 15)\n",
      "X.shape = (40, 15)\n",
      "X.shape = (60, 15)\n",
      "X.shape = (80, 15)\n",
      "X.shape = (100, 15)\n",
      "X.shape = (120, 15)\n",
      "X.shape = (140, 15)\n",
      "X.shape = (160, 15)\n",
      "X.shape = (180, 15)\n",
      "X.shape = (200, 15)\n",
      "X.shape = (220, 15)\n",
      "X.shape = (240, 15)\n",
      "X.shape = (260, 15)\n",
      "X.shape = (280, 15)\n",
      "/kaggle/input/spech-model-dataset/audio/peach\n",
      "X.shape = (20, 15)\n",
      "X.shape = (40, 15)\n",
      "X.shape = (60, 15)\n",
      "X.shape = (80, 15)\n",
      "X.shape = (100, 15)\n",
      "X.shape = (120, 15)\n",
      "X.shape = (140, 15)\n",
      "X.shape = (160, 15)\n",
      "X.shape = (180, 15)\n",
      "X.shape = (200, 15)\n",
      "X.shape = (220, 15)\n",
      "X.shape = (240, 15)\n",
      "X.shape = (260, 15)\n",
      "X.shape = (280, 15)\n",
      "/kaggle/input/spech-model-dataset/audio/banana\n",
      "X.shape = (20, 15)\n",
      "X.shape = (40, 15)\n",
      "X.shape = (60, 15)\n",
      "X.shape = (80, 15)\n",
      "X.shape = (100, 15)\n",
      "X.shape = (120, 15)\n",
      "X.shape = (140, 15)\n",
      "X.shape = (160, 15)\n",
      "X.shape = (180, 15)\n",
      "X.shape = (200, 15)\n",
      "X.shape = (220, 15)\n",
      "X.shape = (240, 15)\n",
      "X.shape = (260, 15)\n",
      "X.shape = (280, 15)\n"
     ]
    }
   ],
   "source": [
    "import os\n",
    "import librosa\n",
    "import numpy as np\n",
    "from librosa.feature import mfcc\n",
    "\n",
    "hmm_models = []\n",
    "\n",
    "for dirname in os.listdir('/kaggle/input/spech-model-dataset/audio'):\n",
    "    \n",
    "    # Get the name of the subfolder\n",
    "    subfolder = os.path.join('/kaggle/input/spech-model-dataset/audio', dirname)\n",
    "    print(subfolder)\n",
    "    if not os.path.isdir(subfolder):\n",
    "        continue\n",
    "      \n",
    "    # Extract the label\n",
    "    label = subfolder[subfolder.rfind('/') + 1:]\n",
    "    \n",
    "    # Initialize variables\n",
    "    X = np.array([])\n",
    "    \n",
    "    for filename in [x for x in os.listdir(subfolder) if x.endswith('.wav')][:-1]:\n",
    "        \n",
    "        # Read the input file\n",
    "        filepath = os.path.join(subfolder, filename)\n",
    "        audio, sampling_freq = librosa.load(filepath)\n",
    "        \n",
    "        # Extract MFCC features\n",
    "        mfcc_features = mfcc(y=audio, sr=sampling_freq)\n",
    "        \n",
    "        # Append to the variable X\n",
    "        if len(X) == 0:\n",
    "            X = mfcc_features[:, :15]\n",
    "        else:\n",
    "            X = np.append(X, mfcc_features[:, :15], axis=0)\n",
    "        \n",
    "        print('X.shape =', X.shape)\n",
    "    \n",
    "    # Train HMM\n",
    "    hmm_trainer = HMMTrainer()\n",
    "    hmm_trainer.train(X)\n",
    "    \n",
    "    # Append HMM and label to models\n",
    "    hmm_models.append((hmm_trainer, label))\n",
    "    \n",
    "    # Reset the trainer\n",
    "    hmm_trainer = None"
   ]
  },
  {
   "cell_type": "markdown",
   "id": "ff8d55d6",
   "metadata": {
    "papermill": {
     "duration": 0.025133,
     "end_time": "2025-02-07T05:00:50.849393",
     "exception": false,
     "start_time": "2025-02-07T05:00:50.824260",
     "status": "completed"
    },
    "tags": []
   },
   "source": [
    "\n",
    "## 🛠️Model Use Flow Explanation:\n",
    "1. **Subfolder Processing**: Each subfolder corresponds to a label.\n",
    "2. **Feature Extraction**: MFCC features are extracted for all `.wav` files in the subfolder.\n",
    "3. **HMM Training**: Features are used to train an HMM for the label.\n",
    "4. **Model Storage**: Trained HMM and its label are saved for future use."
   ]
  },
  {
   "cell_type": "markdown",
   "id": "9179bf0a",
   "metadata": {
    "papermill": {
     "duration": 0.025505,
     "end_time": "2025-02-07T05:00:50.900306",
     "exception": false,
     "start_time": "2025-02-07T05:00:50.874801",
     "status": "completed"
    },
    "tags": []
   },
   "source": [
    "##  🛠️ MFCC Feature Analysis \n",
    "\n",
    "The variable **`X`** contains the concatenated **MFCC features** extracted from all `.wav` files in a subfolder. Each row represents the MFCC coefficients (up to 15, as specified) for a time frame, and the entire matrix represents the audio's spectral features for that subfolder. It is used as input for training the HMM."
   ]
  },
  {
   "cell_type": "code",
   "execution_count": 24,
   "id": "089e5369",
   "metadata": {
    "execution": {
     "iopub.execute_input": "2025-02-07T05:00:50.952546Z",
     "iopub.status.busy": "2025-02-07T05:00:50.952191Z",
     "iopub.status.idle": "2025-02-07T05:00:50.958584Z",
     "shell.execute_reply": "2025-02-07T05:00:50.957700Z"
    },
    "papermill": {
     "duration": 0.034228,
     "end_time": "2025-02-07T05:00:50.960016",
     "exception": false,
     "start_time": "2025-02-07T05:00:50.925788",
     "status": "completed"
    },
    "tags": []
   },
   "outputs": [
    {
     "data": {
      "text/plain": [
       "array([[-310.31516   , -239.39232   , -222.04097   , ..., -283.99384   ,\n",
       "        -308.0273    , -340.11975   ],\n",
       "       [ 210.89006   ,  248.39653   ,  247.94693   , ...,  233.35127   ,\n",
       "         224.59543   ,  206.28949   ],\n",
       "       [ -38.006752  ,  -66.30003   ,  -90.32977   , ...,  -58.620728  ,\n",
       "         -42.265938  ,  -28.42572   ],\n",
       "       ...,\n",
       "       [  -2.292787  ,   -3.4187686 ,    0.47804636, ...,   -7.036072  ,\n",
       "          -7.9631634 ,   -9.418622  ],\n",
       "       [   7.848727  ,    5.019228  ,    0.64853656, ...,  -10.897797  ,\n",
       "         -14.071741  ,  -12.037746  ],\n",
       "       [  -1.3645455 ,  -12.657408  ,  -19.413216  , ...,  -11.027496  ,\n",
       "         -13.686246  ,   -9.3804035 ]], dtype=float32)"
      ]
     },
     "execution_count": 24,
     "metadata": {},
     "output_type": "execute_result"
    }
   ],
   "source": [
    "#MFCC features\n",
    "X"
   ]
  },
  {
   "cell_type": "markdown",
   "id": "32aae76c",
   "metadata": {
    "papermill": {
     "duration": 0.02564,
     "end_time": "2025-02-07T05:00:51.012264",
     "exception": false,
     "start_time": "2025-02-07T05:00:50.986624",
     "status": "completed"
    },
    "tags": []
   },
   "source": [
    "### Insights:\n",
    "- **Shape**: How many time frames and coefficients are present.\n",
    "- **Statistics**: Variation and range of MFCC values, which can indicate spectral diversity.\n",
    "- **Visualization**: Temporal and spectral patterns in the audio data.\n",
    "- **Correlation**: Relationships between MFCC coefficients to identify redundancies or dependencies."
   ]
  },
  {
   "cell_type": "code",
   "execution_count": 25,
   "id": "c06fa85f",
   "metadata": {
    "execution": {
     "iopub.execute_input": "2025-02-07T05:00:51.065320Z",
     "iopub.status.busy": "2025-02-07T05:00:51.064995Z",
     "iopub.status.idle": "2025-02-07T05:00:51.070282Z",
     "shell.execute_reply": "2025-02-07T05:00:51.069249Z"
    },
    "papermill": {
     "duration": 0.033465,
     "end_time": "2025-02-07T05:00:51.071822",
     "exception": false,
     "start_time": "2025-02-07T05:00:51.038357",
     "status": "completed"
    },
    "tags": []
   },
   "outputs": [
    {
     "name": "stdout",
     "output_type": "stream",
     "text": [
      "Shape of X: (280, 15)\n"
     ]
    }
   ],
   "source": [
    "print(\"Shape of X:\", X.shape)"
   ]
  },
  {
   "cell_type": "markdown",
   "id": "37e35dcc",
   "metadata": {
    "papermill": {
     "duration": 0.026435,
     "end_time": "2025-02-07T05:00:51.124553",
     "exception": false,
     "start_time": "2025-02-07T05:00:51.098118",
     "status": "completed"
    },
    "tags": []
   },
   "source": [
    "##  📈 Output Stats "
   ]
  },
  {
   "cell_type": "code",
   "execution_count": 26,
   "id": "d3ae3201",
   "metadata": {
    "execution": {
     "iopub.execute_input": "2025-02-07T05:00:51.177571Z",
     "iopub.status.busy": "2025-02-07T05:00:51.177224Z",
     "iopub.status.idle": "2025-02-07T05:00:51.210845Z",
     "shell.execute_reply": "2025-02-07T05:00:51.209653Z"
    },
    "papermill": {
     "duration": 0.061918,
     "end_time": "2025-02-07T05:00:51.212470",
     "exception": false,
     "start_time": "2025-02-07T05:00:51.150552",
     "status": "completed"
    },
    "tags": []
   },
   "outputs": [
    {
     "data": {
      "text/html": [
       "<div>\n",
       "<style scoped>\n",
       "    .dataframe tbody tr th:only-of-type {\n",
       "        vertical-align: middle;\n",
       "    }\n",
       "\n",
       "    .dataframe tbody tr th {\n",
       "        vertical-align: top;\n",
       "    }\n",
       "\n",
       "    .dataframe thead th {\n",
       "        text-align: right;\n",
       "    }\n",
       "</style>\n",
       "<table border=\"1\" class=\"dataframe\">\n",
       "  <thead>\n",
       "    <tr style=\"text-align: right;\">\n",
       "      <th></th>\n",
       "      <th>Mean</th>\n",
       "      <th>Median</th>\n",
       "      <th>Standard Deviation</th>\n",
       "      <th>Range (Max-Min)</th>\n",
       "    </tr>\n",
       "  </thead>\n",
       "  <tbody>\n",
       "    <tr>\n",
       "      <th>MFCC_1</th>\n",
       "      <td>-19.868387</td>\n",
       "      <td>-7.301952</td>\n",
       "      <td>95.204651</td>\n",
       "      <td>723.186218</td>\n",
       "    </tr>\n",
       "    <tr>\n",
       "      <th>MFCC_2</th>\n",
       "      <td>-17.820221</td>\n",
       "      <td>-12.180065</td>\n",
       "      <td>88.657532</td>\n",
       "      <td>619.223572</td>\n",
       "    </tr>\n",
       "    <tr>\n",
       "      <th>MFCC_3</th>\n",
       "      <td>-17.784342</td>\n",
       "      <td>-12.440913</td>\n",
       "      <td>88.851891</td>\n",
       "      <td>594.312744</td>\n",
       "    </tr>\n",
       "    <tr>\n",
       "      <th>MFCC_4</th>\n",
       "      <td>-17.694849</td>\n",
       "      <td>-12.872902</td>\n",
       "      <td>90.337273</td>\n",
       "      <td>607.671753</td>\n",
       "    </tr>\n",
       "    <tr>\n",
       "      <th>MFCC_5</th>\n",
       "      <td>-17.977358</td>\n",
       "      <td>-12.573469</td>\n",
       "      <td>93.069946</td>\n",
       "      <td>649.150024</td>\n",
       "    </tr>\n",
       "    <tr>\n",
       "      <th>MFCC_6</th>\n",
       "      <td>-18.442413</td>\n",
       "      <td>-12.899935</td>\n",
       "      <td>96.833702</td>\n",
       "      <td>674.186035</td>\n",
       "    </tr>\n",
       "    <tr>\n",
       "      <th>MFCC_7</th>\n",
       "      <td>-17.973732</td>\n",
       "      <td>-11.165137</td>\n",
       "      <td>97.897774</td>\n",
       "      <td>677.498901</td>\n",
       "    </tr>\n",
       "    <tr>\n",
       "      <th>MFCC_8</th>\n",
       "      <td>-17.513025</td>\n",
       "      <td>-11.480856</td>\n",
       "      <td>96.726280</td>\n",
       "      <td>660.946411</td>\n",
       "    </tr>\n",
       "    <tr>\n",
       "      <th>MFCC_9</th>\n",
       "      <td>-17.869711</td>\n",
       "      <td>-11.051455</td>\n",
       "      <td>95.807281</td>\n",
       "      <td>653.313293</td>\n",
       "    </tr>\n",
       "    <tr>\n",
       "      <th>MFCC_10</th>\n",
       "      <td>-18.538319</td>\n",
       "      <td>-11.285243</td>\n",
       "      <td>95.568970</td>\n",
       "      <td>651.190430</td>\n",
       "    </tr>\n",
       "    <tr>\n",
       "      <th>MFCC_11</th>\n",
       "      <td>-18.693232</td>\n",
       "      <td>-10.845482</td>\n",
       "      <td>95.707092</td>\n",
       "      <td>654.530518</td>\n",
       "    </tr>\n",
       "    <tr>\n",
       "      <th>MFCC_12</th>\n",
       "      <td>-19.043404</td>\n",
       "      <td>-10.465761</td>\n",
       "      <td>95.904274</td>\n",
       "      <td>670.115295</td>\n",
       "    </tr>\n",
       "    <tr>\n",
       "      <th>MFCC_13</th>\n",
       "      <td>-18.703466</td>\n",
       "      <td>-10.558704</td>\n",
       "      <td>96.097908</td>\n",
       "      <td>671.255859</td>\n",
       "    </tr>\n",
       "    <tr>\n",
       "      <th>MFCC_14</th>\n",
       "      <td>-19.022266</td>\n",
       "      <td>-10.904725</td>\n",
       "      <td>96.387047</td>\n",
       "      <td>655.710571</td>\n",
       "    </tr>\n",
       "    <tr>\n",
       "      <th>MFCC_15</th>\n",
       "      <td>-19.704702</td>\n",
       "      <td>-9.696663</td>\n",
       "      <td>97.565620</td>\n",
       "      <td>686.194824</td>\n",
       "    </tr>\n",
       "  </tbody>\n",
       "</table>\n",
       "</div>"
      ],
      "text/plain": [
       "              Mean     Median  Standard Deviation  Range (Max-Min)\n",
       "MFCC_1  -19.868387  -7.301952           95.204651       723.186218\n",
       "MFCC_2  -17.820221 -12.180065           88.657532       619.223572\n",
       "MFCC_3  -17.784342 -12.440913           88.851891       594.312744\n",
       "MFCC_4  -17.694849 -12.872902           90.337273       607.671753\n",
       "MFCC_5  -17.977358 -12.573469           93.069946       649.150024\n",
       "MFCC_6  -18.442413 -12.899935           96.833702       674.186035\n",
       "MFCC_7  -17.973732 -11.165137           97.897774       677.498901\n",
       "MFCC_8  -17.513025 -11.480856           96.726280       660.946411\n",
       "MFCC_9  -17.869711 -11.051455           95.807281       653.313293\n",
       "MFCC_10 -18.538319 -11.285243           95.568970       651.190430\n",
       "MFCC_11 -18.693232 -10.845482           95.707092       654.530518\n",
       "MFCC_12 -19.043404 -10.465761           95.904274       670.115295\n",
       "MFCC_13 -18.703466 -10.558704           96.097908       671.255859\n",
       "MFCC_14 -19.022266 -10.904725           96.387047       655.710571\n",
       "MFCC_15 -19.704702  -9.696663           97.565620       686.194824"
      ]
     },
     "execution_count": 26,
     "metadata": {},
     "output_type": "execute_result"
    }
   ],
   "source": [
    "# Calculate statistics\n",
    "mean_values = np.mean(X, axis=0)\n",
    "median_values = np.median(X, axis=0)\n",
    "std_dev_values = np.std(X, axis=0)\n",
    "range_values = np.ptp(X, axis=0)\n",
    "\n",
    "# Combine into a DataFrame\n",
    "stats_df = pd.DataFrame({\n",
    "    \"Mean\": mean_values,\n",
    "    \"Median\": median_values,\n",
    "    \"Standard Deviation\": std_dev_values,\n",
    "    \"Range (Max-Min)\": range_values\n",
    "}, index=[f\"MFCC_{i+1}\" for i in range(X.shape[1])])\n",
    "\n",
    "#Show dataframe\n",
    "stats_df"
   ]
  },
  {
   "cell_type": "code",
   "execution_count": 27,
   "id": "a7a3acd0",
   "metadata": {
    "execution": {
     "iopub.execute_input": "2025-02-07T05:00:51.267988Z",
     "iopub.status.busy": "2025-02-07T05:00:51.267581Z",
     "iopub.status.idle": "2025-02-07T05:00:51.274469Z",
     "shell.execute_reply": "2025-02-07T05:00:51.273511Z"
    },
    "papermill": {
     "duration": 0.035557,
     "end_time": "2025-02-07T05:00:51.276069",
     "exception": false,
     "start_time": "2025-02-07T05:00:51.240512",
     "status": "completed"
    },
    "tags": []
   },
   "outputs": [
    {
     "name": "stdout",
     "output_type": "stream",
     "text": [
      "Contains NaN values: False\n",
      "Contains infinite values: False\n"
     ]
    }
   ],
   "source": [
    "print(\"Contains NaN values:\", np.isnan(X).any())\n",
    "print(\"Contains infinite values:\", np.isinf(X).any())"
   ]
  },
  {
   "cell_type": "code",
   "execution_count": 28,
   "id": "e96ed76c",
   "metadata": {
    "execution": {
     "iopub.execute_input": "2025-02-07T05:00:51.331260Z",
     "iopub.status.busy": "2025-02-07T05:00:51.330914Z",
     "iopub.status.idle": "2025-02-07T05:00:51.695072Z",
     "shell.execute_reply": "2025-02-07T05:00:51.693812Z"
    },
    "papermill": {
     "duration": 0.394413,
     "end_time": "2025-02-07T05:00:51.697007",
     "exception": false,
     "start_time": "2025-02-07T05:00:51.302594",
     "status": "completed"
    },
    "tags": []
   },
   "outputs": [
    {
     "data": {
      "image/png": "[encoded data removed]",
      "text/plain": [
       "<Figure size 1000x600 with 2 Axes>"
      ]
     },
     "metadata": {},
     "output_type": "display_data"
    }
   ],
   "source": [
    "import matplotlib.pyplot as plt\n",
    "\n",
    "plt.figure(figsize=(10, 6))\n",
    "plt.imshow(X.T, aspect='auto', origin='lower', cmap='viridis')\n",
    "plt.colorbar(label='MFCC Coefficient Value')\n",
    "plt.xlabel('Time Frame')\n",
    "plt.ylabel('MFCC Coefficient Index')\n",
    "plt.title('MFCC Feature Matrix')\n",
    "plt.show()"
   ]
  },
  {
   "cell_type": "markdown",
   "id": "acd1e6d8",
   "metadata": {
    "papermill": {
     "duration": 0.027497,
     "end_time": "2025-02-07T05:00:51.752830",
     "exception": false,
     "start_time": "2025-02-07T05:00:51.725333",
     "status": "completed"
    },
    "tags": []
   },
   "source": [
    "## 📈 Output Analysis \n",
    "\n",
    "The visualization shows the spectral characteristics of an audio signal over time:\n",
    "\n",
    "1. **X-Axis**: Represents the time frames of the audio, capturing short-term segments of the signal.\n",
    "2. **Y-Axis**: Represents the MFCC coefficients (features) for each time frame, with lower indices capturing broad spectral energy and higher indices capturing finer details.\n",
    "3. **Color Intensity**: Indicates the magnitude of the MFCC coefficients, with yellow representing higher values and purple lower values.\n",
    "\n",
    "The alternating vertical patterns suggest periodic changes in the spectral energy, possibly due to repeating or structured audio patterns like speech or music."
   ]
  },
  {
   "cell_type": "markdown",
   "id": "7617823b",
   "metadata": {
    "papermill": {
     "duration": 0.027554,
     "end_time": "2025-02-07T05:00:51.808392",
     "exception": false,
     "start_time": "2025-02-07T05:00:51.780838",
     "status": "completed"
    },
    "tags": []
   },
   "source": [
    "The **first 13 MFCCs (Mel-Frequency Cepstral Coefficients)** are extracted from an audio signal to represent its spectral characteristics. \n",
    "\n",
    "| **MFCC Index** | **Interpretation** |\n",
    "|--------------|-----------------|\n",
    "| **MFCC 1**  | Represents the overall energy of the signal (similar to loudness). |\n",
    "| **MFCC 2**  | Captures broad spectral shape, related to the formant structure. |\n",
    "| **MFCC 3**  | Represents finer details of the first formant (F1). |\n",
    "| **MFCC 4**  | Captures information about the second formant (F2). |\n",
    "| **MFCC 5**  | Describes additional spectral shape variations. |\n",
    "| **MFCC 6**  | Captures higher frequency spectral characteristics. |\n",
    "| **MFCC 7**  | Contains mid-range frequency variations. |\n",
    "| **MFCC 8**  | Represents slightly higher frequency spectral shape. |\n",
    "| **MFCC 9**  | Captures subtle frequency variations important for distinguishing phonemes. |\n",
    "| **MFCC 10** | Represents rapid spectral transitions. |\n",
    "| **MFCC 11** | Captures fine-grained variations in spectral features. |\n",
    "| **MFCC 12** | Sensitive to high-frequency spectral changes. |\n",
    "| **MFCC 13** | Represents the finest details of the speech signal. |\n",
    "\n",
    "### **Note**\n",
    "- **MFCC 1** is different from the others because it represents **energy** rather than spectral shape.\n",
    "- **MFCCs 2-13** primarily describe the **shape of the spectral envelope**, which helps in differentiating phonemes in speech recognition and identifying different sounds."
   ]
  },
  {
   "cell_type": "markdown",
   "id": "24119b06",
   "metadata": {
    "papermill": {
     "duration": 0.027473,
     "end_time": "2025-02-07T05:00:51.863747",
     "exception": false,
     "start_time": "2025-02-07T05:00:51.836274",
     "status": "completed"
    },
    "tags": []
   },
   "source": [
    "### Why Consider Only few Out of 39 Features in MFCC?\n",
    "\n",
    "MFCCs are commonly used in speech and sound processing. Typically, **39 features** are extracted per frame, but many applications reduce this to **only 13–15 features**. \n",
    "\n",
    "### **1. Reducing Dimensionality While Retaining Key Information**\n",
    "   - MFCCs capture spectral envelope information, but higher-order coefficients contribute **less to speech recognition**.\n",
    "   - Higher-order coefficients mostly capture noise and fine details that may not be useful for classification.\n",
    "\n",
    "\n",
    "### **3. Standard Acoustic Feature Set**\n",
    "   - In most speech and sound recognition tasks, the **standard feature set** consists of:\n",
    "     - **13 static MFCCs** (cepstral coefficients)\n",
    "     - **Δ (delta) MFCCs** (1st derivatives)\n",
    "     - **ΔΔ (delta-delta) MFCCs** (2nd derivatives)\n",
    "   - This results in a **39-dimensional feature vector** (**13 static + 13 Δ + 13 ΔΔ**).\n",
    "   - Reducing from **39 to 15** features significantly **lowers computational load**.\n",
    "   - Many classifiers (e.g., HMM, GMM, or DNN) perform well with just **12–15 MFCCs**."
   ]
  },
  {
   "cell_type": "code",
   "execution_count": 29,
   "id": "dd9e04af",
   "metadata": {
    "execution": {
     "iopub.execute_input": "2025-02-07T05:00:51.920861Z",
     "iopub.status.busy": "2025-02-07T05:00:51.920440Z",
     "iopub.status.idle": "2025-02-07T05:00:52.210061Z",
     "shell.execute_reply": "2025-02-07T05:00:52.208778Z"
    },
    "papermill": {
     "duration": 0.32077,
     "end_time": "2025-02-07T05:00:52.212343",
     "exception": false,
     "start_time": "2025-02-07T05:00:51.891573",
     "status": "completed"
    },
    "tags": []
   },
   "outputs": [
    {
     "data": {
      "image/png": "[encoded data removed]",
      "text/plain": [
       "<Figure size 640x480 with 2 Axes>"
      ]
     },
     "metadata": {},
     "output_type": "display_data"
    }
   ],
   "source": [
    "correlation_matrix = np.corrcoef(X.T)\n",
    "\n",
    "\n",
    "# Plot the correlation matrix\n",
    "plt.imshow(correlation_matrix, cmap='coolwarm', interpolation='nearest')\n",
    "plt.colorbar(label='Correlation Coefficient')\n",
    "plt.title('Correlation Between MFCC Coefficients')\n",
    "plt.show()"
   ]
  },
  {
   "cell_type": "markdown",
   "id": "788326b7",
   "metadata": {
    "papermill": {
     "duration": 0.040803,
     "end_time": "2025-02-07T05:00:52.296460",
     "exception": false,
     "start_time": "2025-02-07T05:00:52.255657",
     "status": "completed"
    },
    "tags": []
   },
   "source": [
    "##  📈 Heatmap Analysis \n",
    "\n",
    "Displays the relationships between different MFCC coefficients:\n",
    "\n",
    "1. **Diagonal Line**: The strong red diagonal (value = 1.0) indicates perfect self-correlation.\n",
    "2. **High Correlation**: Many off-diagonal coefficients show strong correlations (red regions), suggesting redundancy or strong relationships between certain MFCC features.\n",
    "3. **Low/Negative Correlation**: Blue areas indicate weak or negative correlations, suggesting complementary features useful for distinguishing patterns in the audio.\n",
    "\n",
    "It helps identify which features are highly interdependent and which provide unique information, useful for dimensionality reduction or feature selection."
   ]
  },
  {
   "cell_type": "code",
   "execution_count": 30,
   "id": "c7f9e42c",
   "metadata": {
    "execution": {
     "iopub.execute_input": "2025-02-07T05:00:52.357739Z",
     "iopub.status.busy": "2025-02-07T05:00:52.357316Z",
     "iopub.status.idle": "2025-02-07T05:00:52.363112Z",
     "shell.execute_reply": "2025-02-07T05:00:52.362303Z"
    },
    "papermill": {
     "duration": 0.037597,
     "end_time": "2025-02-07T05:00:52.364526",
     "exception": false,
     "start_time": "2025-02-07T05:00:52.326929",
     "status": "completed"
    },
    "tags": []
   },
   "outputs": [
    {
     "data": {
      "text/plain": [
       "[(<__main__.HMMTrainer at 0x78ff84e62500>, 'orange'),\n",
       " (<__main__.HMMTrainer at 0x78ff79528eb0>, 'lime'),\n",
       " (<__main__.HMMTrainer at 0x78ff7952b820>, 'pineapple'),\n",
       " (<__main__.HMMTrainer at 0x78ff79bb1570>, 'apple'),\n",
       " (<__main__.HMMTrainer at 0x78ff79bb21a0>, 'kiwi'),\n",
       " (<__main__.HMMTrainer at 0x78ff79bb2a70>, 'peach'),\n",
       " (<__main__.HMMTrainer at 0x78ff79f2e7a0>, 'banana')]"
      ]
     },
     "execution_count": 30,
     "metadata": {},
     "output_type": "execute_result"
    }
   ],
   "source": [
    "hmm_models"
   ]
  },
  {
   "cell_type": "code",
   "execution_count": 31,
   "id": "6b2e11b2",
   "metadata": {
    "execution": {
     "iopub.execute_input": "2025-02-07T05:00:52.424082Z",
     "iopub.status.busy": "2025-02-07T05:00:52.423686Z",
     "iopub.status.idle": "2025-02-07T05:00:52.429303Z",
     "shell.execute_reply": "2025-02-07T05:00:52.428281Z"
    },
    "papermill": {
     "duration": 0.037133,
     "end_time": "2025-02-07T05:00:52.431045",
     "exception": false,
     "start_time": "2025-02-07T05:00:52.393912",
     "status": "completed"
    },
    "tags": []
   },
   "outputs": [
    {
     "data": {
      "text/plain": [
       "7"
      ]
     },
     "execution_count": 31,
     "metadata": {},
     "output_type": "execute_result"
    }
   ],
   "source": [
    "len(hmm_models)"
   ]
  },
  {
   "cell_type": "markdown",
   "id": "3a7654ee",
   "metadata": {
    "papermill": {
     "duration": 0.031268,
     "end_time": "2025-02-07T05:00:52.492414",
     "exception": false,
     "start_time": "2025-02-07T05:00:52.461146",
     "status": "completed"
    },
    "tags": []
   },
   "source": [
    "## 📈 Load new data for Testing\n",
    "\n",
    "List of **file paths** to specific `.wav` audio files from different subfolders (representing labels) in a dataset. "
   ]
  },
  {
   "cell_type": "code",
   "execution_count": 32,
   "id": "bff47996",
   "metadata": {
    "execution": {
     "iopub.execute_input": "2025-02-07T05:00:52.552443Z",
     "iopub.status.busy": "2025-02-07T05:00:52.552111Z",
     "iopub.status.idle": "2025-02-07T05:00:52.556208Z",
     "shell.execute_reply": "2025-02-07T05:00:52.555169Z"
    },
    "papermill": {
     "duration": 0.035729,
     "end_time": "2025-02-07T05:00:52.557861",
     "exception": false,
     "start_time": "2025-02-07T05:00:52.522132",
     "status": "completed"
    },
    "tags": []
   },
   "outputs": [],
   "source": [
    "input_files = [\n",
    "'/kaggle/input/spech-model-dataset/audio/pineapple/pineapple15.wav',\n",
    "'/kaggle/input/spech-model-dataset/audio/orange/orange15.wav',\n",
    "'/kaggle/input/spech-model-dataset/audio/apple/apple15.wav',\n",
    "'/kaggle/input/spech-model-dataset/audio/kiwi/kiwi15.wav'\n",
    "]"
   ]
  },
  {
   "cell_type": "markdown",
   "id": "7cc30e3b",
   "metadata": {
    "papermill": {
     "duration": 0.029023,
     "end_time": "2025-02-07T05:00:52.616808",
     "exception": false,
     "start_time": "2025-02-07T05:00:52.587785",
     "status": "completed"
    },
    "tags": []
   },
   "source": [
    "## 📈 **Model Testing**  \n",
    "\n",
    "1. **Iterate Through Models**\n",
    "2. **Load Input Audio**\n",
    "3. **Extract Features**\n",
    "4. **Calculate Scores**\n",
    "5. **Find Best Match**\n",
    "6. **Output Results**"
   ]
  },
  {
   "cell_type": "code",
   "execution_count": 33,
   "id": "145bef71",
   "metadata": {
    "execution": {
     "iopub.execute_input": "2025-02-07T05:00:52.677041Z",
     "iopub.status.busy": "2025-02-07T05:00:52.676621Z",
     "iopub.status.idle": "2025-02-07T05:00:52.694817Z",
     "shell.execute_reply": "2025-02-07T05:00:52.693675Z"
    },
    "papermill": {
     "duration": 0.050552,
     "end_time": "2025-02-07T05:00:52.696615",
     "exception": false,
     "start_time": "2025-02-07T05:00:52.646063",
     "status": "completed"
    },
    "tags": []
   },
   "outputs": [
    {
     "name": "stdout",
     "output_type": "stream",
     "text": [
      "\n",
      "True: /kaggle/input/spech-model-dataset/audio/orange/orange15.wav\n",
      "Predicted: orange\n"
     ]
    }
   ],
   "source": [
    "scores = []\n",
    "\n",
    "# Extract MFCC features with 15 coefficients, consistent with training data\n",
    "audio, sampling_freq = librosa.load(input_files[1])\n",
    "mfcc_features = mfcc(y=audio, sr=sampling_freq)[:, :15]\n",
    "\n",
    "# Iterate through trained HMM models\n",
    "for item in hmm_models:\n",
    "    hmm_model, label = item\n",
    "    \n",
    "    # Get the log-likelihood score for the input features\n",
    "    score = hmm_model.get_score(mfcc_features)\n",
    "    scores.append(score)\n",
    "\n",
    "# Find the model with the highest score\n",
    "index = np.array(scores).argmax()\n",
    "\n",
    "# Print the true label and predicted label\n",
    "print(\"\\nTrue:\", input_files[1])\n",
    "print(\"Predicted:\", hmm_models[index][1])\n"
   ]
  },
  {
   "cell_type": "code",
   "execution_count": 34,
   "id": "7b7b09d6",
   "metadata": {
    "execution": {
     "iopub.execute_input": "2025-02-07T05:00:52.756986Z",
     "iopub.status.busy": "2025-02-07T05:00:52.756553Z",
     "iopub.status.idle": "2025-02-07T05:00:52.762528Z",
     "shell.execute_reply": "2025-02-07T05:00:52.761513Z"
    },
    "papermill": {
     "duration": 0.037825,
     "end_time": "2025-02-07T05:00:52.764115",
     "exception": false,
     "start_time": "2025-02-07T05:00:52.726290",
     "status": "completed"
    },
    "tags": []
   },
   "outputs": [
    {
     "data": {
      "text/plain": [
       "[(<__main__.HMMTrainer at 0x78ff84e62500>, 'orange'),\n",
       " (<__main__.HMMTrainer at 0x78ff79528eb0>, 'lime'),\n",
       " (<__main__.HMMTrainer at 0x78ff7952b820>, 'pineapple'),\n",
       " (<__main__.HMMTrainer at 0x78ff79bb1570>, 'apple'),\n",
       " (<__main__.HMMTrainer at 0x78ff79bb21a0>, 'kiwi'),\n",
       " (<__main__.HMMTrainer at 0x78ff79bb2a70>, 'peach'),\n",
       " (<__main__.HMMTrainer at 0x78ff79f2e7a0>, 'banana')]"
      ]
     },
     "execution_count": 34,
     "metadata": {},
     "output_type": "execute_result"
    }
   ],
   "source": [
    "hmm_models"
   ]
  },
  {
   "cell_type": "code",
   "execution_count": 35,
   "id": "e7175f9e",
   "metadata": {
    "execution": {
     "iopub.execute_input": "2025-02-07T05:00:52.825335Z",
     "iopub.status.busy": "2025-02-07T05:00:52.824965Z",
     "iopub.status.idle": "2025-02-07T05:00:52.830617Z",
     "shell.execute_reply": "2025-02-07T05:00:52.829590Z"
    },
    "papermill": {
     "duration": 0.037603,
     "end_time": "2025-02-07T05:00:52.832294",
     "exception": false,
     "start_time": "2025-02-07T05:00:52.794691",
     "status": "completed"
    },
    "tags": []
   },
   "outputs": [
    {
     "data": {
      "text/plain": [
       "[-1187.5701003390666,\n",
       " -1325.901441129756,\n",
       " -1253.0021359660143,\n",
       " -1303.8144265297105,\n",
       " -1545.252836929304,\n",
       " -1424.4897298682004,\n",
       " -1283.600033318803]"
      ]
     },
     "execution_count": 35,
     "metadata": {},
     "output_type": "execute_result"
    }
   ],
   "source": [
    "scores"
   ]
  },
  {
   "cell_type": "markdown",
   "id": "68b8dd9a",
   "metadata": {
    "papermill": {
     "duration": 0.029291,
     "end_time": "2025-02-07T05:00:52.891794",
     "exception": false,
     "start_time": "2025-02-07T05:00:52.862503",
     "status": "completed"
    },
    "tags": []
   },
   "source": [
    "## 📈 **Score Analysis** \n",
    "\n",
    "* Each score represents the log-likelihood of the input MFCC features matching a particular model (label).\n",
    "* The higher (less negative) the score, the better the fit between the features and the corresponding model"
   ]
  },
  {
   "cell_type": "markdown",
   "id": "c33f7c05",
   "metadata": {
    "papermill": {
     "duration": 0.029991,
     "end_time": "2025-02-07T05:00:52.952090",
     "exception": false,
     "start_time": "2025-02-07T05:00:52.922099",
     "status": "completed"
    },
    "tags": []
   },
   "source": [
    "## **Alternative to Hidden Markov Models (HMM)**\n",
    "\n",
    "\n",
    "* **Gaussian Mixture Models**\n",
    "* **Dynamic Time Warping**\n",
    "* **Recurrent Neural Networks**\n",
    "* **Convolutional Neural Networks for Sequential Data**\n",
    "* **Transformers**\n",
    "* **Kalman Filters**\n",
    "* **WaveNet**\n",
    "* **Autoregressive Models (ARIMA)**\n",
    "* **Support Vector Machines for Sequential Kernels**\n",
    "\n",
    "\n",
    "### Application area: \n",
    "- For **traditional tasks**: HMM, GMM, and Kalman Filters are reliable.\n",
    "- For **modern approaches**: RNNs, Transformers, and CNNs offer greater flexibility and accuracy but require more data and computation.\n",
    "- **Emerging trends**: Models like WaveNet and Transformers are setting new standards in speech and audio processing.\n"
   ]
  },
  {
   "cell_type": "markdown",
   "id": "a5152688",
   "metadata": {
    "papermill": {
     "duration": 0.034547,
     "end_time": "2025-02-07T05:00:53.020032",
     "exception": false,
     "start_time": "2025-02-07T05:00:52.985485",
     "status": "completed"
    },
    "tags": []
   },
   "source": [
    "##  🛠️ Single Model Solution"
   ]
  },
  {
   "cell_type": "code",
   "execution_count": 36,
   "id": "f2c0eb79",
   "metadata": {
    "execution": {
     "iopub.execute_input": "2025-02-07T05:00:53.086417Z",
     "iopub.status.busy": "2025-02-07T05:00:53.085903Z",
     "iopub.status.idle": "2025-02-07T05:00:53.091505Z",
     "shell.execute_reply": "2025-02-07T05:00:53.090410Z"
    },
    "papermill": {
     "duration": 0.039615,
     "end_time": "2025-02-07T05:00:53.093386",
     "exception": false,
     "start_time": "2025-02-07T05:00:53.053771",
     "status": "completed"
    },
    "tags": []
   },
   "outputs": [],
   "source": [
    "import os\n",
    "import numpy as np\n",
    "import librosa\n",
    "from sklearn.linear_model import LogisticRegression\n",
    "from librosa.feature import mfcc\n",
    "from hmmlearn import hmm"
   ]
  },
  {
   "cell_type": "code",
   "execution_count": 37,
   "id": "827a3b2e",
   "metadata": {
    "execution": {
     "iopub.execute_input": "2025-02-07T05:00:53.157202Z",
     "iopub.status.busy": "2025-02-07T05:00:53.156818Z",
     "iopub.status.idle": "2025-02-07T05:00:53.162223Z",
     "shell.execute_reply": "2025-02-07T05:00:53.160841Z"
    },
    "papermill": {
     "duration": 0.039827,
     "end_time": "2025-02-07T05:00:53.164227",
     "exception": false,
     "start_time": "2025-02-07T05:00:53.124400",
     "status": "completed"
    },
    "tags": []
   },
   "outputs": [],
   "source": [
    "# Initialize variables\n",
    "X_combined = np.array([])  # Combined MFCC features for all words\n",
    "y_labels = []              # Labels for word-level classification\n",
    "word_labels = []           # List of unique word labels"
   ]
  },
  {
   "cell_type": "code",
   "execution_count": 38,
   "id": "624f8734",
   "metadata": {
    "execution": {
     "iopub.execute_input": "2025-02-07T05:00:53.238868Z",
     "iopub.status.busy": "2025-02-07T05:00:53.238447Z",
     "iopub.status.idle": "2025-02-07T05:00:54.287636Z",
     "shell.execute_reply": "2025-02-07T05:00:54.286805Z"
    },
    "papermill": {
     "duration": 1.08361,
     "end_time": "2025-02-07T05:00:54.289484",
     "exception": false,
     "start_time": "2025-02-07T05:00:53.205874",
     "status": "completed"
    },
    "tags": []
   },
   "outputs": [],
   "source": [
    "# Iterate through subfolders (each word label)\n",
    "for dirname in os.listdir('/kaggle/input/spech-model-dataset/audio'):\n",
    "    subfolder = os.path.join('/kaggle/input/spech-model-dataset/audio', dirname)\n",
    "    if not os.path.isdir(subfolder):\n",
    "        continue\n",
    "    \n",
    "    label = subfolder[subfolder.rfind('/') + 1:]  # Extract label\n",
    "    word_labels.append(label)  # Store the label\n",
    "    \n",
    "    # Extract MFCC features for each audio file\n",
    "    for filename in [x for x in os.listdir(subfolder) if x.endswith('.wav')]:\n",
    "        filepath = os.path.join(subfolder, filename)\n",
    "        audio, sampling_freq = librosa.load(filepath)\n",
    "        mfcc_features = mfcc(y=audio, sr=sampling_freq)[:, :15]\n",
    "        \n",
    "        # Append MFCC features to combined data\n",
    "        if len(X_combined) == 0:\n",
    "            X_combined = mfcc_features\n",
    "        else:\n",
    "            X_combined = np.append(X_combined, mfcc_features, axis=0)\n",
    "        \n",
    "        y_labels.append(label)  # Append label for each audio file"
   ]
  },
  {
   "cell_type": "code",
   "execution_count": 39,
   "id": "0bc94300",
   "metadata": {
    "execution": {
     "iopub.execute_input": "2025-02-07T05:00:54.354387Z",
     "iopub.status.busy": "2025-02-07T05:00:54.354007Z",
     "iopub.status.idle": "2025-02-07T05:00:55.134781Z",
     "shell.execute_reply": "2025-02-07T05:00:55.133780Z"
    },
    "papermill": {
     "duration": 0.813293,
     "end_time": "2025-02-07T05:00:55.136462",
     "exception": false,
     "start_time": "2025-02-07T05:00:54.323169",
     "status": "completed"
    },
    "tags": []
   },
   "outputs": [
    {
     "data": {
      "text/html": [
       "<style>#sk-container-id-1 {color: black;background-color: white;}#sk-container-id-1 pre{padding: 0;}#sk-container-id-1 div.sk-toggleable {background-color: white;}#sk-container-id-1 label.sk-toggleable__label {cursor: pointer;display: block;width: 100%;margin-bottom: 0;padding: 0.3em;box-sizing: border-box;text-align: center;}#sk-container-id-1 label.sk-toggleable__label-arrow:before {content: \"▸\";float: left;margin-right: 0.25em;color: #696969;}#sk-container-id-1 label.sk-toggleable__label-arrow:hover:before {color: black;}#sk-container-id-1 div.sk-estimator:hover label.sk-toggleable__label-arrow:before {color: black;}#sk-container-id-1 div.sk-toggleable__content {max-height: 0;max-width: 0;overflow: hidden;text-align: left;background-color: #f0f8ff;}#sk-container-id-1 div.sk-toggleable__content pre {margin: 0.2em;color: black;border-radius: 0.25em;background-color: #f0f8ff;}#sk-container-id-1 input.sk-toggleable__control:checked~div.sk-toggleable__content {max-height: 200px;max-width: 100%;overflow: auto;}#sk-container-id-1 input.sk-toggleable__control:checked~label.sk-toggleable__label-arrow:before {content: \"▾\";}#sk-container-id-1 div.sk-estimator input.sk-toggleable__control:checked~label.sk-toggleable__label {background-color: #d4ebff;}#sk-container-id-1 div.sk-label input.sk-toggleable__control:checked~label.sk-toggleable__label {background-color: #d4ebff;}#sk-container-id-1 input.sk-hidden--visually {border: 0;clip: rect(1px 1px 1px 1px);clip: rect(1px, 1px, 1px, 1px);height: 1px;margin: -1px;overflow: hidden;padding: 0;position: absolute;width: 1px;}#sk-container-id-1 div.sk-estimator {font-family: monospace;background-color: #f0f8ff;border: 1px dotted black;border-radius: 0.25em;box-sizing: border-box;margin-bottom: 0.5em;}#sk-container-id-1 div.sk-estimator:hover {background-color: #d4ebff;}#sk-container-id-1 div.sk-parallel-item::after {content: \"\";width: 100%;border-bottom: 1px solid gray;flex-grow: 1;}#sk-container-id-1 div.sk-label:hover label.sk-toggleable__label {background-color: #d4ebff;}#sk-container-id-1 div.sk-serial::before {content: \"\";position: absolute;border-left: 1px solid gray;box-sizing: border-box;top: 0;bottom: 0;left: 50%;z-index: 0;}#sk-container-id-1 div.sk-serial {display: flex;flex-direction: column;align-items: center;background-color: white;padding-right: 0.2em;padding-left: 0.2em;position: relative;}#sk-container-id-1 div.sk-item {position: relative;z-index: 1;}#sk-container-id-1 div.sk-parallel {display: flex;align-items: stretch;justify-content: center;background-color: white;position: relative;}#sk-container-id-1 div.sk-item::before, #sk-container-id-1 div.sk-parallel-item::before {content: \"\";position: absolute;border-left: 1px solid gray;box-sizing: border-box;top: 0;bottom: 0;left: 50%;z-index: -1;}#sk-container-id-1 div.sk-parallel-item {display: flex;flex-direction: column;z-index: 1;position: relative;background-color: white;}#sk-container-id-1 div.sk-parallel-item:first-child::after {align-self: flex-end;width: 50%;}#sk-container-id-1 div.sk-parallel-item:last-child::after {align-self: flex-start;width: 50%;}#sk-container-id-1 div.sk-parallel-item:only-child::after {width: 0;}#sk-container-id-1 div.sk-dashed-wrapped {border: 1px dashed gray;margin: 0 0.4em 0.5em 0.4em;box-sizing: border-box;padding-bottom: 0.4em;background-color: white;}#sk-container-id-1 div.sk-label label {font-family: monospace;font-weight: bold;display: inline-block;line-height: 1.2em;}#sk-container-id-1 div.sk-label-container {text-align: center;}#sk-container-id-1 div.sk-container {/* jupyter's `normalize.less` sets `[hidden] { display: none; }` but bootstrap.min.css set `[hidden] { display: none !important; }` so we also need the `!important` here to be able to override the default hidden behavior on the sphinx rendered scikit-learn.org. See: https://github.com/scikit-learn/scikit-learn/issues/21755 */display: inline-block !important;position: relative;}#sk-container-id-1 div.sk-text-repr-fallback {display: none;}</style><div id=\"sk-container-id-1\" class=\"sk-top-container\"><div class=\"sk-text-repr-fallback\"><pre>GaussianHMM(n_components=10, n_iter=100)</pre><b>In a Jupyter environment, please rerun this cell to show the HTML representation or trust the notebook. <br />On GitHub, the HTML representation is unable to render, please try loading this page with nbviewer.org.</b></div><div class=\"sk-container\" hidden><div class=\"sk-item\"><div class=\"sk-estimator sk-toggleable\"><input class=\"sk-toggleable__control sk-hidden--visually\" id=\"sk-estimator-id-1\" type=\"checkbox\" checked><label for=\"sk-estimator-id-1\" class=\"sk-toggleable__label sk-toggleable__label-arrow\">GaussianHMM</label><div class=\"sk-toggleable__content\"><pre>GaussianHMM(n_components=10, n_iter=100)</pre></div></div></div></div></div>"
      ],
      "text/plain": [
       "GaussianHMM(n_components=10, n_iter=100)"
      ]
     },
     "execution_count": 39,
     "metadata": {},
     "output_type": "execute_result"
    }
   ],
   "source": [
    "# Train a shared HMM for all words\n",
    "shared_hmm = hmm.GaussianHMM(n_components=10, covariance_type='diag', n_iter=100)\n",
    "shared_hmm.fit(X_combined)"
   ]
  },
  {
   "cell_type": "code",
   "execution_count": 40,
   "id": "bf32d2a3",
   "metadata": {
    "execution": {
     "iopub.execute_input": "2025-02-07T05:00:55.197303Z",
     "iopub.status.busy": "2025-02-07T05:00:55.196958Z",
     "iopub.status.idle": "2025-02-07T05:00:56.007652Z",
     "shell.execute_reply": "2025-02-07T05:00:56.006788Z"
    },
    "papermill": {
     "duration": 0.843053,
     "end_time": "2025-02-07T05:00:56.009542",
     "exception": false,
     "start_time": "2025-02-07T05:00:55.166489",
     "status": "completed"
    },
    "tags": []
   },
   "outputs": [],
   "source": [
    "# Compute log-likelihood scores for each word\n",
    "log_likelihoods = []\n",
    "\n",
    "for dirname in os.listdir('/kaggle/input/spech-model-dataset/audio'):\n",
    "    subfolder = os.path.join('/kaggle/input/spech-model-dataset/audio', dirname)\n",
    "    if not os.path.isdir(subfolder):\n",
    "        continue\n",
    "    \n",
    "    label = subfolder[subfolder.rfind('/') + 1:]  # Label\n",
    "    word_lls = []  # Log-likelihoods for this word\n",
    "    \n",
    "    for filename in [x for x in os.listdir(subfolder) if x.endswith('.wav')]:\n",
    "        filepath = os.path.join(subfolder, filename)\n",
    "        audio, sampling_freq = librosa.load(filepath)\n",
    "        mfcc_features = mfcc(y=audio, sr=sampling_freq)[:, :15]\n",
    "        \n",
    "        # Get log-likelihood for this file\n",
    "        score = shared_hmm.score(mfcc_features)\n",
    "        word_lls.append(score)\n",
    "    \n",
    "    log_likelihoods.append(word_lls)"
   ]
  },
  {
   "cell_type": "code",
   "execution_count": 41,
   "id": "983f1430",
   "metadata": {
    "execution": {
     "iopub.execute_input": "2025-02-07T05:00:56.071643Z",
     "iopub.status.busy": "2025-02-07T05:00:56.071302Z",
     "iopub.status.idle": "2025-02-07T05:00:56.075657Z",
     "shell.execute_reply": "2025-02-07T05:00:56.074807Z"
    },
    "papermill": {
     "duration": 0.037222,
     "end_time": "2025-02-07T05:00:56.077408",
     "exception": false,
     "start_time": "2025-02-07T05:00:56.040186",
     "status": "completed"
    },
    "tags": []
   },
   "outputs": [],
   "source": [
    "# Convert log-likelihoods into feature matrix for classification\n",
    "X_classifier = np.array([ll for sublist in log_likelihoods for ll in sublist])\n",
    "y_classifier = np.array(y_labels)"
   ]
  },
  {
   "cell_type": "code",
   "execution_count": 42,
   "id": "f772c2ab",
   "metadata": {
    "execution": {
     "iopub.execute_input": "2025-02-07T05:00:56.140016Z",
     "iopub.status.busy": "2025-02-07T05:00:56.139634Z",
     "iopub.status.idle": "2025-02-07T05:00:56.145197Z",
     "shell.execute_reply": "2025-02-07T05:00:56.144252Z"
    },
    "papermill": {
     "duration": 0.038598,
     "end_time": "2025-02-07T05:00:56.146837",
     "exception": false,
     "start_time": "2025-02-07T05:00:56.108239",
     "status": "completed"
    },
    "tags": []
   },
   "outputs": [
    {
     "data": {
      "text/plain": [
       "(105,)"
      ]
     },
     "execution_count": 42,
     "metadata": {},
     "output_type": "execute_result"
    }
   ],
   "source": [
    "X_classifier.shape"
   ]
  },
  {
   "cell_type": "code",
   "execution_count": 43,
   "id": "821f1037",
   "metadata": {
    "execution": {
     "iopub.execute_input": "2025-02-07T05:00:56.209881Z",
     "iopub.status.busy": "2025-02-07T05:00:56.209485Z",
     "iopub.status.idle": "2025-02-07T05:00:56.214945Z",
     "shell.execute_reply": "2025-02-07T05:00:56.213921Z"
    },
    "papermill": {
     "duration": 0.038519,
     "end_time": "2025-02-07T05:00:56.216588",
     "exception": false,
     "start_time": "2025-02-07T05:00:56.178069",
     "status": "completed"
    },
    "tags": []
   },
   "outputs": [
    {
     "data": {
      "text/plain": [
       "(105,)"
      ]
     },
     "execution_count": 43,
     "metadata": {},
     "output_type": "execute_result"
    }
   ],
   "source": [
    "y_classifier.shape"
   ]
  },
  {
   "cell_type": "code",
   "execution_count": 44,
   "id": "f3978a9a",
   "metadata": {
    "execution": {
     "iopub.execute_input": "2025-02-07T05:00:56.280294Z",
     "iopub.status.busy": "2025-02-07T05:00:56.279964Z",
     "iopub.status.idle": "2025-02-07T05:00:56.297456Z",
     "shell.execute_reply": "2025-02-07T05:00:56.296578Z"
    },
    "papermill": {
     "duration": 0.050632,
     "end_time": "2025-02-07T05:00:56.299139",
     "exception": false,
     "start_time": "2025-02-07T05:00:56.248507",
     "status": "completed"
    },
    "tags": []
   },
   "outputs": [
    {
     "data": {
      "text/html": [
       "<style>#sk-container-id-2 {color: black;background-color: white;}#sk-container-id-2 pre{padding: 0;}#sk-container-id-2 div.sk-toggleable {background-color: white;}#sk-container-id-2 label.sk-toggleable__label {cursor: pointer;display: block;width: 100%;margin-bottom: 0;padding: 0.3em;box-sizing: border-box;text-align: center;}#sk-container-id-2 label.sk-toggleable__label-arrow:before {content: \"▸\";float: left;margin-right: 0.25em;color: #696969;}#sk-container-id-2 label.sk-toggleable__label-arrow:hover:before {color: black;}#sk-container-id-2 div.sk-estimator:hover label.sk-toggleable__label-arrow:before {color: black;}#sk-container-id-2 div.sk-toggleable__content {max-height: 0;max-width: 0;overflow: hidden;text-align: left;background-color: #f0f8ff;}#sk-container-id-2 div.sk-toggleable__content pre {margin: 0.2em;color: black;border-radius: 0.25em;background-color: #f0f8ff;}#sk-container-id-2 input.sk-toggleable__control:checked~div.sk-toggleable__content {max-height: 200px;max-width: 100%;overflow: auto;}#sk-container-id-2 input.sk-toggleable__control:checked~label.sk-toggleable__label-arrow:before {content: \"▾\";}#sk-container-id-2 div.sk-estimator input.sk-toggleable__control:checked~label.sk-toggleable__label {background-color: #d4ebff;}#sk-container-id-2 div.sk-label input.sk-toggleable__control:checked~label.sk-toggleable__label {background-color: #d4ebff;}#sk-container-id-2 input.sk-hidden--visually {border: 0;clip: rect(1px 1px 1px 1px);clip: rect(1px, 1px, 1px, 1px);height: 1px;margin: -1px;overflow: hidden;padding: 0;position: absolute;width: 1px;}#sk-container-id-2 div.sk-estimator {font-family: monospace;background-color: #f0f8ff;border: 1px dotted black;border-radius: 0.25em;box-sizing: border-box;margin-bottom: 0.5em;}#sk-container-id-2 div.sk-estimator:hover {background-color: #d4ebff;}#sk-container-id-2 div.sk-parallel-item::after {content: \"\";width: 100%;border-bottom: 1px solid gray;flex-grow: 1;}#sk-container-id-2 div.sk-label:hover label.sk-toggleable__label {background-color: #d4ebff;}#sk-container-id-2 div.sk-serial::before {content: \"\";position: absolute;border-left: 1px solid gray;box-sizing: border-box;top: 0;bottom: 0;left: 50%;z-index: 0;}#sk-container-id-2 div.sk-serial {display: flex;flex-direction: column;align-items: center;background-color: white;padding-right: 0.2em;padding-left: 0.2em;position: relative;}#sk-container-id-2 div.sk-item {position: relative;z-index: 1;}#sk-container-id-2 div.sk-parallel {display: flex;align-items: stretch;justify-content: center;background-color: white;position: relative;}#sk-container-id-2 div.sk-item::before, #sk-container-id-2 div.sk-parallel-item::before {content: \"\";position: absolute;border-left: 1px solid gray;box-sizing: border-box;top: 0;bottom: 0;left: 50%;z-index: -1;}#sk-container-id-2 div.sk-parallel-item {display: flex;flex-direction: column;z-index: 1;position: relative;background-color: white;}#sk-container-id-2 div.sk-parallel-item:first-child::after {align-self: flex-end;width: 50%;}#sk-container-id-2 div.sk-parallel-item:last-child::after {align-self: flex-start;width: 50%;}#sk-container-id-2 div.sk-parallel-item:only-child::after {width: 0;}#sk-container-id-2 div.sk-dashed-wrapped {border: 1px dashed gray;margin: 0 0.4em 0.5em 0.4em;box-sizing: border-box;padding-bottom: 0.4em;background-color: white;}#sk-container-id-2 div.sk-label label {font-family: monospace;font-weight: bold;display: inline-block;line-height: 1.2em;}#sk-container-id-2 div.sk-label-container {text-align: center;}#sk-container-id-2 div.sk-container {/* jupyter's `normalize.less` sets `[hidden] { display: none; }` but bootstrap.min.css set `[hidden] { display: none !important; }` so we also need the `!important` here to be able to override the default hidden behavior on the sphinx rendered scikit-learn.org. See: https://github.com/scikit-learn/scikit-learn/issues/21755 */display: inline-block !important;position: relative;}#sk-container-id-2 div.sk-text-repr-fallback {display: none;}</style><div id=\"sk-container-id-2\" class=\"sk-top-container\"><div class=\"sk-text-repr-fallback\"><pre>LogisticRegression(max_iter=1000)</pre><b>In a Jupyter environment, please rerun this cell to show the HTML representation or trust the notebook. <br />On GitHub, the HTML representation is unable to render, please try loading this page with nbviewer.org.</b></div><div class=\"sk-container\" hidden><div class=\"sk-item\"><div class=\"sk-estimator sk-toggleable\"><input class=\"sk-toggleable__control sk-hidden--visually\" id=\"sk-estimator-id-2\" type=\"checkbox\" checked><label for=\"sk-estimator-id-2\" class=\"sk-toggleable__label sk-toggleable__label-arrow\">LogisticRegression</label><div class=\"sk-toggleable__content\"><pre>LogisticRegression(max_iter=1000)</pre></div></div></div></div></div>"
      ],
      "text/plain": [
       "LogisticRegression(max_iter=1000)"
      ]
     },
     "execution_count": 44,
     "metadata": {},
     "output_type": "execute_result"
    }
   ],
   "source": [
    "# Train a Logistic Regression classifier\n",
    "classifier = LogisticRegression(max_iter=1000)\n",
    "classifier.fit(X_classifier.reshape(-1, 1), y_classifier)"
   ]
  },
  {
   "cell_type": "code",
   "execution_count": 45,
   "id": "6f8758a6",
   "metadata": {
    "execution": {
     "iopub.execute_input": "2025-02-07T05:00:56.362010Z",
     "iopub.status.busy": "2025-02-07T05:00:56.361609Z",
     "iopub.status.idle": "2025-02-07T05:00:56.378060Z",
     "shell.execute_reply": "2025-02-07T05:00:56.376692Z"
    },
    "papermill": {
     "duration": 0.049819,
     "end_time": "2025-02-07T05:00:56.379694",
     "exception": false,
     "start_time": "2025-02-07T05:00:56.329875",
     "status": "completed"
    },
    "tags": []
   },
   "outputs": [
    {
     "name": "stdout",
     "output_type": "stream",
     "text": [
      "Input file: /kaggle/input/spech-model-dataset/audio/orange/orange15.wav\n",
      "Predicted label: peach\n"
     ]
    }
   ],
   "source": [
    "# Test the shared HMM and word-level classifier\n",
    "input_file = '/kaggle/input/spech-model-dataset/audio/orange/orange15.wav'\n",
    "\n",
    "# Extract MFCC features from the input file\n",
    "audio, sampling_freq = librosa.load(input_file)\n",
    "mfcc_features = mfcc(y=audio, sr=sampling_freq)[:, :15]\n",
    "\n",
    "# Get the log-likelihood score for the input\n",
    "test_score = shared_hmm.score(mfcc_features)\n",
    "\n",
    "# Use the classifier to predict the label\n",
    "predicted_label = classifier.predict([[test_score]])\n",
    "\n",
    "# Print results\n",
    "print(\"Input file:\", input_file)\n",
    "print(\"Predicted label:\", predicted_label[0])"
   ]
  },
  {
   "cell_type": "code",
   "execution_count": 46,
   "id": "bb6a83eb",
   "metadata": {
    "execution": {
     "iopub.execute_input": "2025-02-07T05:00:56.443024Z",
     "iopub.status.busy": "2025-02-07T05:00:56.442664Z",
     "iopub.status.idle": "2025-02-07T05:00:56.460320Z",
     "shell.execute_reply": "2025-02-07T05:00:56.459126Z"
    },
    "papermill": {
     "duration": 0.050659,
     "end_time": "2025-02-07T05:00:56.462016",
     "exception": false,
     "start_time": "2025-02-07T05:00:56.411357",
     "status": "completed"
    },
    "tags": []
   },
   "outputs": [
    {
     "name": "stdout",
     "output_type": "stream",
     "text": [
      "              precision    recall  f1-score   support\n",
      "\n",
      "       apple       0.00      0.00      0.00        15\n",
      "      banana       0.00      0.00      0.00        15\n",
      "        kiwi       0.00      0.00      0.00        15\n",
      "        lime       0.00      0.00      0.00        15\n",
      "      orange       0.00      0.00      0.00        15\n",
      "       peach       0.14      1.00      0.25        15\n",
      "   pineapple       0.00      0.00      0.00        15\n",
      "\n",
      "    accuracy                           0.14       105\n",
      "   macro avg       0.02      0.14      0.04       105\n",
      "weighted avg       0.02      0.14      0.04       105\n",
      "\n"
     ]
    },
    {
     "name": "stderr",
     "output_type": "stream",
     "text": [
      "/usr/local/lib/python3.10/dist-packages/sklearn/metrics/_classification.py:1344: UndefinedMetricWarning: Precision and F-score are ill-defined and being set to 0.0 in labels with no predicted samples. Use `zero_division` parameter to control this behavior.\n",
      "  _warn_prf(average, modifier, msg_start, len(result))\n",
      "/usr/local/lib/python3.10/dist-packages/sklearn/metrics/_classification.py:1344: UndefinedMetricWarning: Precision and F-score are ill-defined and being set to 0.0 in labels with no predicted samples. Use `zero_division` parameter to control this behavior.\n",
      "  _warn_prf(average, modifier, msg_start, len(result))\n",
      "/usr/local/lib/python3.10/dist-packages/sklearn/metrics/_classification.py:1344: UndefinedMetricWarning: Precision and F-score are ill-defined and being set to 0.0 in labels with no predicted samples. Use `zero_division` parameter to control this behavior.\n",
      "  _warn_prf(average, modifier, msg_start, len(result))\n"
     ]
    }
   ],
   "source": [
    "from sklearn.metrics import classification_report\n",
    "y_pred = classifier.predict(X_classifier.reshape(-1, 1))\n",
    "print(classification_report(y_classifier, y_pred))"
   ]
  },
  {
   "cell_type": "markdown",
   "id": "6cb02182",
   "metadata": {
    "papermill": {
     "duration": 0.030734,
     "end_time": "2025-02-07T05:00:56.523848",
     "exception": false,
     "start_time": "2025-02-07T05:00:56.493114",
     "status": "completed"
    },
    "tags": []
   },
   "source": [
    "#### Performance Failure, Single Model Fails\n",
    "\n",
    "Let's Try Again"
   ]
  },
  {
   "cell_type": "markdown",
   "id": "24c3ac95",
   "metadata": {
    "papermill": {
     "duration": 0.030828,
     "end_time": "2025-02-07T05:00:56.586137",
     "exception": false,
     "start_time": "2025-02-07T05:00:56.555309",
     "status": "completed"
    },
    "tags": []
   },
   "source": [
    "## 🛠️ **Single Model With Extra Features and Improved Parameters**"
   ]
  },
  {
   "cell_type": "code",
   "execution_count": 47,
   "id": "1b07efdd",
   "metadata": {
    "execution": {
     "iopub.execute_input": "2025-02-07T05:00:56.652071Z",
     "iopub.status.busy": "2025-02-07T05:00:56.651676Z",
     "iopub.status.idle": "2025-02-07T05:00:56.656395Z",
     "shell.execute_reply": "2025-02-07T05:00:56.655493Z"
    },
    "papermill": {
     "duration": 0.040996,
     "end_time": "2025-02-07T05:00:56.658289",
     "exception": false,
     "start_time": "2025-02-07T05:00:56.617293",
     "status": "completed"
    },
    "tags": []
   },
   "outputs": [],
   "source": [
    "import os\n",
    "import librosa\n",
    "import numpy as np\n",
    "from librosa.feature import mfcc\n",
    "from hmmlearn import hmm\n",
    "from sklearn.linear_model import LogisticRegression\n",
    "from sklearn.metrics import classification_report, confusion_matrix\n",
    "import matplotlib.pyplot as plt"
   ]
  },
  {
   "cell_type": "code",
   "execution_count": 48,
   "id": "e3c88aa2",
   "metadata": {
    "execution": {
     "iopub.execute_input": "2025-02-07T05:00:56.721155Z",
     "iopub.status.busy": "2025-02-07T05:00:56.720819Z",
     "iopub.status.idle": "2025-02-07T05:00:56.724949Z",
     "shell.execute_reply": "2025-02-07T05:00:56.724082Z"
    },
    "papermill": {
     "duration": 0.036812,
     "end_time": "2025-02-07T05:00:56.726328",
     "exception": false,
     "start_time": "2025-02-07T05:00:56.689516",
     "status": "completed"
    },
    "tags": []
   },
   "outputs": [],
   "source": [
    "# Initialize variables\n",
    "X_combined = np.array([])  # Combined MFCC features for all words\n",
    "y_labels = []              # Labels for word-level classification\n",
    "word_labels = []           # List of unique word labels"
   ]
  },
  {
   "cell_type": "code",
   "execution_count": 49,
   "id": "0ddd588f",
   "metadata": {
    "execution": {
     "iopub.execute_input": "2025-02-07T05:00:56.789768Z",
     "iopub.status.busy": "2025-02-07T05:00:56.789379Z",
     "iopub.status.idle": "2025-02-07T05:00:57.730746Z",
     "shell.execute_reply": "2025-02-07T05:00:57.729596Z"
    },
    "papermill": {
     "duration": 0.975487,
     "end_time": "2025-02-07T05:00:57.732655",
     "exception": false,
     "start_time": "2025-02-07T05:00:56.757168",
     "status": "completed"
    },
    "tags": []
   },
   "outputs": [],
   "source": [
    "# Step 1: Prepare Training Data\n",
    "for dirname in os.listdir('/kaggle/input/spech-model-dataset/audio'):\n",
    "    subfolder = os.path.join('/kaggle/input/spech-model-dataset/audio', dirname)\n",
    "    if not os.path.isdir(subfolder):\n",
    "        continue\n",
    "    \n",
    "    label = subfolder[subfolder.rfind('/') + 1:]  # Extract label\n",
    "    word_labels.append(label)  # Store the label\n",
    "    \n",
    "    # Extract MFCC features for each audio file\n",
    "    for filename in [x for x in os.listdir(subfolder) if x.endswith('.wav')]:\n",
    "        filepath = os.path.join(subfolder, filename)\n",
    "        audio, sampling_freq = librosa.load(filepath)\n",
    "        \n",
    "        # Extract MFCC and delta features\n",
    "        mfcc_features = mfcc(y=audio, sr=sampling_freq, n_mfcc=15)\n",
    "        delta_features = librosa.feature.delta(mfcc_features)\n",
    "        combined_features = np.vstack([mfcc_features, delta_features]).T  # Combine features\n",
    "        \n",
    "        # Append to the combined data\n",
    "        if len(X_combined) == 0:\n",
    "            X_combined = combined_features\n",
    "        else:\n",
    "            X_combined = np.append(X_combined, combined_features, axis=0)\n",
    "        \n",
    "        y_labels.append(label)  # Append label for each audio file"
   ]
  },
  {
   "cell_type": "code",
   "execution_count": 50,
   "id": "48945ee5",
   "metadata": {
    "execution": {
     "iopub.execute_input": "2025-02-07T05:00:57.800655Z",
     "iopub.status.busy": "2025-02-07T05:00:57.800253Z",
     "iopub.status.idle": "2025-02-07T05:01:03.326264Z",
     "shell.execute_reply": "2025-02-07T05:01:03.325196Z"
    },
    "papermill": {
     "duration": 5.560175,
     "end_time": "2025-02-07T05:01:03.328116",
     "exception": false,
     "start_time": "2025-02-07T05:00:57.767941",
     "status": "completed"
    },
    "tags": []
   },
   "outputs": [
    {
     "data": {
      "text/html": [
       "<style>#sk-container-id-3 {color: black;background-color: white;}#sk-container-id-3 pre{padding: 0;}#sk-container-id-3 div.sk-toggleable {background-color: white;}#sk-container-id-3 label.sk-toggleable__label {cursor: pointer;display: block;width: 100%;margin-bottom: 0;padding: 0.3em;box-sizing: border-box;text-align: center;}#sk-container-id-3 label.sk-toggleable__label-arrow:before {content: \"▸\";float: left;margin-right: 0.25em;color: #696969;}#sk-container-id-3 label.sk-toggleable__label-arrow:hover:before {color: black;}#sk-container-id-3 div.sk-estimator:hover label.sk-toggleable__label-arrow:before {color: black;}#sk-container-id-3 div.sk-toggleable__content {max-height: 0;max-width: 0;overflow: hidden;text-align: left;background-color: #f0f8ff;}#sk-container-id-3 div.sk-toggleable__content pre {margin: 0.2em;color: black;border-radius: 0.25em;background-color: #f0f8ff;}#sk-container-id-3 input.sk-toggleable__control:checked~div.sk-toggleable__content {max-height: 200px;max-width: 100%;overflow: auto;}#sk-container-id-3 input.sk-toggleable__control:checked~label.sk-toggleable__label-arrow:before {content: \"▾\";}#sk-container-id-3 div.sk-estimator input.sk-toggleable__control:checked~label.sk-toggleable__label {background-color: #d4ebff;}#sk-container-id-3 div.sk-label input.sk-toggleable__control:checked~label.sk-toggleable__label {background-color: #d4ebff;}#sk-container-id-3 input.sk-hidden--visually {border: 0;clip: rect(1px 1px 1px 1px);clip: rect(1px, 1px, 1px, 1px);height: 1px;margin: -1px;overflow: hidden;padding: 0;position: absolute;width: 1px;}#sk-container-id-3 div.sk-estimator {font-family: monospace;background-color: #f0f8ff;border: 1px dotted black;border-radius: 0.25em;box-sizing: border-box;margin-bottom: 0.5em;}#sk-container-id-3 div.sk-estimator:hover {background-color: #d4ebff;}#sk-container-id-3 div.sk-parallel-item::after {content: \"\";width: 100%;border-bottom: 1px solid gray;flex-grow: 1;}#sk-container-id-3 div.sk-label:hover label.sk-toggleable__label {background-color: #d4ebff;}#sk-container-id-3 div.sk-serial::before {content: \"\";position: absolute;border-left: 1px solid gray;box-sizing: border-box;top: 0;bottom: 0;left: 50%;z-index: 0;}#sk-container-id-3 div.sk-serial {display: flex;flex-direction: column;align-items: center;background-color: white;padding-right: 0.2em;padding-left: 0.2em;position: relative;}#sk-container-id-3 div.sk-item {position: relative;z-index: 1;}#sk-container-id-3 div.sk-parallel {display: flex;align-items: stretch;justify-content: center;background-color: white;position: relative;}#sk-container-id-3 div.sk-item::before, #sk-container-id-3 div.sk-parallel-item::before {content: \"\";position: absolute;border-left: 1px solid gray;box-sizing: border-box;top: 0;bottom: 0;left: 50%;z-index: -1;}#sk-container-id-3 div.sk-parallel-item {display: flex;flex-direction: column;z-index: 1;position: relative;background-color: white;}#sk-container-id-3 div.sk-parallel-item:first-child::after {align-self: flex-end;width: 50%;}#sk-container-id-3 div.sk-parallel-item:last-child::after {align-self: flex-start;width: 50%;}#sk-container-id-3 div.sk-parallel-item:only-child::after {width: 0;}#sk-container-id-3 div.sk-dashed-wrapped {border: 1px dashed gray;margin: 0 0.4em 0.5em 0.4em;box-sizing: border-box;padding-bottom: 0.4em;background-color: white;}#sk-container-id-3 div.sk-label label {font-family: monospace;font-weight: bold;display: inline-block;line-height: 1.2em;}#sk-container-id-3 div.sk-label-container {text-align: center;}#sk-container-id-3 div.sk-container {/* jupyter's `normalize.less` sets `[hidden] { display: none; }` but bootstrap.min.css set `[hidden] { display: none !important; }` so we also need the `!important` here to be able to override the default hidden behavior on the sphinx rendered scikit-learn.org. See: https://github.com/scikit-learn/scikit-learn/issues/21755 */display: inline-block !important;position: relative;}#sk-container-id-3 div.sk-text-repr-fallback {display: none;}</style><div id=\"sk-container-id-3\" class=\"sk-top-container\"><div class=\"sk-text-repr-fallback\"><pre>GaussianHMM(n_components=15, n_iter=200)</pre><b>In a Jupyter environment, please rerun this cell to show the HTML representation or trust the notebook. <br />On GitHub, the HTML representation is unable to render, please try loading this page with nbviewer.org.</b></div><div class=\"sk-container\" hidden><div class=\"sk-item\"><div class=\"sk-estimator sk-toggleable\"><input class=\"sk-toggleable__control sk-hidden--visually\" id=\"sk-estimator-id-3\" type=\"checkbox\" checked><label for=\"sk-estimator-id-3\" class=\"sk-toggleable__label sk-toggleable__label-arrow\">GaussianHMM</label><div class=\"sk-toggleable__content\"><pre>GaussianHMM(n_components=15, n_iter=200)</pre></div></div></div></div></div>"
      ],
      "text/plain": [
       "GaussianHMM(n_components=15, n_iter=200)"
      ]
     },
     "execution_count": 50,
     "metadata": {},
     "output_type": "execute_result"
    }
   ],
   "source": [
    "# Step 2: Train the Shared HMM\n",
    "shared_hmm = hmm.GaussianHMM(n_components=15, covariance_type='diag', n_iter=200)\n",
    "shared_hmm.fit(X_combined)"
   ]
  },
  {
   "cell_type": "code",
   "execution_count": 51,
   "id": "7866ea0d",
   "metadata": {
    "execution": {
     "iopub.execute_input": "2025-02-07T05:01:03.391058Z",
     "iopub.status.busy": "2025-02-07T05:01:03.390679Z",
     "iopub.status.idle": "2025-02-07T05:01:04.363062Z",
     "shell.execute_reply": "2025-02-07T05:01:04.362091Z"
    },
    "papermill": {
     "duration": 1.005892,
     "end_time": "2025-02-07T05:01:04.365117",
     "exception": false,
     "start_time": "2025-02-07T05:01:03.359225",
     "status": "completed"
    },
    "tags": []
   },
   "outputs": [],
   "source": [
    "# Step 3: Compute Log-Likelihoods for Classifier Training\n",
    "log_likelihoods = []\n",
    "for dirname in os.listdir('/kaggle/input/spech-model-dataset/audio'):\n",
    "    subfolder = os.path.join('/kaggle/input/spech-model-dataset/audio', dirname)\n",
    "    if not os.path.isdir(subfolder):\n",
    "        continue\n",
    "    \n",
    "    for filename in [x for x in os.listdir(subfolder) if x.endswith('.wav')]:\n",
    "        filepath = os.path.join(subfolder, filename)\n",
    "        audio, sampling_freq = librosa.load(filepath)\n",
    "        mfcc_features = mfcc(y=audio, sr=sampling_freq, n_mfcc=15)\n",
    "        delta_features = librosa.feature.delta(mfcc_features)\n",
    "        combined_features = np.vstack([mfcc_features, delta_features]).T\n",
    "        \n",
    "        # Compute log-likelihood score\n",
    "        score = shared_hmm.score(combined_features)\n",
    "        log_likelihoods.append(score)"
   ]
  },
  {
   "cell_type": "code",
   "execution_count": 52,
   "id": "303a8134",
   "metadata": {
    "execution": {
     "iopub.execute_input": "2025-02-07T05:01:04.429296Z",
     "iopub.status.busy": "2025-02-07T05:01:04.428979Z",
     "iopub.status.idle": "2025-02-07T05:01:04.433018Z",
     "shell.execute_reply": "2025-02-07T05:01:04.432165Z"
    },
    "papermill": {
     "duration": 0.037462,
     "end_time": "2025-02-07T05:01:04.434405",
     "exception": false,
     "start_time": "2025-02-07T05:01:04.396943",
     "status": "completed"
    },
    "tags": []
   },
   "outputs": [],
   "source": [
    "# Prepare classifier training data\n",
    "X_classifier = np.array(log_likelihoods).reshape(-1, 1)\n",
    "y_classifier = np.array(y_labels)"
   ]
  },
  {
   "cell_type": "code",
   "execution_count": 53,
   "id": "2b0e4f2f",
   "metadata": {
    "execution": {
     "iopub.execute_input": "2025-02-07T05:01:04.498409Z",
     "iopub.status.busy": "2025-02-07T05:01:04.498058Z",
     "iopub.status.idle": "2025-02-07T05:01:04.514650Z",
     "shell.execute_reply": "2025-02-07T05:01:04.513606Z"
    },
    "papermill": {
     "duration": 0.050624,
     "end_time": "2025-02-07T05:01:04.516230",
     "exception": false,
     "start_time": "2025-02-07T05:01:04.465606",
     "status": "completed"
    },
    "tags": []
   },
   "outputs": [
    {
     "data": {
      "text/html": [
       "<style>#sk-container-id-4 {color: black;background-color: white;}#sk-container-id-4 pre{padding: 0;}#sk-container-id-4 div.sk-toggleable {background-color: white;}#sk-container-id-4 label.sk-toggleable__label {cursor: pointer;display: block;width: 100%;margin-bottom: 0;padding: 0.3em;box-sizing: border-box;text-align: center;}#sk-container-id-4 label.sk-toggleable__label-arrow:before {content: \"▸\";float: left;margin-right: 0.25em;color: #696969;}#sk-container-id-4 label.sk-toggleable__label-arrow:hover:before {color: black;}#sk-container-id-4 div.sk-estimator:hover label.sk-toggleable__label-arrow:before {color: black;}#sk-container-id-4 div.sk-toggleable__content {max-height: 0;max-width: 0;overflow: hidden;text-align: left;background-color: #f0f8ff;}#sk-container-id-4 div.sk-toggleable__content pre {margin: 0.2em;color: black;border-radius: 0.25em;background-color: #f0f8ff;}#sk-container-id-4 input.sk-toggleable__control:checked~div.sk-toggleable__content {max-height: 200px;max-width: 100%;overflow: auto;}#sk-container-id-4 input.sk-toggleable__control:checked~label.sk-toggleable__label-arrow:before {content: \"▾\";}#sk-container-id-4 div.sk-estimator input.sk-toggleable__control:checked~label.sk-toggleable__label {background-color: #d4ebff;}#sk-container-id-4 div.sk-label input.sk-toggleable__control:checked~label.sk-toggleable__label {background-color: #d4ebff;}#sk-container-id-4 input.sk-hidden--visually {border: 0;clip: rect(1px 1px 1px 1px);clip: rect(1px, 1px, 1px, 1px);height: 1px;margin: -1px;overflow: hidden;padding: 0;position: absolute;width: 1px;}#sk-container-id-4 div.sk-estimator {font-family: monospace;background-color: #f0f8ff;border: 1px dotted black;border-radius: 0.25em;box-sizing: border-box;margin-bottom: 0.5em;}#sk-container-id-4 div.sk-estimator:hover {background-color: #d4ebff;}#sk-container-id-4 div.sk-parallel-item::after {content: \"\";width: 100%;border-bottom: 1px solid gray;flex-grow: 1;}#sk-container-id-4 div.sk-label:hover label.sk-toggleable__label {background-color: #d4ebff;}#sk-container-id-4 div.sk-serial::before {content: \"\";position: absolute;border-left: 1px solid gray;box-sizing: border-box;top: 0;bottom: 0;left: 50%;z-index: 0;}#sk-container-id-4 div.sk-serial {display: flex;flex-direction: column;align-items: center;background-color: white;padding-right: 0.2em;padding-left: 0.2em;position: relative;}#sk-container-id-4 div.sk-item {position: relative;z-index: 1;}#sk-container-id-4 div.sk-parallel {display: flex;align-items: stretch;justify-content: center;background-color: white;position: relative;}#sk-container-id-4 div.sk-item::before, #sk-container-id-4 div.sk-parallel-item::before {content: \"\";position: absolute;border-left: 1px solid gray;box-sizing: border-box;top: 0;bottom: 0;left: 50%;z-index: -1;}#sk-container-id-4 div.sk-parallel-item {display: flex;flex-direction: column;z-index: 1;position: relative;background-color: white;}#sk-container-id-4 div.sk-parallel-item:first-child::after {align-self: flex-end;width: 50%;}#sk-container-id-4 div.sk-parallel-item:last-child::after {align-self: flex-start;width: 50%;}#sk-container-id-4 div.sk-parallel-item:only-child::after {width: 0;}#sk-container-id-4 div.sk-dashed-wrapped {border: 1px dashed gray;margin: 0 0.4em 0.5em 0.4em;box-sizing: border-box;padding-bottom: 0.4em;background-color: white;}#sk-container-id-4 div.sk-label label {font-family: monospace;font-weight: bold;display: inline-block;line-height: 1.2em;}#sk-container-id-4 div.sk-label-container {text-align: center;}#sk-container-id-4 div.sk-container {/* jupyter's `normalize.less` sets `[hidden] { display: none; }` but bootstrap.min.css set `[hidden] { display: none !important; }` so we also need the `!important` here to be able to override the default hidden behavior on the sphinx rendered scikit-learn.org. See: https://github.com/scikit-learn/scikit-learn/issues/21755 */display: inline-block !important;position: relative;}#sk-container-id-4 div.sk-text-repr-fallback {display: none;}</style><div id=\"sk-container-id-4\" class=\"sk-top-container\"><div class=\"sk-text-repr-fallback\"><pre>LogisticRegression(C=0.1, max_iter=1000)</pre><b>In a Jupyter environment, please rerun this cell to show the HTML representation or trust the notebook. <br />On GitHub, the HTML representation is unable to render, please try loading this page with nbviewer.org.</b></div><div class=\"sk-container\" hidden><div class=\"sk-item\"><div class=\"sk-estimator sk-toggleable\"><input class=\"sk-toggleable__control sk-hidden--visually\" id=\"sk-estimator-id-4\" type=\"checkbox\" checked><label for=\"sk-estimator-id-4\" class=\"sk-toggleable__label sk-toggleable__label-arrow\">LogisticRegression</label><div class=\"sk-toggleable__content\"><pre>LogisticRegression(C=0.1, max_iter=1000)</pre></div></div></div></div></div>"
      ],
      "text/plain": [
       "LogisticRegression(C=0.1, max_iter=1000)"
      ]
     },
     "execution_count": 53,
     "metadata": {},
     "output_type": "execute_result"
    }
   ],
   "source": [
    "# Step 4: Train the Word-Level Classifier\n",
    "classifier = LogisticRegression(C=0.1, max_iter=1000)\n",
    "classifier.fit(X_classifier, y_classifier)"
   ]
  },
  {
   "cell_type": "code",
   "execution_count": 54,
   "id": "e0b85820",
   "metadata": {
    "execution": {
     "iopub.execute_input": "2025-02-07T05:01:04.580374Z",
     "iopub.status.busy": "2025-02-07T05:01:04.579988Z",
     "iopub.status.idle": "2025-02-07T05:01:04.598251Z",
     "shell.execute_reply": "2025-02-07T05:01:04.597042Z"
    },
    "papermill": {
     "duration": 0.052027,
     "end_time": "2025-02-07T05:01:04.599984",
     "exception": false,
     "start_time": "2025-02-07T05:01:04.547957",
     "status": "completed"
    },
    "tags": []
   },
   "outputs": [
    {
     "name": "stdout",
     "output_type": "stream",
     "text": [
      "Input file: /kaggle/input/spech-model-dataset/audio/orange/orange15.wav\n",
      "Predicted label: orange\n"
     ]
    }
   ],
   "source": [
    "# Step 5: Test the Model\n",
    "input_file = '/kaggle/input/spech-model-dataset/audio/orange/orange15.wav'\n",
    "\n",
    "# Extract MFCC and delta features from the test file\n",
    "audio, sampling_freq = librosa.load(input_file)\n",
    "mfcc_features = mfcc(y=audio, sr=sampling_freq, n_mfcc=15)\n",
    "delta_features = librosa.feature.delta(mfcc_features)\n",
    "combined_features = np.vstack([mfcc_features, delta_features]).T\n",
    "\n",
    "# Get the log-likelihood score\n",
    "test_score = shared_hmm.score(combined_features)\n",
    "\n",
    "# Predict the label using the classifier\n",
    "predicted_label = classifier.predict([[test_score]])\n",
    "\n",
    "# Print results\n",
    "print(\"Input file:\", input_file)\n",
    "print(\"Predicted label:\", predicted_label[0])"
   ]
  },
  {
   "cell_type": "code",
   "execution_count": 55,
   "id": "dd2a9e7d",
   "metadata": {
    "execution": {
     "iopub.execute_input": "2025-02-07T05:01:04.666278Z",
     "iopub.status.busy": "2025-02-07T05:01:04.665929Z",
     "iopub.status.idle": "2025-02-07T05:01:04.944893Z",
     "shell.execute_reply": "2025-02-07T05:01:04.943693Z"
    },
    "papermill": {
     "duration": 0.312584,
     "end_time": "2025-02-07T05:01:04.946461",
     "exception": false,
     "start_time": "2025-02-07T05:01:04.633877",
     "status": "completed"
    },
    "tags": []
   },
   "outputs": [
    {
     "name": "stdout",
     "output_type": "stream",
     "text": [
      "\n",
      "Classification Report:\n",
      "\n",
      "              precision    recall  f1-score   support\n",
      "\n",
      "       apple       0.55      0.73      0.63        15\n",
      "      banana       0.35      0.40      0.38        15\n",
      "        kiwi       0.25      0.20      0.22        15\n",
      "        lime       0.44      0.27      0.33        15\n",
      "      orange       0.79      0.73      0.76        15\n",
      "       peach       0.75      0.80      0.77        15\n",
      "   pineapple       0.82      0.93      0.87        15\n",
      "\n",
      "    accuracy                           0.58       105\n",
      "   macro avg       0.57      0.58      0.57       105\n",
      "weighted avg       0.57      0.58      0.57       105\n",
      "\n"
     ]
    },
    {
     "data": {
      "image/png": "[encoded data removed]",
      "text/plain": [
       "<Figure size 800x600 with 2 Axes>"
      ]
     },
     "metadata": {},
     "output_type": "display_data"
    }
   ],
   "source": [
    "# Step 6: Evaluate the Classifier\n",
    "y_pred = classifier.predict(X_classifier)\n",
    "print(\"\\nClassification Report:\\n\")\n",
    "print(classification_report(y_classifier, y_pred))\n",
    "\n",
    "# Optional: Plot the Confusion Matrix\n",
    "cm = confusion_matrix(y_classifier, y_pred, labels=word_labels)\n",
    "plt.figure(figsize=(8, 6))\n",
    "plt.imshow(cm, cmap='Blues', interpolation='nearest')\n",
    "plt.colorbar()\n",
    "plt.title(\"Confusion Matrix\")\n",
    "plt.xticks(np.arange(len(word_labels)), word_labels, rotation=45)\n",
    "plt.yticks(np.arange(len(word_labels)), word_labels)\n",
    "plt.xlabel(\"Predicted\")\n",
    "plt.ylabel(\"True\")\n",
    "plt.show()"
   ]
  },
  {
   "cell_type": "markdown",
   "id": "09a44f2f",
   "metadata": {
    "papermill": {
     "duration": 0.03157,
     "end_time": "2025-02-07T05:01:05.010739",
     "exception": false,
     "start_time": "2025-02-07T05:01:04.979169",
     "status": "completed"
    },
    "tags": []
   },
   "source": [
    "#### Performace Improved Yet for some classes showing low performnace \n",
    "\n",
    "\n",
    "* Feature Enhancement: Added delta-MFCC features for capturing temporal dynamics.\n",
    "* HMM Parameter Tuning: n_components and n_iter.\n",
    "* Regularized Classifier:Used LR with L2 regularization (C=0.1).\n",
    "* Robust Testing: MFCC and delta features for the test file.\n"
   ]
  },
  {
   "cell_type": "markdown",
   "id": "b11fca4e",
   "metadata": {
    "execution": {
     "iopub.execute_input": "2025-02-07T04:49:10.859421Z",
     "iopub.status.busy": "2025-02-07T04:49:10.858866Z",
     "iopub.status.idle": "2025-02-07T04:49:10.871936Z",
     "shell.execute_reply": "2025-02-07T04:49:10.870215Z",
     "shell.execute_reply.started": "2025-02-07T04:49:10.859380Z"
    },
    "papermill": {
     "duration": 0.03183,
     "end_time": "2025-02-07T05:01:05.075152",
     "exception": false,
     "start_time": "2025-02-07T05:01:05.043322",
     "status": "completed"
    },
    "tags": []
   },
   "source": [
    "HMM often struggles to classify different sounds using a **single model** due to several key limitations:\n",
    "\n",
    "### 1. **HMM Assumes Stationarity and Markovian Properties**\n",
    "   - HMM assumes that the state transitions depend only on the previous state, which is a **first-order Markov assumption**. However, sound signals often have **long-term dependencies** and require context beyond the previous state.\n",
    "\n",
    "### 2. **Single Model Lacks Differentiation Between Classes**\n",
    "   - A single HMM is typically trained to **model the probability distribution of one type of sound** (e.g., a word, phoneme, or specific sound event).\n",
    "\n",
    "### 3. **HMM is Generative, Not Discriminative**\n",
    "   - HMM is a **generative model**, meaning it estimates the **joint probability** of observations and hidden states.\n",
    "   - Classification tasks are better suited for **discriminative models** like Deep Neural Networks (DNNs).\n",
    "\n",
    "### 4. **Limited Feature Representation**\n",
    "   - HMM uses simple **Gaussian Mixture Models (GMMs)** or discrete emission probabilities for feature modeling.\n",
    "   - This representation is often inadequate for complex sound patterns where deep learning models (e.g., CNNs, BiLSTMs) can extract **better hierarchical features**.\n",
    "\n",
    "### 5. **Fixed Number of States & Overlapping Sound Variability**\n",
    "   - HMM requires **predefined states** that represent the sequence of observations. However, sounds are highly variable and can **overlap in feature space**, making it hard for a single HMM to capture **all variations**.\n",
    "\n",
    "### 6. **Noise and Overlapping Sounds**\n",
    "   - HMMs assume **clean and structured sequences**, making them **prone to misclassification** in real-world noisy environments.\n",
    "\n",
    "### 7. **Alternative: Multiple HMMs or Hybrid Models**\n",
    "   - **Solution 1:** Instead of a single HMM, use **multiple HMMs** (one per class) and classify sounds based on **maximum likelihood**.\n",
    "   - **Solution 2:** Use **hybrid models** like HMM + DNN (Deep Neural Network) or HMM + CNN (Convolutional Neural Network) to improve feature extraction and classification.\n"
   ]
  },
  {
   "cell_type": "markdown",
   "id": "9b846a7f",
   "metadata": {
    "papermill": {
     "duration": 0.032342,
     "end_time": "2025-02-07T05:01:05.140110",
     "exception": false,
     "start_time": "2025-02-07T05:01:05.107768",
     "status": "completed"
    },
    "tags": []
   },
   "source": [
    "## 🛠️ **Multi Model Solution With LR**"
   ]
  },
  {
   "cell_type": "code",
   "execution_count": 56,
   "id": "6176afd7",
   "metadata": {
    "execution": {
     "iopub.execute_input": "2025-02-07T05:01:05.206646Z",
     "iopub.status.busy": "2025-02-07T05:01:05.206246Z",
     "iopub.status.idle": "2025-02-07T05:01:05.211626Z",
     "shell.execute_reply": "2025-02-07T05:01:05.210516Z"
    },
    "papermill": {
     "duration": 0.040789,
     "end_time": "2025-02-07T05:01:05.213227",
     "exception": false,
     "start_time": "2025-02-07T05:01:05.172438",
     "status": "completed"
    },
    "tags": []
   },
   "outputs": [],
   "source": [
    "import os\n",
    "import librosa\n",
    "import numpy as np\n",
    "from librosa.feature import mfcc\n",
    "from hmmlearn import hmm\n",
    "from sklearn.linear_model import LogisticRegression\n",
    "from sklearn.metrics import classification_report, confusion_matrix\n",
    "import matplotlib.pyplot as plt\n",
    "from sklearn.utils import class_weight\n",
    "from sklearn.preprocessing import StandardScaler"
   ]
  },
  {
   "cell_type": "code",
   "execution_count": 57,
   "id": "dad94b9b",
   "metadata": {
    "execution": {
     "iopub.execute_input": "2025-02-07T05:01:05.281681Z",
     "iopub.status.busy": "2025-02-07T05:01:05.281309Z",
     "iopub.status.idle": "2025-02-07T05:01:11.606869Z",
     "shell.execute_reply": "2025-02-07T05:01:11.605736Z"
    },
    "papermill": {
     "duration": 6.36302,
     "end_time": "2025-02-07T05:01:11.609304",
     "exception": false,
     "start_time": "2025-02-07T05:01:05.246284",
     "status": "completed"
    },
    "tags": []
   },
   "outputs": [],
   "source": [
    "# Step 1: Data Augmentation and Feature Extraction\n",
    "def augment_audio(audio, sampling_freq):\n",
    "    \"\"\"Apply basic data augmentation techniques to audio.\"\"\"\n",
    "    augmented_data = [\n",
    "        audio,\n",
    "        librosa.effects.pitch_shift(audio, sr=sampling_freq, n_steps=2),  # Pitch shift\n",
    "        librosa.effects.time_stretch(audio, rate=0.8),  # Time-stretch (slower)\n",
    "        librosa.effects.time_stretch(audio, rate=1.2)   # Speed up\n",
    "    ]\n",
    "    return augmented_data\n",
    "\n",
    "# Initialize variables\n",
    "X_combined = np.array([])  # Combined MFCC features\n",
    "y_labels = []              # Labels for each frame\n",
    "word_labels = []           # Unique word labels\n",
    "\n",
    "for dirname in os.listdir('/kaggle/input/spech-model-dataset/audio'):\n",
    "    subfolder = os.path.join('/kaggle/input/spech-model-dataset/audio', dirname)\n",
    "    if not os.path.isdir(subfolder):\n",
    "        continue\n",
    "    \n",
    "    label = subfolder[subfolder.rfind('/') + 1:]\n",
    "    word_labels.append(label)\n",
    "    \n",
    "    for filename in [x for x in os.listdir(subfolder) if x.endswith('.wav')]:\n",
    "        filepath = os.path.join(subfolder, filename)\n",
    "        audio, sampling_freq = librosa.load(filepath)\n",
    "        \n",
    "        # Apply augmentation and extract features\n",
    "        for augmented_audio in augment_audio(audio, sampling_freq):\n",
    "            mfcc_features = mfcc(y=augmented_audio, sr=sampling_freq, n_mfcc=15)\n",
    "            delta_features = librosa.feature.delta(mfcc_features)\n",
    "            combined_features = np.vstack([mfcc_features, delta_features]).T\n",
    "            \n",
    "            # Append features\n",
    "            if len(X_combined) == 0:\n",
    "                X_combined = combined_features\n",
    "            else:\n",
    "                X_combined = np.append(X_combined, combined_features, axis=0)\n",
    "            \n",
    "            # Append labels for each frame\n",
    "            y_labels.extend([label] * combined_features.shape[0])"
   ]
  },
  {
   "cell_type": "code",
   "execution_count": 58,
   "id": "342004a7",
   "metadata": {
    "execution": {
     "iopub.execute_input": "2025-02-07T05:01:11.680435Z",
     "iopub.status.busy": "2025-02-07T05:01:11.680081Z",
     "iopub.status.idle": "2025-02-07T05:01:16.882518Z",
     "shell.execute_reply": "2025-02-07T05:01:16.881532Z"
    },
    "papermill": {
     "duration": 5.238357,
     "end_time": "2025-02-07T05:01:16.884493",
     "exception": false,
     "start_time": "2025-02-07T05:01:11.646136",
     "status": "completed"
    },
    "tags": []
   },
   "outputs": [],
   "source": [
    "# Step 2: Train Class-Specific HMMs\n",
    "hmm_models = {}\n",
    "for label in word_labels:\n",
    "    label_features = X_combined[np.array(y_labels) == label]\n",
    "    hmm_model = hmm.GaussianHMM(n_components=10, covariance_type='diag', n_iter=200)\n",
    "    hmm_model.fit(label_features)\n",
    "    hmm_models[label] = hmm_model"
   ]
  },
  {
   "cell_type": "code",
   "execution_count": 59,
   "id": "520f4c97",
   "metadata": {
    "execution": {
     "iopub.execute_input": "2025-02-07T05:01:16.954895Z",
     "iopub.status.busy": "2025-02-07T05:01:16.954495Z",
     "iopub.status.idle": "2025-02-07T05:01:18.156070Z",
     "shell.execute_reply": "2025-02-07T05:01:18.155127Z"
    },
    "papermill": {
     "duration": 1.237911,
     "end_time": "2025-02-07T05:01:18.157931",
     "exception": false,
     "start_time": "2025-02-07T05:01:16.920020",
     "status": "completed"
    },
    "tags": []
   },
   "outputs": [],
   "source": [
    "# Step 3: Compute Log-Likelihood Scores\n",
    "log_likelihoods = []\n",
    "true_labels = []\n",
    "\n",
    "for dirname in os.listdir('/kaggle/input/spech-model-dataset/audio'):\n",
    "    subfolder = os.path.join('/kaggle/input/spech-model-dataset/audio', dirname)\n",
    "    if not os.path.isdir(subfolder):\n",
    "        continue\n",
    "    \n",
    "    label = subfolder[subfolder.rfind('/') + 1:]\n",
    "    \n",
    "    for filename in [x for x in os.listdir(subfolder) if x.endswith('.wav')]:\n",
    "        filepath = os.path.join(subfolder, filename)\n",
    "        audio, sampling_freq = librosa.load(filepath)\n",
    "        mfcc_features = mfcc(y=audio, sr=sampling_freq, n_mfcc=15)\n",
    "        delta_features = librosa.feature.delta(mfcc_features)\n",
    "        combined_features = np.vstack([mfcc_features, delta_features]).T\n",
    "        \n",
    "        # Compute log-likelihoods for all HMM models\n",
    "        scores = [hmm_models[l].score(combined_features) for l in word_labels]\n",
    "        log_likelihoods.append(scores)\n",
    "        true_labels.append(label)\n",
    "\n",
    "X_classifier = np.array(log_likelihoods)\n",
    "y_classifier = np.array(true_labels)"
   ]
  },
  {
   "cell_type": "code",
   "execution_count": 60,
   "id": "77c4bddd",
   "metadata": {
    "execution": {
     "iopub.execute_input": "2025-02-07T05:01:18.225601Z",
     "iopub.status.busy": "2025-02-07T05:01:18.225261Z",
     "iopub.status.idle": "2025-02-07T05:01:18.247264Z",
     "shell.execute_reply": "2025-02-07T05:01:18.246204Z"
    },
    "papermill": {
     "duration": 0.05724,
     "end_time": "2025-02-07T05:01:18.249015",
     "exception": false,
     "start_time": "2025-02-07T05:01:18.191775",
     "status": "completed"
    },
    "tags": []
   },
   "outputs": [
    {
     "data": {
      "text/html": [
       "<style>#sk-container-id-5 {color: black;background-color: white;}#sk-container-id-5 pre{padding: 0;}#sk-container-id-5 div.sk-toggleable {background-color: white;}#sk-container-id-5 label.sk-toggleable__label {cursor: pointer;display: block;width: 100%;margin-bottom: 0;padding: 0.3em;box-sizing: border-box;text-align: center;}#sk-container-id-5 label.sk-toggleable__label-arrow:before {content: \"▸\";float: left;margin-right: 0.25em;color: #696969;}#sk-container-id-5 label.sk-toggleable__label-arrow:hover:before {color: black;}#sk-container-id-5 div.sk-estimator:hover label.sk-toggleable__label-arrow:before {color: black;}#sk-container-id-5 div.sk-toggleable__content {max-height: 0;max-width: 0;overflow: hidden;text-align: left;background-color: #f0f8ff;}#sk-container-id-5 div.sk-toggleable__content pre {margin: 0.2em;color: black;border-radius: 0.25em;background-color: #f0f8ff;}#sk-container-id-5 input.sk-toggleable__control:checked~div.sk-toggleable__content {max-height: 200px;max-width: 100%;overflow: auto;}#sk-container-id-5 input.sk-toggleable__control:checked~label.sk-toggleable__label-arrow:before {content: \"▾\";}#sk-container-id-5 div.sk-estimator input.sk-toggleable__control:checked~label.sk-toggleable__label {background-color: #d4ebff;}#sk-container-id-5 div.sk-label input.sk-toggleable__control:checked~label.sk-toggleable__label {background-color: #d4ebff;}#sk-container-id-5 input.sk-hidden--visually {border: 0;clip: rect(1px 1px 1px 1px);clip: rect(1px, 1px, 1px, 1px);height: 1px;margin: -1px;overflow: hidden;padding: 0;position: absolute;width: 1px;}#sk-container-id-5 div.sk-estimator {font-family: monospace;background-color: #f0f8ff;border: 1px dotted black;border-radius: 0.25em;box-sizing: border-box;margin-bottom: 0.5em;}#sk-container-id-5 div.sk-estimator:hover {background-color: #d4ebff;}#sk-container-id-5 div.sk-parallel-item::after {content: \"\";width: 100%;border-bottom: 1px solid gray;flex-grow: 1;}#sk-container-id-5 div.sk-label:hover label.sk-toggleable__label {background-color: #d4ebff;}#sk-container-id-5 div.sk-serial::before {content: \"\";position: absolute;border-left: 1px solid gray;box-sizing: border-box;top: 0;bottom: 0;left: 50%;z-index: 0;}#sk-container-id-5 div.sk-serial {display: flex;flex-direction: column;align-items: center;background-color: white;padding-right: 0.2em;padding-left: 0.2em;position: relative;}#sk-container-id-5 div.sk-item {position: relative;z-index: 1;}#sk-container-id-5 div.sk-parallel {display: flex;align-items: stretch;justify-content: center;background-color: white;position: relative;}#sk-container-id-5 div.sk-item::before, #sk-container-id-5 div.sk-parallel-item::before {content: \"\";position: absolute;border-left: 1px solid gray;box-sizing: border-box;top: 0;bottom: 0;left: 50%;z-index: -1;}#sk-container-id-5 div.sk-parallel-item {display: flex;flex-direction: column;z-index: 1;position: relative;background-color: white;}#sk-container-id-5 div.sk-parallel-item:first-child::after {align-self: flex-end;width: 50%;}#sk-container-id-5 div.sk-parallel-item:last-child::after {align-self: flex-start;width: 50%;}#sk-container-id-5 div.sk-parallel-item:only-child::after {width: 0;}#sk-container-id-5 div.sk-dashed-wrapped {border: 1px dashed gray;margin: 0 0.4em 0.5em 0.4em;box-sizing: border-box;padding-bottom: 0.4em;background-color: white;}#sk-container-id-5 div.sk-label label {font-family: monospace;font-weight: bold;display: inline-block;line-height: 1.2em;}#sk-container-id-5 div.sk-label-container {text-align: center;}#sk-container-id-5 div.sk-container {/* jupyter's `normalize.less` sets `[hidden] { display: none; }` but bootstrap.min.css set `[hidden] { display: none !important; }` so we also need the `!important` here to be able to override the default hidden behavior on the sphinx rendered scikit-learn.org. See: https://github.com/scikit-learn/scikit-learn/issues/21755 */display: inline-block !important;position: relative;}#sk-container-id-5 div.sk-text-repr-fallback {display: none;}</style><div id=\"sk-container-id-5\" class=\"sk-top-container\"><div class=\"sk-text-repr-fallback\"><pre>LogisticRegression(class_weight={&#x27;apple&#x27;: 1.0, &#x27;banana&#x27;: 1.0, &#x27;kiwi&#x27;: 1.0,\n",
       "                                 &#x27;lime&#x27;: 1.0, &#x27;orange&#x27;: 1.0, &#x27;peach&#x27;: 1.0,\n",
       "                                 &#x27;pineapple&#x27;: 1.0},\n",
       "                   max_iter=1000)</pre><b>In a Jupyter environment, please rerun this cell to show the HTML representation or trust the notebook. <br />On GitHub, the HTML representation is unable to render, please try loading this page with nbviewer.org.</b></div><div class=\"sk-container\" hidden><div class=\"sk-item\"><div class=\"sk-estimator sk-toggleable\"><input class=\"sk-toggleable__control sk-hidden--visually\" id=\"sk-estimator-id-5\" type=\"checkbox\" checked><label for=\"sk-estimator-id-5\" class=\"sk-toggleable__label sk-toggleable__label-arrow\">LogisticRegression</label><div class=\"sk-toggleable__content\"><pre>LogisticRegression(class_weight={&#x27;apple&#x27;: 1.0, &#x27;banana&#x27;: 1.0, &#x27;kiwi&#x27;: 1.0,\n",
       "                                 &#x27;lime&#x27;: 1.0, &#x27;orange&#x27;: 1.0, &#x27;peach&#x27;: 1.0,\n",
       "                                 &#x27;pineapple&#x27;: 1.0},\n",
       "                   max_iter=1000)</pre></div></div></div></div></div>"
      ],
      "text/plain": [
       "LogisticRegression(class_weight={'apple': 1.0, 'banana': 1.0, 'kiwi': 1.0,\n",
       "                                 'lime': 1.0, 'orange': 1.0, 'peach': 1.0,\n",
       "                                 'pineapple': 1.0},\n",
       "                   max_iter=1000)"
      ]
     },
     "execution_count": 60,
     "metadata": {},
     "output_type": "execute_result"
    }
   ],
   "source": [
    "# Step 4: Train a Logistic Regression Classifier\n",
    "scaler = StandardScaler()\n",
    "X_classifier_scaled = scaler.fit_transform(X_classifier)\n",
    "\n",
    "# Handle imbalanced data with class weights\n",
    "weights = class_weight.compute_class_weight('balanced', classes=np.unique(y_classifier), y=y_classifier)\n",
    "class_weights = {label: weight for label, weight in zip(np.unique(y_classifier), weights)}\n",
    "\n",
    "classifier = LogisticRegression(max_iter=1000, class_weight=class_weights)\n",
    "classifier.fit(X_classifier_scaled, y_classifier)"
   ]
  },
  {
   "cell_type": "code",
   "execution_count": 61,
   "id": "d6f77ceb",
   "metadata": {
    "execution": {
     "iopub.execute_input": "2025-02-07T05:01:18.319034Z",
     "iopub.status.busy": "2025-02-07T05:01:18.318619Z",
     "iopub.status.idle": "2025-02-07T05:01:18.585015Z",
     "shell.execute_reply": "2025-02-07T05:01:18.583853Z"
    },
    "papermill": {
     "duration": 0.304494,
     "end_time": "2025-02-07T05:01:18.586965",
     "exception": false,
     "start_time": "2025-02-07T05:01:18.282471",
     "status": "completed"
    },
    "tags": []
   },
   "outputs": [
    {
     "name": "stdout",
     "output_type": "stream",
     "text": [
      "\n",
      "Classification Report:\n",
      "\n",
      "              precision    recall  f1-score   support\n",
      "\n",
      "       apple       1.00      1.00      1.00        15\n",
      "      banana       1.00      1.00      1.00        15\n",
      "        kiwi       1.00      1.00      1.00        15\n",
      "        lime       1.00      1.00      1.00        15\n",
      "      orange       1.00      1.00      1.00        15\n",
      "       peach       1.00      1.00      1.00        15\n",
      "   pineapple       1.00      1.00      1.00        15\n",
      "\n",
      "    accuracy                           1.00       105\n",
      "   macro avg       1.00      1.00      1.00       105\n",
      "weighted avg       1.00      1.00      1.00       105\n",
      "\n"
     ]
    },
    {
     "data": {
      "image/png": "[encoded data removed]",
      "text/plain": [
       "<Figure size 800x600 with 2 Axes>"
      ]
     },
     "metadata": {},
     "output_type": "display_data"
    }
   ],
   "source": [
    "# Step 5: Evaluate the Model\n",
    "y_pred = classifier.predict(X_classifier_scaled)\n",
    "\n",
    "# Classification report\n",
    "print(\"\\nClassification Report:\\n\")\n",
    "print(classification_report(y_classifier, y_pred))\n",
    "\n",
    "# Confusion Matrix\n",
    "cm = confusion_matrix(y_classifier, y_pred, labels=word_labels)\n",
    "plt.figure(figsize=(8, 6))\n",
    "plt.imshow(cm, cmap='Blues', interpolation='nearest')\n",
    "plt.colorbar()\n",
    "plt.title(\"Confusion Matrix\")\n",
    "plt.xticks(np.arange(len(word_labels)), word_labels, rotation=45)\n",
    "plt.yticks(np.arange(len(word_labels)), word_labels)\n",
    "plt.xlabel(\"Predicted\")\n",
    "plt.ylabel(\"True\")\n",
    "plt.show()"
   ]
  },
  {
   "cell_type": "markdown",
   "id": "056e416b",
   "metadata": {
    "papermill": {
     "duration": 0.033081,
     "end_time": "2025-02-07T05:01:18.654149",
     "exception": false,
     "start_time": "2025-02-07T05:01:18.621068",
     "status": "completed"
    },
    "tags": []
   },
   "source": [
    "## What’s New:\n",
    "\n",
    "\n",
    "* Data Augmentation\n",
    "* Class-Specific HMMs\n",
    "* Feature Scaling\n",
    "* Class Weights\n",
    "* Improved Evaluation\n",
    "\n"
   ]
  },
  {
   "cell_type": "code",
   "execution_count": 62,
   "id": "d7b731f7",
   "metadata": {
    "execution": {
     "iopub.execute_input": "2025-02-07T05:01:18.723216Z",
     "iopub.status.busy": "2025-02-07T05:01:18.722828Z",
     "iopub.status.idle": "2025-02-07T05:01:18.743589Z",
     "shell.execute_reply": "2025-02-07T05:01:18.742452Z"
    },
    "papermill": {
     "duration": 0.057323,
     "end_time": "2025-02-07T05:01:18.745340",
     "exception": false,
     "start_time": "2025-02-07T05:01:18.688017",
     "status": "completed"
    },
    "tags": []
   },
   "outputs": [
    {
     "name": "stdout",
     "output_type": "stream",
     "text": [
      "\n",
      "Input file: /kaggle/input/spech-model-dataset/audio/orange/orange15.wav\n",
      "Predicted label: orange\n"
     ]
    }
   ],
   "source": [
    "# Step 6: Test on New Data\n",
    "input_file = '/kaggle/input/spech-model-dataset/audio/orange/orange15.wav'\n",
    "audio, sampling_freq = librosa.load(input_file)\n",
    "mfcc_features = mfcc(y=audio, sr=sampling_freq, n_mfcc=15)\n",
    "delta_features = librosa.feature.delta(mfcc_features)\n",
    "combined_features = np.vstack([mfcc_features, delta_features]).T\n",
    "\n",
    "test_scores = [hmm_models[l].score(combined_features) for l in word_labels]\n",
    "test_scores_scaled = scaler.transform([test_scores])\n",
    "\n",
    "predicted_label = classifier.predict(test_scores_scaled)\n",
    "\n",
    "print(\"\\nInput file:\", input_file)\n",
    "print(\"Predicted label:\", predicted_label[0])"
   ]
  },
  {
   "cell_type": "markdown",
   "id": "32d643ab",
   "metadata": {
    "papermill": {
     "duration": 0.034068,
     "end_time": "2025-02-07T05:01:18.815331",
     "exception": false,
     "start_time": "2025-02-07T05:01:18.781263",
     "status": "completed"
    },
    "tags": []
   },
   "source": [
    "## Upvote Notebook and Dataset and Comment"
   ]
  },
  {
   "cell_type": "code",
   "execution_count": null,
   "id": "53f1b25d",
   "metadata": {
    "papermill": {
     "duration": 0.03367,
     "end_time": "2025-02-07T05:01:18.883407",
     "exception": false,
     "start_time": "2025-02-07T05:01:18.849737",
     "status": "completed"
    },
    "tags": []
   },
   "outputs": [],
   "source": []
  }
 ],
 "metadata": {
  "kaggle": {
   "accelerator": "none",
   "dataSources": [
    {
     "datasetId": 2552522,
     "sourceId": 4335073,
     "sourceType": "datasetVersion"
    },
    {
     "datasetId": 6532211,
     "sourceId": 10558309,
     "sourceType": "datasetVersion"
    }
   ],
   "dockerImageVersionId": 30839,
   "isGpuEnabled": false,
   "isInternetEnabled": true,
   "language": "python",
   "sourceType": "notebook"
  },
  "kernelspec": {
   "display_name": "Python 3",
   "language": "python",
   "name": "python3"
  },
  "language_info": {
   "codemirror_mode": {
    "name": "ipython",
    "version": 3
   },
   "file_extension": ".py",
   "mimetype": "text/x-python",
   "name": "python",
   "nbconvert_exporter": "python",
   "pygments_lexer": "ipython3",
   "version": "3.10.12"
  },
  "papermill": {
   "default_parameters": {},
   "duration": 65.692567,
   "end_time": "2025-02-07T05:01:20.240936",
   "environment_variables": {},
   "exception": null,
   "input_path": "__notebook__.ipynb",
   "output_path": "__notebook__.ipynb",
   "parameters": {},
   "start_time": "2025-02-07T05:00:14.548369",
   "version": "2.6.0"
  }
 },
 "nbformat": 4,
 "nbformat_minor": 5
}
