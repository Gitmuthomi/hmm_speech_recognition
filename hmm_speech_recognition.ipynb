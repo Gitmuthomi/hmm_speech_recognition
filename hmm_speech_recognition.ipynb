{
 "cells": [
  {
   "cell_type": "markdown",
   "id": "161e9aac",
   "metadata": {},
   "source": [
    "# HMM SPEECH MODELING AND TRAINING"
   ]
  },
  {
   "cell_type": "markdown",
   "id": "ab987d0e",
   "metadata": {},
   "source": [
    "## Importing the Necessary Libraries"
   ]
  },
  {
   "cell_type": "code",
   "execution_count": 296,
   "id": "03d26375",
   "metadata": {},
   "outputs": [],
   "source": [
    "import numpy as np\n",
    "import pandas as pd \n",
    "import os\n",
    "import matplotlib.pyplot as plt\n",
    "from scipy.io import wavfile"
   ]
  },
  {
   "cell_type": "markdown",
   "id": "d6c962a3",
   "metadata": {},
   "source": [
    "## Data Loading Process"
   ]
  },
  {
   "cell_type": "code",
   "execution_count": 297,
   "id": "b6f42ec9",
   "metadata": {
    "_cell_guid": "b1076dfc-b9ad-4769-8c92-a6c4dae69d19",
    "_uuid": "8f2839f25d086af736a60e9eeb907d3b93b6e0e5",
    "execution": {
     "iopub.execute_input": "2025-02-07T05:00:17.490876Z",
     "iopub.status.busy": "2025-02-07T05:00:17.490483Z",
     "iopub.status.idle": "2025-02-07T05:00:18.603302Z",
     "shell.execute_reply": "2025-02-07T05:00:18.602215Z"
    },
    "papermill": {
     "duration": 1.131592,
     "end_time": "2025-02-07T05:00:18.605549",
     "exception": false,
     "start_time": "2025-02-07T05:00:17.473957",
     "status": "completed"
    },
    "tags": []
   },
   "outputs": [
    {
     "name": "stdout",
     "output_type": "stream",
     "text": [
      "C:\\Users\\giton\\Desktop\\MERIT\\Probabilistic Methods\\hmm_speech_recognition\\hmm-speech-modelling-and-training.ipynb\n",
      "C:\\Users\\giton\\Desktop\\MERIT\\Probabilistic Methods\\hmm_speech_recognition\\.git\\COMMIT_EDITMSG\n",
      "C:\\Users\\giton\\Desktop\\MERIT\\Probabilistic Methods\\hmm_speech_recognition\\.git\\config\n",
      "C:\\Users\\giton\\Desktop\\MERIT\\Probabilistic Methods\\hmm_speech_recognition\\.git\\description\n",
      "C:\\Users\\giton\\Desktop\\MERIT\\Probabilistic Methods\\hmm_speech_recognition\\.git\\FETCH_HEAD\n",
      "C:\\Users\\giton\\Desktop\\MERIT\\Probabilistic Methods\\hmm_speech_recognition\\.git\\HEAD\n",
      "C:\\Users\\giton\\Desktop\\MERIT\\Probabilistic Methods\\hmm_speech_recognition\\.git\\index\n",
      "C:\\Users\\giton\\Desktop\\MERIT\\Probabilistic Methods\\hmm_speech_recognition\\.git\\hooks\\applypatch-msg.sample\n",
      "C:\\Users\\giton\\Desktop\\MERIT\\Probabilistic Methods\\hmm_speech_recognition\\.git\\hooks\\commit-msg.sample\n",
      "C:\\Users\\giton\\Desktop\\MERIT\\Probabilistic Methods\\hmm_speech_recognition\\.git\\hooks\\fsmonitor-watchman.sample\n",
      "C:\\Users\\giton\\Desktop\\MERIT\\Probabilistic Methods\\hmm_speech_recognition\\.git\\hooks\\post-update.sample\n",
      "C:\\Users\\giton\\Desktop\\MERIT\\Probabilistic Methods\\hmm_speech_recognition\\.git\\hooks\\pre-applypatch.sample\n",
      "C:\\Users\\giton\\Desktop\\MERIT\\Probabilistic Methods\\hmm_speech_recognition\\.git\\hooks\\pre-commit.sample\n",
      "C:\\Users\\giton\\Desktop\\MERIT\\Probabilistic Methods\\hmm_speech_recognition\\.git\\hooks\\pre-merge-commit.sample\n",
      "C:\\Users\\giton\\Desktop\\MERIT\\Probabilistic Methods\\hmm_speech_recognition\\.git\\hooks\\pre-push.sample\n",
      "C:\\Users\\giton\\Desktop\\MERIT\\Probabilistic Methods\\hmm_speech_recognition\\.git\\hooks\\pre-rebase.sample\n",
      "C:\\Users\\giton\\Desktop\\MERIT\\Probabilistic Methods\\hmm_speech_recognition\\.git\\hooks\\pre-receive.sample\n",
      "C:\\Users\\giton\\Desktop\\MERIT\\Probabilistic Methods\\hmm_speech_recognition\\.git\\hooks\\prepare-commit-msg.sample\n",
      "C:\\Users\\giton\\Desktop\\MERIT\\Probabilistic Methods\\hmm_speech_recognition\\.git\\hooks\\push-to-checkout.sample\n",
      "C:\\Users\\giton\\Desktop\\MERIT\\Probabilistic Methods\\hmm_speech_recognition\\.git\\hooks\\sendemail-validate.sample\n",
      "C:\\Users\\giton\\Desktop\\MERIT\\Probabilistic Methods\\hmm_speech_recognition\\.git\\hooks\\update.sample\n",
      "C:\\Users\\giton\\Desktop\\MERIT\\Probabilistic Methods\\hmm_speech_recognition\\.git\\info\\exclude\n",
      "C:\\Users\\giton\\Desktop\\MERIT\\Probabilistic Methods\\hmm_speech_recognition\\.git\\logs\\HEAD\n",
      "C:\\Users\\giton\\Desktop\\MERIT\\Probabilistic Methods\\hmm_speech_recognition\\.git\\logs\\refs\\heads\\main\n",
      "C:\\Users\\giton\\Desktop\\MERIT\\Probabilistic Methods\\hmm_speech_recognition\\.git\\logs\\refs\\remotes\\origin\\main\n",
      "C:\\Users\\giton\\Desktop\\MERIT\\Probabilistic Methods\\hmm_speech_recognition\\.git\\objects\\00\\af5a93593cdb1e67cf7333e02d8a89a1d23ba1\n",
      "C:\\Users\\giton\\Desktop\\MERIT\\Probabilistic Methods\\hmm_speech_recognition\\.git\\objects\\05\\1940510bb840f4fbc0d9369540f9ebe34f5217\n",
      "C:\\Users\\giton\\Desktop\\MERIT\\Probabilistic Methods\\hmm_speech_recognition\\.git\\objects\\08\\baf331f1ab5e1b08b27d03fa204e67b08102bf\n",
      "C:\\Users\\giton\\Desktop\\MERIT\\Probabilistic Methods\\hmm_speech_recognition\\.git\\objects\\0b\\18c9ac61f923a147ded6c6be61fcaa489d4158\n",
      "C:\\Users\\giton\\Desktop\\MERIT\\Probabilistic Methods\\hmm_speech_recognition\\.git\\objects\\0b\\9a4b984ae991523388f5f94ecac2c5a7eaa5ae\n",
      "C:\\Users\\giton\\Desktop\\MERIT\\Probabilistic Methods\\hmm_speech_recognition\\.git\\objects\\0f\\0e22ace276dc8dd4ea4ac076cf1dac7224a4e8\n",
      "C:\\Users\\giton\\Desktop\\MERIT\\Probabilistic Methods\\hmm_speech_recognition\\.git\\objects\\10\\64352a040755212c0f16155b1737bb6a203ba9\n",
      "C:\\Users\\giton\\Desktop\\MERIT\\Probabilistic Methods\\hmm_speech_recognition\\.git\\objects\\11\\7ad6387e670f8256c16dffc4f1819d3152c58d\n",
      "C:\\Users\\giton\\Desktop\\MERIT\\Probabilistic Methods\\hmm_speech_recognition\\.git\\objects\\12\\691f5e8f777eae24cb5051f4e468772a1c8304\n",
      "C:\\Users\\giton\\Desktop\\MERIT\\Probabilistic Methods\\hmm_speech_recognition\\.git\\objects\\13\\680757f52cace28de0b52a121dd167b7552159\n",
      "C:\\Users\\giton\\Desktop\\MERIT\\Probabilistic Methods\\hmm_speech_recognition\\.git\\objects\\13\\e0d167ff68d34be63e3c76ae656f599ee2bbc3\n",
      "C:\\Users\\giton\\Desktop\\MERIT\\Probabilistic Methods\\hmm_speech_recognition\\.git\\objects\\16\\a157b59a8efbe8d6da37efdc375e58658b52ee\n",
      "C:\\Users\\giton\\Desktop\\MERIT\\Probabilistic Methods\\hmm_speech_recognition\\.git\\objects\\16\\a25a767da9e1394c5053e23e7836adda04952c\n",
      "C:\\Users\\giton\\Desktop\\MERIT\\Probabilistic Methods\\hmm_speech_recognition\\.git\\objects\\17\\d26dd4fd878dcbc5547e3d0a268f9d0176f455\n",
      "C:\\Users\\giton\\Desktop\\MERIT\\Probabilistic Methods\\hmm_speech_recognition\\.git\\objects\\18\\4b56a6311b26b3460dfc0ef608612120397a49\n",
      "C:\\Users\\giton\\Desktop\\MERIT\\Probabilistic Methods\\hmm_speech_recognition\\.git\\objects\\18\\85c38e18b50235fdd18526bcdca4e50b214f7e\n",
      "C:\\Users\\giton\\Desktop\\MERIT\\Probabilistic Methods\\hmm_speech_recognition\\.git\\objects\\1d\\4469f99fdae8fbea4baf0e8bf48badf760d03c\n",
      "C:\\Users\\giton\\Desktop\\MERIT\\Probabilistic Methods\\hmm_speech_recognition\\.git\\objects\\20\\70742351edc6bfcb2bf714ee1105bc2913e925\n",
      "C:\\Users\\giton\\Desktop\\MERIT\\Probabilistic Methods\\hmm_speech_recognition\\.git\\objects\\26\\662bee505fde170121a1dfb26b5f5c5563a666\n",
      "C:\\Users\\giton\\Desktop\\MERIT\\Probabilistic Methods\\hmm_speech_recognition\\.git\\objects\\27\\25ecf2515cc29bf456e473f453572f4ed5b186\n",
      "C:\\Users\\giton\\Desktop\\MERIT\\Probabilistic Methods\\hmm_speech_recognition\\.git\\objects\\2b\\dd528719857286048328b91e43c470b76c78c8\n",
      "C:\\Users\\giton\\Desktop\\MERIT\\Probabilistic Methods\\hmm_speech_recognition\\.git\\objects\\2c\\079e159b81f5c92ef1c2b7920b4745563e1111\n",
      "C:\\Users\\giton\\Desktop\\MERIT\\Probabilistic Methods\\hmm_speech_recognition\\.git\\objects\\2f\\a49626ae6c83875c03c76d899892e3c135ffb3\n",
      "C:\\Users\\giton\\Desktop\\MERIT\\Probabilistic Methods\\hmm_speech_recognition\\.git\\objects\\30\\f0851a9644ce951296adf69f31c683abea95ec\n",
      "C:\\Users\\giton\\Desktop\\MERIT\\Probabilistic Methods\\hmm_speech_recognition\\.git\\objects\\31\\202f41b19940eaa11d73a3d59327fa19fd19c1\n",
      "C:\\Users\\giton\\Desktop\\MERIT\\Probabilistic Methods\\hmm_speech_recognition\\.git\\objects\\33\\25ee7386e7cf09e0569b068bc51f2d194b43bd\n",
      "C:\\Users\\giton\\Desktop\\MERIT\\Probabilistic Methods\\hmm_speech_recognition\\.git\\objects\\33\\92c821c185a522cc89bba4850ef1dace77cf77\n",
      "C:\\Users\\giton\\Desktop\\MERIT\\Probabilistic Methods\\hmm_speech_recognition\\.git\\objects\\35\\28d8f13f979f7b5782ce03347a637c71708408\n",
      "C:\\Users\\giton\\Desktop\\MERIT\\Probabilistic Methods\\hmm_speech_recognition\\.git\\objects\\36\\a5be9f0551cf5262673c7edb9b21200ec43441\n",
      "C:\\Users\\giton\\Desktop\\MERIT\\Probabilistic Methods\\hmm_speech_recognition\\.git\\objects\\36\\f22536ba5872cccbef817cf0d5e38f1ae5bf1f\n",
      "C:\\Users\\giton\\Desktop\\MERIT\\Probabilistic Methods\\hmm_speech_recognition\\.git\\objects\\37\\9899721070369dceec4c1f03ac899b929af457\n",
      "C:\\Users\\giton\\Desktop\\MERIT\\Probabilistic Methods\\hmm_speech_recognition\\.git\\objects\\3e\\f8406aa6ec4f3fb0b110255e3a7cf7fb68860c\n",
      "C:\\Users\\giton\\Desktop\\MERIT\\Probabilistic Methods\\hmm_speech_recognition\\.git\\objects\\3f\\280cd3c188ab388516e69647c2be53479ef0a5\n",
      "C:\\Users\\giton\\Desktop\\MERIT\\Probabilistic Methods\\hmm_speech_recognition\\.git\\objects\\3f\\3c0b9649d43eb531a48e6d7379127945839ab3\n",
      "C:\\Users\\giton\\Desktop\\MERIT\\Probabilistic Methods\\hmm_speech_recognition\\.git\\objects\\43\\ccae065876fcc6d986044dc67ad9b7cdf8e315\n",
      "C:\\Users\\giton\\Desktop\\MERIT\\Probabilistic Methods\\hmm_speech_recognition\\.git\\objects\\47\\8db464cd6052668461199a64f7e091a8ea219f\n",
      "C:\\Users\\giton\\Desktop\\MERIT\\Probabilistic Methods\\hmm_speech_recognition\\.git\\objects\\49\\4137d8977c8b45f5ce083b37ae5c6b980bdc72\n",
      "C:\\Users\\giton\\Desktop\\MERIT\\Probabilistic Methods\\hmm_speech_recognition\\.git\\objects\\4e\\2cd279acdf02122514cff7ec9a486d68ef6453\n",
      "C:\\Users\\giton\\Desktop\\MERIT\\Probabilistic Methods\\hmm_speech_recognition\\.git\\objects\\4f\\ad42865f8c78e921b14d1e6039d510f185d909\n",
      "C:\\Users\\giton\\Desktop\\MERIT\\Probabilistic Methods\\hmm_speech_recognition\\.git\\objects\\50\\28abf3f9512c4add162583b9b303066ad69972\n",
      "C:\\Users\\giton\\Desktop\\MERIT\\Probabilistic Methods\\hmm_speech_recognition\\.git\\objects\\50\\601c29badf6cc0e26495bbf808150593f250d1\n",
      "C:\\Users\\giton\\Desktop\\MERIT\\Probabilistic Methods\\hmm_speech_recognition\\.git\\objects\\52\\03eca27fd308e963938a67f5f09d365999ad27\n",
      "C:\\Users\\giton\\Desktop\\MERIT\\Probabilistic Methods\\hmm_speech_recognition\\.git\\objects\\53\\25c62faf8e43ccde8addf0924304028605fd42\n",
      "C:\\Users\\giton\\Desktop\\MERIT\\Probabilistic Methods\\hmm_speech_recognition\\.git\\objects\\56\\2d90243374b91b37acb8e22d85d8742cb711a6\n",
      "C:\\Users\\giton\\Desktop\\MERIT\\Probabilistic Methods\\hmm_speech_recognition\\.git\\objects\\56\\3cd976830fb62064c30ffa6170034be689fc96\n",
      "C:\\Users\\giton\\Desktop\\MERIT\\Probabilistic Methods\\hmm_speech_recognition\\.git\\objects\\59\\070ea6cd0c4620c7d5122c8f11664b558d7365\n",
      "C:\\Users\\giton\\Desktop\\MERIT\\Probabilistic Methods\\hmm_speech_recognition\\.git\\objects\\59\\84c41cd1e203d395767f102ff2917bfac2a314\n",
      "C:\\Users\\giton\\Desktop\\MERIT\\Probabilistic Methods\\hmm_speech_recognition\\.git\\objects\\59\\e43437ba9f469992c3d3a4f928e881f6eda4fd\n",
      "C:\\Users\\giton\\Desktop\\MERIT\\Probabilistic Methods\\hmm_speech_recognition\\.git\\objects\\5c\\aea07b80e7200a10ff4f9b15519c5452aec893\n",
      "C:\\Users\\giton\\Desktop\\MERIT\\Probabilistic Methods\\hmm_speech_recognition\\.git\\objects\\5c\\d04a69a71ddf535e863b7577ffa0fd4f560156\n",
      "C:\\Users\\giton\\Desktop\\MERIT\\Probabilistic Methods\\hmm_speech_recognition\\.git\\objects\\5d\\58872ac976666ee3d01e8091db580c0424b2d6\n",
      "C:\\Users\\giton\\Desktop\\MERIT\\Probabilistic Methods\\hmm_speech_recognition\\.git\\objects\\5f\\e6d1247449312c2707a19dea64d2ad806e44e6\n",
      "C:\\Users\\giton\\Desktop\\MERIT\\Probabilistic Methods\\hmm_speech_recognition\\.git\\objects\\60\\9d57c6ce8e19be895cdd4b40a6b63f39d1dd79\n",
      "C:\\Users\\giton\\Desktop\\MERIT\\Probabilistic Methods\\hmm_speech_recognition\\.git\\objects\\62\\42d26ceada776a85a87f13586726b534294f82\n",
      "C:\\Users\\giton\\Desktop\\MERIT\\Probabilistic Methods\\hmm_speech_recognition\\.git\\objects\\62\\717f14f1eb40314217e5c6548933b6db9dfc4b\n",
      "C:\\Users\\giton\\Desktop\\MERIT\\Probabilistic Methods\\hmm_speech_recognition\\.git\\objects\\63\\05bbc502f5ce2afee1e5123b7a8e83ece19c30\n",
      "C:\\Users\\giton\\Desktop\\MERIT\\Probabilistic Methods\\hmm_speech_recognition\\.git\\objects\\64\\152385755be9b15280a2dcf34085541365472a\n",
      "C:\\Users\\giton\\Desktop\\MERIT\\Probabilistic Methods\\hmm_speech_recognition\\.git\\objects\\64\\3544af37a2d28671f3e2437758b4a7c6734e02\n",
      "C:\\Users\\giton\\Desktop\\MERIT\\Probabilistic Methods\\hmm_speech_recognition\\.git\\objects\\66\\38b03810971c303318848cf342276b06f20f5a\n",
      "C:\\Users\\giton\\Desktop\\MERIT\\Probabilistic Methods\\hmm_speech_recognition\\.git\\objects\\71\\4915918998753a9c6ac9514edd5b963820eb12\n",
      "C:\\Users\\giton\\Desktop\\MERIT\\Probabilistic Methods\\hmm_speech_recognition\\.git\\objects\\74\\4a97374e14ef3df0306b2aef4522aa55b95428\n",
      "C:\\Users\\giton\\Desktop\\MERIT\\Probabilistic Methods\\hmm_speech_recognition\\.git\\objects\\78\\8589b88cea4eef5b2e6f3babe23d31223613c3\n",
      "C:\\Users\\giton\\Desktop\\MERIT\\Probabilistic Methods\\hmm_speech_recognition\\.git\\objects\\7c\\bfcbeea2c0e0c9b9ee9e822ace0c6d56fee834\n",
      "C:\\Users\\giton\\Desktop\\MERIT\\Probabilistic Methods\\hmm_speech_recognition\\.git\\objects\\7c\\c6d4d368ac29a23f8d1675beb7c342229c6bc8\n",
      "C:\\Users\\giton\\Desktop\\MERIT\\Probabilistic Methods\\hmm_speech_recognition\\.git\\objects\\7c\\efaefcbcf5d3c28d33793f02da61370284b91c\n",
      "C:\\Users\\giton\\Desktop\\MERIT\\Probabilistic Methods\\hmm_speech_recognition\\.git\\objects\\7d\\30110edea978b985a21951dd196e05a8432511\n",
      "C:\\Users\\giton\\Desktop\\MERIT\\Probabilistic Methods\\hmm_speech_recognition\\.git\\objects\\7d\\36e8ab331fbae95c78146dc1e96b06ac6073bb\n",
      "C:\\Users\\giton\\Desktop\\MERIT\\Probabilistic Methods\\hmm_speech_recognition\\.git\\objects\\80\\923307d9d590a1302c9949cedfbfd7d45e5c48\n",
      "C:\\Users\\giton\\Desktop\\MERIT\\Probabilistic Methods\\hmm_speech_recognition\\.git\\objects\\81\\f2ae01a7151425c53b47eb4f747aa137e57f95\n",
      "C:\\Users\\giton\\Desktop\\MERIT\\Probabilistic Methods\\hmm_speech_recognition\\.git\\objects\\82\\7106be9b8b93452bca5dacd333d52df0d05879\n",
      "C:\\Users\\giton\\Desktop\\MERIT\\Probabilistic Methods\\hmm_speech_recognition\\.git\\objects\\82\\856d084c2d3e8aa974d3e5f9fcba1499824646\n",
      "C:\\Users\\giton\\Desktop\\MERIT\\Probabilistic Methods\\hmm_speech_recognition\\.git\\objects\\86\\fce6c6414c5224146b6b88cf6f86200ad28162\n",
      "C:\\Users\\giton\\Desktop\\MERIT\\Probabilistic Methods\\hmm_speech_recognition\\.git\\objects\\89\\2b33520707ddf067a9d45c3c9a0a5647d27981\n",
      "C:\\Users\\giton\\Desktop\\MERIT\\Probabilistic Methods\\hmm_speech_recognition\\.git\\objects\\89\\4ed9e2cb59c65db8b56836b91117726ec3c50c\n",
      "C:\\Users\\giton\\Desktop\\MERIT\\Probabilistic Methods\\hmm_speech_recognition\\.git\\objects\\89\\9592dc71d90f78654e7521995c5a93af23297b\n",
      "C:\\Users\\giton\\Desktop\\MERIT\\Probabilistic Methods\\hmm_speech_recognition\\.git\\objects\\8b\\65b9f2daa10d2b9de178261091ec998374bad2\n",
      "C:\\Users\\giton\\Desktop\\MERIT\\Probabilistic Methods\\hmm_speech_recognition\\.git\\objects\\8e\\2b7ce595e7970fb9bee3ba00c209794c38d7a3\n",
      "C:\\Users\\giton\\Desktop\\MERIT\\Probabilistic Methods\\hmm_speech_recognition\\.git\\objects\\8e\\546962cf527704d4bc90840f14b696292de9e7\n",
      "C:\\Users\\giton\\Desktop\\MERIT\\Probabilistic Methods\\hmm_speech_recognition\\.git\\objects\\8e\\c78da3a13bb174545e2862352560c8d9a68066\n",
      "C:\\Users\\giton\\Desktop\\MERIT\\Probabilistic Methods\\hmm_speech_recognition\\.git\\objects\\95\\3fc9023739bee1a74a722c2e037efc0a90971b\n",
      "C:\\Users\\giton\\Desktop\\MERIT\\Probabilistic Methods\\hmm_speech_recognition\\.git\\objects\\97\\92a9d345efe43c7e8fcb9a62ac117bcbbbf402\n",
      "C:\\Users\\giton\\Desktop\\MERIT\\Probabilistic Methods\\hmm_speech_recognition\\.git\\objects\\98\\77aeab74c73a5c0e3e3cc07c1180f42cbf7d7e\n",
      "C:\\Users\\giton\\Desktop\\MERIT\\Probabilistic Methods\\hmm_speech_recognition\\.git\\objects\\9d\\d6d57833bb556332df8edc98a384883eec3794\n",
      "C:\\Users\\giton\\Desktop\\MERIT\\Probabilistic Methods\\hmm_speech_recognition\\.git\\objects\\9e\\e02dc675656999ff291b4ba99be74e5f58f55f\n",
      "C:\\Users\\giton\\Desktop\\MERIT\\Probabilistic Methods\\hmm_speech_recognition\\.git\\objects\\9f\\1a90e775c641523ac7cd7169f3d7020301a6fa\n",
      "C:\\Users\\giton\\Desktop\\MERIT\\Probabilistic Methods\\hmm_speech_recognition\\.git\\objects\\a0\\bb41d09452fa5e2e3354fe7326b0fa9fd46345\n",
      "C:\\Users\\giton\\Desktop\\MERIT\\Probabilistic Methods\\hmm_speech_recognition\\.git\\objects\\a2\\73ab7baa0cd04ecd71149f33cbbc4d2002e3be\n",
      "C:\\Users\\giton\\Desktop\\MERIT\\Probabilistic Methods\\hmm_speech_recognition\\.git\\objects\\a2\\780a255287f31301f7bdb5ede0496dfd179863\n",
      "C:\\Users\\giton\\Desktop\\MERIT\\Probabilistic Methods\\hmm_speech_recognition\\.git\\objects\\a3\\1909f9d215054b038f89666c2f9d70314f0bf3\n",
      "C:\\Users\\giton\\Desktop\\MERIT\\Probabilistic Methods\\hmm_speech_recognition\\.git\\objects\\a6\\0a3f6b219150bfce87e001dd6d2ecf8622f3b4\n",
      "C:\\Users\\giton\\Desktop\\MERIT\\Probabilistic Methods\\hmm_speech_recognition\\.git\\objects\\a8\\30a77f737f6aa58bf7c025a28c7af7adff17a6\n",
      "C:\\Users\\giton\\Desktop\\MERIT\\Probabilistic Methods\\hmm_speech_recognition\\.git\\objects\\a8\\d870f5fed896d826743974cf2ef259b4f63be1\n",
      "C:\\Users\\giton\\Desktop\\MERIT\\Probabilistic Methods\\hmm_speech_recognition\\.git\\objects\\ad\\1d7a4d7bd6cb6a8daad92a4f570bd88b730edc\n",
      "C:\\Users\\giton\\Desktop\\MERIT\\Probabilistic Methods\\hmm_speech_recognition\\.git\\objects\\ae\\67f2848fc4f10c00c9d367738a1e75d547aaf7\n",
      "C:\\Users\\giton\\Desktop\\MERIT\\Probabilistic Methods\\hmm_speech_recognition\\.git\\objects\\b0\\d9da052e0418e29df4ee24942fb28932dc9f1d\n",
      "C:\\Users\\giton\\Desktop\\MERIT\\Probabilistic Methods\\hmm_speech_recognition\\.git\\objects\\b1\\c922b2615e4ee8b6a0869da2072559ef10581e\n",
      "C:\\Users\\giton\\Desktop\\MERIT\\Probabilistic Methods\\hmm_speech_recognition\\.git\\objects\\b6\\4d9f8c7990ffdf13566cb5eca2dc0b1c09cbec\n",
      "C:\\Users\\giton\\Desktop\\MERIT\\Probabilistic Methods\\hmm_speech_recognition\\.git\\objects\\b7\\c203f50efabfd7688e3b7f5d710f6829c1465c\n",
      "C:\\Users\\giton\\Desktop\\MERIT\\Probabilistic Methods\\hmm_speech_recognition\\.git\\objects\\bf\\4121bf8e7f1f2dc48181667d5c7da5d35a0ea8\n",
      "C:\\Users\\giton\\Desktop\\MERIT\\Probabilistic Methods\\hmm_speech_recognition\\.git\\objects\\bf\\4fd6183768f55b1c987823404f10cd3a4e66bd\n",
      "C:\\Users\\giton\\Desktop\\MERIT\\Probabilistic Methods\\hmm_speech_recognition\\.git\\objects\\bf\\ca558a44daffdc00b221c8264bf76532c9abf2\n",
      "C:\\Users\\giton\\Desktop\\MERIT\\Probabilistic Methods\\hmm_speech_recognition\\.git\\objects\\c0\\6420ce7a1feade904757e29058887784f0f92c\n",
      "C:\\Users\\giton\\Desktop\\MERIT\\Probabilistic Methods\\hmm_speech_recognition\\.git\\objects\\c0\\6a11554eba95a7db844e0efc842dfb0831e677\n",
      "C:\\Users\\giton\\Desktop\\MERIT\\Probabilistic Methods\\hmm_speech_recognition\\.git\\objects\\ca\\8f5527f1027d263dee1ed494de352f4b9f087c\n",
      "C:\\Users\\giton\\Desktop\\MERIT\\Probabilistic Methods\\hmm_speech_recognition\\.git\\objects\\ca\\eed430b15bcc28f72c728daa5608e5ac27e86a\n",
      "C:\\Users\\giton\\Desktop\\MERIT\\Probabilistic Methods\\hmm_speech_recognition\\.git\\objects\\d5\\eaeb0647f201fe6922c9977361bc0b21d66546\n",
      "C:\\Users\\giton\\Desktop\\MERIT\\Probabilistic Methods\\hmm_speech_recognition\\.git\\objects\\db\\1af80c5cd9a9863323ca55e463e89d9cbadf4d\n",
      "C:\\Users\\giton\\Desktop\\MERIT\\Probabilistic Methods\\hmm_speech_recognition\\.git\\objects\\db\\70fbb5af6eebc165ff310cf95be82b506bbbaa\n",
      "C:\\Users\\giton\\Desktop\\MERIT\\Probabilistic Methods\\hmm_speech_recognition\\.git\\objects\\dc\\287061fcbcd4a5e2e6d3d817671197bcc84a75\n",
      "C:\\Users\\giton\\Desktop\\MERIT\\Probabilistic Methods\\hmm_speech_recognition\\.git\\objects\\dc\\662b2401c620a1a4528f943b53ee2719e0c620\n",
      "C:\\Users\\giton\\Desktop\\MERIT\\Probabilistic Methods\\hmm_speech_recognition\\.git\\objects\\df\\473134335c0c4bde7ab1f62f17d9f84b722c17\n",
      "C:\\Users\\giton\\Desktop\\MERIT\\Probabilistic Methods\\hmm_speech_recognition\\.git\\objects\\e0\\8c1745c9c32699f989ab3bba8d7e48a6a09ace\n",
      "C:\\Users\\giton\\Desktop\\MERIT\\Probabilistic Methods\\hmm_speech_recognition\\.git\\objects\\e2\\c0b03b4cd8882ec8b9f1722ddfdc71c0888c55\n",
      "C:\\Users\\giton\\Desktop\\MERIT\\Probabilistic Methods\\hmm_speech_recognition\\.git\\objects\\e3\\c6e1f5a625196d17f2ec10d294062e017ffafc\n",
      "C:\\Users\\giton\\Desktop\\MERIT\\Probabilistic Methods\\hmm_speech_recognition\\.git\\objects\\e5\\247fc433adc31d77a4846989afacfbbe3ec472\n",
      "C:\\Users\\giton\\Desktop\\MERIT\\Probabilistic Methods\\hmm_speech_recognition\\.git\\objects\\e6\\93da55522226370a6dcfd5b8c6762e90d57edc\n",
      "C:\\Users\\giton\\Desktop\\MERIT\\Probabilistic Methods\\hmm_speech_recognition\\.git\\objects\\e7\\389af72d0f50da0382e462f61be026d7be76a3\n",
      "C:\\Users\\giton\\Desktop\\MERIT\\Probabilistic Methods\\hmm_speech_recognition\\.git\\objects\\ea\\4ef0e863ea2df26a92dd3cbc2e99cf005ffa5f\n",
      "C:\\Users\\giton\\Desktop\\MERIT\\Probabilistic Methods\\hmm_speech_recognition\\.git\\objects\\eb\\30dbda20d2314edcc9141fba7c6f3e71e6a30b\n",
      "C:\\Users\\giton\\Desktop\\MERIT\\Probabilistic Methods\\hmm_speech_recognition\\.git\\objects\\ec\\9231078597fc2fcbc063dd41cb5ed4080d1da4\n",
      "C:\\Users\\giton\\Desktop\\MERIT\\Probabilistic Methods\\hmm_speech_recognition\\.git\\objects\\ed\\09c6b3c7c6ab9a077e0a109189515e4258c59c\n",
      "C:\\Users\\giton\\Desktop\\MERIT\\Probabilistic Methods\\hmm_speech_recognition\\.git\\objects\\ee\\0e082e9efd3ad03ce4f311326fe859faa2eeed\n",
      "C:\\Users\\giton\\Desktop\\MERIT\\Probabilistic Methods\\hmm_speech_recognition\\.git\\objects\\f3\\d4fb8334a781865160cdcb5cc14e998453829a\n",
      "C:\\Users\\giton\\Desktop\\MERIT\\Probabilistic Methods\\hmm_speech_recognition\\.git\\objects\\f5\\992fa1b191f35a35ccf936dc93be3617d3249c\n",
      "C:\\Users\\giton\\Desktop\\MERIT\\Probabilistic Methods\\hmm_speech_recognition\\.git\\objects\\f7\\85c3895bb11b1bee6260b8905ed6f882759dcb\n",
      "C:\\Users\\giton\\Desktop\\MERIT\\Probabilistic Methods\\hmm_speech_recognition\\.git\\objects\\f8\\1a86a8449c25655ded6a4cdd92f173d74a2b4d\n",
      "C:\\Users\\giton\\Desktop\\MERIT\\Probabilistic Methods\\hmm_speech_recognition\\.git\\objects\\fa\\fb2e84452363b34f74f60a22fb9d8f986604cc\n",
      "C:\\Users\\giton\\Desktop\\MERIT\\Probabilistic Methods\\hmm_speech_recognition\\.git\\objects\\fc\\50bf38812b227b870cb4d493979186b9a2ebe6\n",
      "C:\\Users\\giton\\Desktop\\MERIT\\Probabilistic Methods\\hmm_speech_recognition\\.git\\objects\\fc\\6941ea613237e4e0ed1959a50e9e548aa823d2\n",
      "C:\\Users\\giton\\Desktop\\MERIT\\Probabilistic Methods\\hmm_speech_recognition\\.git\\objects\\fd\\8db4100817cbeec668b82daea5138e96689fef\n",
      "C:\\Users\\giton\\Desktop\\MERIT\\Probabilistic Methods\\hmm_speech_recognition\\.git\\refs\\heads\\main\n",
      "C:\\Users\\giton\\Desktop\\MERIT\\Probabilistic Methods\\hmm_speech_recognition\\.git\\refs\\remotes\\origin\\main\n",
      "C:\\Users\\giton\\Desktop\\MERIT\\Probabilistic Methods\\hmm_speech_recognition\\audio\\apple\\apple01.wav\n",
      "C:\\Users\\giton\\Desktop\\MERIT\\Probabilistic Methods\\hmm_speech_recognition\\audio\\apple\\apple02.wav\n",
      "C:\\Users\\giton\\Desktop\\MERIT\\Probabilistic Methods\\hmm_speech_recognition\\audio\\apple\\apple03.wav\n",
      "C:\\Users\\giton\\Desktop\\MERIT\\Probabilistic Methods\\hmm_speech_recognition\\audio\\apple\\apple04.wav\n",
      "C:\\Users\\giton\\Desktop\\MERIT\\Probabilistic Methods\\hmm_speech_recognition\\audio\\apple\\apple05.wav\n",
      "C:\\Users\\giton\\Desktop\\MERIT\\Probabilistic Methods\\hmm_speech_recognition\\audio\\apple\\apple06.wav\n",
      "C:\\Users\\giton\\Desktop\\MERIT\\Probabilistic Methods\\hmm_speech_recognition\\audio\\apple\\apple07.wav\n",
      "C:\\Users\\giton\\Desktop\\MERIT\\Probabilistic Methods\\hmm_speech_recognition\\audio\\apple\\apple08.wav\n",
      "C:\\Users\\giton\\Desktop\\MERIT\\Probabilistic Methods\\hmm_speech_recognition\\audio\\apple\\apple09.wav\n",
      "C:\\Users\\giton\\Desktop\\MERIT\\Probabilistic Methods\\hmm_speech_recognition\\audio\\apple\\apple10.wav\n",
      "C:\\Users\\giton\\Desktop\\MERIT\\Probabilistic Methods\\hmm_speech_recognition\\audio\\apple\\apple11.wav\n",
      "C:\\Users\\giton\\Desktop\\MERIT\\Probabilistic Methods\\hmm_speech_recognition\\audio\\apple\\apple12.wav\n",
      "C:\\Users\\giton\\Desktop\\MERIT\\Probabilistic Methods\\hmm_speech_recognition\\audio\\apple\\apple13.wav\n",
      "C:\\Users\\giton\\Desktop\\MERIT\\Probabilistic Methods\\hmm_speech_recognition\\audio\\apple\\apple14.wav\n",
      "C:\\Users\\giton\\Desktop\\MERIT\\Probabilistic Methods\\hmm_speech_recognition\\audio\\apple\\apple15.wav\n",
      "C:\\Users\\giton\\Desktop\\MERIT\\Probabilistic Methods\\hmm_speech_recognition\\audio\\banana\\banana01.wav\n",
      "C:\\Users\\giton\\Desktop\\MERIT\\Probabilistic Methods\\hmm_speech_recognition\\audio\\banana\\banana02.wav\n",
      "C:\\Users\\giton\\Desktop\\MERIT\\Probabilistic Methods\\hmm_speech_recognition\\audio\\banana\\banana03.wav\n",
      "C:\\Users\\giton\\Desktop\\MERIT\\Probabilistic Methods\\hmm_speech_recognition\\audio\\banana\\banana04.wav\n",
      "C:\\Users\\giton\\Desktop\\MERIT\\Probabilistic Methods\\hmm_speech_recognition\\audio\\banana\\banana05.wav\n",
      "C:\\Users\\giton\\Desktop\\MERIT\\Probabilistic Methods\\hmm_speech_recognition\\audio\\banana\\banana06.wav\n",
      "C:\\Users\\giton\\Desktop\\MERIT\\Probabilistic Methods\\hmm_speech_recognition\\audio\\banana\\banana07.wav\n",
      "C:\\Users\\giton\\Desktop\\MERIT\\Probabilistic Methods\\hmm_speech_recognition\\audio\\banana\\banana08.wav\n",
      "C:\\Users\\giton\\Desktop\\MERIT\\Probabilistic Methods\\hmm_speech_recognition\\audio\\banana\\banana09.wav\n",
      "C:\\Users\\giton\\Desktop\\MERIT\\Probabilistic Methods\\hmm_speech_recognition\\audio\\banana\\banana10.wav\n",
      "C:\\Users\\giton\\Desktop\\MERIT\\Probabilistic Methods\\hmm_speech_recognition\\audio\\banana\\banana11.wav\n",
      "C:\\Users\\giton\\Desktop\\MERIT\\Probabilistic Methods\\hmm_speech_recognition\\audio\\banana\\banana12.wav\n",
      "C:\\Users\\giton\\Desktop\\MERIT\\Probabilistic Methods\\hmm_speech_recognition\\audio\\banana\\banana13.wav\n",
      "C:\\Users\\giton\\Desktop\\MERIT\\Probabilistic Methods\\hmm_speech_recognition\\audio\\banana\\banana14.wav\n",
      "C:\\Users\\giton\\Desktop\\MERIT\\Probabilistic Methods\\hmm_speech_recognition\\audio\\banana\\banana15.wav\n",
      "C:\\Users\\giton\\Desktop\\MERIT\\Probabilistic Methods\\hmm_speech_recognition\\audio\\kiwi\\kiwi01.wav\n",
      "C:\\Users\\giton\\Desktop\\MERIT\\Probabilistic Methods\\hmm_speech_recognition\\audio\\kiwi\\kiwi02.wav\n",
      "C:\\Users\\giton\\Desktop\\MERIT\\Probabilistic Methods\\hmm_speech_recognition\\audio\\kiwi\\kiwi03.wav\n",
      "C:\\Users\\giton\\Desktop\\MERIT\\Probabilistic Methods\\hmm_speech_recognition\\audio\\kiwi\\kiwi04.wav\n",
      "C:\\Users\\giton\\Desktop\\MERIT\\Probabilistic Methods\\hmm_speech_recognition\\audio\\kiwi\\kiwi05.wav\n",
      "C:\\Users\\giton\\Desktop\\MERIT\\Probabilistic Methods\\hmm_speech_recognition\\audio\\kiwi\\kiwi06.wav\n",
      "C:\\Users\\giton\\Desktop\\MERIT\\Probabilistic Methods\\hmm_speech_recognition\\audio\\kiwi\\kiwi07.wav\n",
      "C:\\Users\\giton\\Desktop\\MERIT\\Probabilistic Methods\\hmm_speech_recognition\\audio\\kiwi\\kiwi08.wav\n",
      "C:\\Users\\giton\\Desktop\\MERIT\\Probabilistic Methods\\hmm_speech_recognition\\audio\\kiwi\\kiwi09.wav\n",
      "C:\\Users\\giton\\Desktop\\MERIT\\Probabilistic Methods\\hmm_speech_recognition\\audio\\kiwi\\kiwi10.wav\n",
      "C:\\Users\\giton\\Desktop\\MERIT\\Probabilistic Methods\\hmm_speech_recognition\\audio\\kiwi\\kiwi11.wav\n",
      "C:\\Users\\giton\\Desktop\\MERIT\\Probabilistic Methods\\hmm_speech_recognition\\audio\\kiwi\\kiwi12.wav\n",
      "C:\\Users\\giton\\Desktop\\MERIT\\Probabilistic Methods\\hmm_speech_recognition\\audio\\kiwi\\kiwi13.wav\n",
      "C:\\Users\\giton\\Desktop\\MERIT\\Probabilistic Methods\\hmm_speech_recognition\\audio\\kiwi\\kiwi14.wav\n",
      "C:\\Users\\giton\\Desktop\\MERIT\\Probabilistic Methods\\hmm_speech_recognition\\audio\\kiwi\\kiwi15.wav\n",
      "C:\\Users\\giton\\Desktop\\MERIT\\Probabilistic Methods\\hmm_speech_recognition\\audio\\lime\\lime01.wav\n",
      "C:\\Users\\giton\\Desktop\\MERIT\\Probabilistic Methods\\hmm_speech_recognition\\audio\\lime\\lime02.wav\n",
      "C:\\Users\\giton\\Desktop\\MERIT\\Probabilistic Methods\\hmm_speech_recognition\\audio\\lime\\lime03.wav\n",
      "C:\\Users\\giton\\Desktop\\MERIT\\Probabilistic Methods\\hmm_speech_recognition\\audio\\lime\\lime04.wav\n",
      "C:\\Users\\giton\\Desktop\\MERIT\\Probabilistic Methods\\hmm_speech_recognition\\audio\\lime\\lime05.wav\n",
      "C:\\Users\\giton\\Desktop\\MERIT\\Probabilistic Methods\\hmm_speech_recognition\\audio\\lime\\lime06.wav\n",
      "C:\\Users\\giton\\Desktop\\MERIT\\Probabilistic Methods\\hmm_speech_recognition\\audio\\lime\\lime07.wav\n",
      "C:\\Users\\giton\\Desktop\\MERIT\\Probabilistic Methods\\hmm_speech_recognition\\audio\\lime\\lime08.wav\n",
      "C:\\Users\\giton\\Desktop\\MERIT\\Probabilistic Methods\\hmm_speech_recognition\\audio\\lime\\lime09.wav\n",
      "C:\\Users\\giton\\Desktop\\MERIT\\Probabilistic Methods\\hmm_speech_recognition\\audio\\lime\\lime10.wav\n",
      "C:\\Users\\giton\\Desktop\\MERIT\\Probabilistic Methods\\hmm_speech_recognition\\audio\\lime\\lime11.wav\n",
      "C:\\Users\\giton\\Desktop\\MERIT\\Probabilistic Methods\\hmm_speech_recognition\\audio\\lime\\lime12.wav\n",
      "C:\\Users\\giton\\Desktop\\MERIT\\Probabilistic Methods\\hmm_speech_recognition\\audio\\lime\\lime13.wav\n",
      "C:\\Users\\giton\\Desktop\\MERIT\\Probabilistic Methods\\hmm_speech_recognition\\audio\\lime\\lime14.wav\n",
      "C:\\Users\\giton\\Desktop\\MERIT\\Probabilistic Methods\\hmm_speech_recognition\\audio\\lime\\lime15.wav\n",
      "C:\\Users\\giton\\Desktop\\MERIT\\Probabilistic Methods\\hmm_speech_recognition\\audio\\orange\\orange01.wav\n",
      "C:\\Users\\giton\\Desktop\\MERIT\\Probabilistic Methods\\hmm_speech_recognition\\audio\\orange\\orange02.wav\n",
      "C:\\Users\\giton\\Desktop\\MERIT\\Probabilistic Methods\\hmm_speech_recognition\\audio\\orange\\orange03.wav\n",
      "C:\\Users\\giton\\Desktop\\MERIT\\Probabilistic Methods\\hmm_speech_recognition\\audio\\orange\\orange04.wav\n",
      "C:\\Users\\giton\\Desktop\\MERIT\\Probabilistic Methods\\hmm_speech_recognition\\audio\\orange\\orange05.wav\n",
      "C:\\Users\\giton\\Desktop\\MERIT\\Probabilistic Methods\\hmm_speech_recognition\\audio\\orange\\orange06.wav\n",
      "C:\\Users\\giton\\Desktop\\MERIT\\Probabilistic Methods\\hmm_speech_recognition\\audio\\orange\\orange07.wav\n",
      "C:\\Users\\giton\\Desktop\\MERIT\\Probabilistic Methods\\hmm_speech_recognition\\audio\\orange\\orange08.wav\n",
      "C:\\Users\\giton\\Desktop\\MERIT\\Probabilistic Methods\\hmm_speech_recognition\\audio\\orange\\orange09.wav\n",
      "C:\\Users\\giton\\Desktop\\MERIT\\Probabilistic Methods\\hmm_speech_recognition\\audio\\orange\\orange10.wav\n",
      "C:\\Users\\giton\\Desktop\\MERIT\\Probabilistic Methods\\hmm_speech_recognition\\audio\\orange\\orange11.wav\n",
      "C:\\Users\\giton\\Desktop\\MERIT\\Probabilistic Methods\\hmm_speech_recognition\\audio\\orange\\orange12.wav\n",
      "C:\\Users\\giton\\Desktop\\MERIT\\Probabilistic Methods\\hmm_speech_recognition\\audio\\orange\\orange13.wav\n",
      "C:\\Users\\giton\\Desktop\\MERIT\\Probabilistic Methods\\hmm_speech_recognition\\audio\\orange\\orange14.wav\n",
      "C:\\Users\\giton\\Desktop\\MERIT\\Probabilistic Methods\\hmm_speech_recognition\\audio\\orange\\orange15.wav\n",
      "C:\\Users\\giton\\Desktop\\MERIT\\Probabilistic Methods\\hmm_speech_recognition\\audio\\peach\\peach01.wav\n",
      "C:\\Users\\giton\\Desktop\\MERIT\\Probabilistic Methods\\hmm_speech_recognition\\audio\\peach\\peach02.wav\n",
      "C:\\Users\\giton\\Desktop\\MERIT\\Probabilistic Methods\\hmm_speech_recognition\\audio\\peach\\peach03.wav\n",
      "C:\\Users\\giton\\Desktop\\MERIT\\Probabilistic Methods\\hmm_speech_recognition\\audio\\peach\\peach04.wav\n",
      "C:\\Users\\giton\\Desktop\\MERIT\\Probabilistic Methods\\hmm_speech_recognition\\audio\\peach\\peach05.wav\n",
      "C:\\Users\\giton\\Desktop\\MERIT\\Probabilistic Methods\\hmm_speech_recognition\\audio\\peach\\peach06.wav\n",
      "C:\\Users\\giton\\Desktop\\MERIT\\Probabilistic Methods\\hmm_speech_recognition\\audio\\peach\\peach07.wav\n",
      "C:\\Users\\giton\\Desktop\\MERIT\\Probabilistic Methods\\hmm_speech_recognition\\audio\\peach\\peach08.wav\n",
      "C:\\Users\\giton\\Desktop\\MERIT\\Probabilistic Methods\\hmm_speech_recognition\\audio\\peach\\peach09.wav\n",
      "C:\\Users\\giton\\Desktop\\MERIT\\Probabilistic Methods\\hmm_speech_recognition\\audio\\peach\\peach10.wav\n",
      "C:\\Users\\giton\\Desktop\\MERIT\\Probabilistic Methods\\hmm_speech_recognition\\audio\\peach\\peach11.wav\n",
      "C:\\Users\\giton\\Desktop\\MERIT\\Probabilistic Methods\\hmm_speech_recognition\\audio\\peach\\peach12.wav\n",
      "C:\\Users\\giton\\Desktop\\MERIT\\Probabilistic Methods\\hmm_speech_recognition\\audio\\peach\\peach13.wav\n",
      "C:\\Users\\giton\\Desktop\\MERIT\\Probabilistic Methods\\hmm_speech_recognition\\audio\\peach\\peach14.wav\n",
      "C:\\Users\\giton\\Desktop\\MERIT\\Probabilistic Methods\\hmm_speech_recognition\\audio\\peach\\peach15.wav\n",
      "C:\\Users\\giton\\Desktop\\MERIT\\Probabilistic Methods\\hmm_speech_recognition\\audio\\pineapple\\pineapple01.wav\n",
      "C:\\Users\\giton\\Desktop\\MERIT\\Probabilistic Methods\\hmm_speech_recognition\\audio\\pineapple\\pineapple02.wav\n",
      "C:\\Users\\giton\\Desktop\\MERIT\\Probabilistic Methods\\hmm_speech_recognition\\audio\\pineapple\\pineapple03.wav\n",
      "C:\\Users\\giton\\Desktop\\MERIT\\Probabilistic Methods\\hmm_speech_recognition\\audio\\pineapple\\pineapple04.wav\n",
      "C:\\Users\\giton\\Desktop\\MERIT\\Probabilistic Methods\\hmm_speech_recognition\\audio\\pineapple\\pineapple05.wav\n",
      "C:\\Users\\giton\\Desktop\\MERIT\\Probabilistic Methods\\hmm_speech_recognition\\audio\\pineapple\\pineapple06.wav\n",
      "C:\\Users\\giton\\Desktop\\MERIT\\Probabilistic Methods\\hmm_speech_recognition\\audio\\pineapple\\pineapple07.wav\n",
      "C:\\Users\\giton\\Desktop\\MERIT\\Probabilistic Methods\\hmm_speech_recognition\\audio\\pineapple\\pineapple08.wav\n",
      "C:\\Users\\giton\\Desktop\\MERIT\\Probabilistic Methods\\hmm_speech_recognition\\audio\\pineapple\\pineapple09.wav\n",
      "C:\\Users\\giton\\Desktop\\MERIT\\Probabilistic Methods\\hmm_speech_recognition\\audio\\pineapple\\pineapple10.wav\n",
      "C:\\Users\\giton\\Desktop\\MERIT\\Probabilistic Methods\\hmm_speech_recognition\\audio\\pineapple\\pineapple11.wav\n",
      "C:\\Users\\giton\\Desktop\\MERIT\\Probabilistic Methods\\hmm_speech_recognition\\audio\\pineapple\\pineapple12.wav\n",
      "C:\\Users\\giton\\Desktop\\MERIT\\Probabilistic Methods\\hmm_speech_recognition\\audio\\pineapple\\pineapple13.wav\n",
      "C:\\Users\\giton\\Desktop\\MERIT\\Probabilistic Methods\\hmm_speech_recognition\\audio\\pineapple\\pineapple14.wav\n",
      "C:\\Users\\giton\\Desktop\\MERIT\\Probabilistic Methods\\hmm_speech_recognition\\audio\\pineapple\\pineapple15.wav\n",
      "C:\\Users\\giton\\Desktop\\MERIT\\Probabilistic Methods\\hmm_speech_recognition\\sample_audio_dataset\\BAK.wav\n",
      "C:\\Users\\giton\\Desktop\\MERIT\\Probabilistic Methods\\hmm_speech_recognition\\sample_audio_dataset\\Beethoven_Diabelli_Variation_No._13.wav\n",
      "C:\\Users\\giton\\Desktop\\MERIT\\Probabilistic Methods\\hmm_speech_recognition\\sample_audio_dataset\\Circle_of_fifths_chord_progression_-_minor.wav\n",
      "C:\\Users\\giton\\Desktop\\MERIT\\Probabilistic Methods\\hmm_speech_recognition\\sample_audio_dataset\\Divisive_rhythm_in_4-4_time.wav\n",
      "C:\\Users\\giton\\Desktop\\MERIT\\Probabilistic Methods\\hmm_speech_recognition\\sample_audio_dataset\\Mozart_from_Piano_Sonata_K310_first_movement.wav\n"
     ]
    }
   ],
   "source": [
    "base_path = r\"C:\\Users\\giton\\Desktop\\MERIT\\Probabilistic Methods\\hmm_speech_recognition\"\n",
    "\n",
    "# Walk through all subdirectories and files\n",
    "for dirpath, dirnames, filenames in os.walk(base_path):\n",
    "    for filename in filenames:\n",
    "        file_path = os.path.join(dirpath, filename)\n",
    "        print(file_path)  # Or load/process the file as needed\n"
   ]
  },
  {
   "cell_type": "markdown",
   "id": "3c5a6b14",
   "metadata": {
    "papermill": {
     "duration": 0.015416,
     "end_time": "2025-02-07T05:00:18.638283",
     "exception": false,
     "start_time": "2025-02-07T05:00:18.622867",
     "status": "completed"
    },
    "tags": []
   },
   "source": [
    " ## 🛠️ **Project Overview** \n",
    "\n",
    "This notebook demonstrates the development of a **speech recognition system** using a combination of **Hidden Markov Models (HMMs)** and **Logistic Regression** for word-level classification. The workflow includes:\n",
    "\n",
    "1. **Data Augmentation**: Enhancing the dataset with pitch shifts, time stretching, and speed adjustments.\n",
    "2. **Feature Extraction**: Extracting **MFCC** and **delta features** to capture spectral and temporal dynamics.\n",
    "3. **Class-Specific HMMs**: Training separate HMMs for each word to model.\n",
    "4. **Word-Level Classification**: Using log-likelihood scores from the HMMs as features to train a LR.\n",
    "5. **Evaluation**: Assessing the system's performance reports and confusion matrices and addressing class imbalance using data augmentation and class weighting.\n",
    "\n",
    "This notebook combines traditional HMM-based sequence modeling with modern machine learning techniques to achieve robust speech recognition."
   ]
  },
  {
   "cell_type": "markdown",
   "id": "1622aca9",
   "metadata": {
    "papermill": {
     "duration": 0.015195,
     "end_time": "2025-02-07T05:00:19.172985",
     "exception": false,
     "start_time": "2025-02-07T05:00:19.157790",
     "status": "completed"
    },
    "tags": []
   },
   "source": [
    "## Get Input\n",
    "#### Reads a .wav audio file using wavfile.read(). "
   ]
  },
  {
   "cell_type": "code",
   "execution_count": 298,
   "id": "b9142d1a",
   "metadata": {
    "execution": {
     "iopub.execute_input": "2025-02-07T05:00:19.205060Z",
     "iopub.status.busy": "2025-02-07T05:00:19.204522Z",
     "iopub.status.idle": "2025-02-07T05:00:19.256650Z",
     "shell.execute_reply": "2025-02-07T05:00:19.255250Z"
    },
    "papermill": {
     "duration": 0.06986,
     "end_time": "2025-02-07T05:00:19.258117",
     "exception": false,
     "start_time": "2025-02-07T05:00:19.188257",
     "status": "completed"
    },
    "tags": []
   },
   "outputs": [
    {
     "name": "stdout",
     "output_type": "stream",
     "text": [
      "\n",
      "Shape: (659456, 2)\n",
      "Datatype: int16\n",
      "Duration: 14.954 seconds\n"
     ]
    }
   ],
   "source": [
    "\"\"\"Extracting information about the audio file\"\"\"\n",
    "\n",
    "file_path = \"sample_audio_dataset/Beethoven_Diabelli_Variation_No._13.wav\"\n",
    "sample_path = os.path.join(base_path, file_path)\n",
    "# Read the .wav audio file\n",
    "sampling_freq, audio = wavfile.read(sample_path)\n",
    "print( '\\nShape:', audio.shape) # mono: (n_samples, ), stereo: (n_samples, 2)\n",
    "print ('Datatype:', audio.dtype)\n",
    "print ('Duration:', round(audio.shape[0] / float(sampling_freq), 3), 'seconds')"
   ]
  },
  {
   "cell_type": "markdown",
   "id": "b78a23ce",
   "metadata": {
    "papermill": {
     "duration": 0.015286,
     "end_time": "2025-02-07T05:00:19.289195",
     "exception": false,
     "start_time": "2025-02-07T05:00:19.273909",
     "status": "completed"
    },
    "tags": []
   },
   "source": [
    "##  Visualise audio"
   ]
  },
  {
   "cell_type": "code",
   "execution_count": 299,
   "id": "20cd3a5e",
   "metadata": {
    "execution": {
     "iopub.execute_input": "2025-02-07T05:00:19.322164Z",
     "iopub.status.busy": "2025-02-07T05:00:19.321797Z",
     "iopub.status.idle": "2025-02-07T05:00:19.920165Z",
     "shell.execute_reply": "2025-02-07T05:00:19.919122Z"
    },
    "papermill": {
     "duration": 0.616583,
     "end_time": "2025-02-07T05:00:19.921785",
     "exception": false,
     "start_time": "2025-02-07T05:00:19.305202",
     "status": "completed"
    },
    "tags": []
   },
   "outputs": [
    {
     "data": {
      "text/plain": [
       "[<matplotlib.lines.Line2D at 0x10ab6d104d0>,\n",
       " <matplotlib.lines.Line2D at 0x10ad1a9a480>]"
      ]
     },
     "execution_count": 299,
     "metadata": {},
     "output_type": "execute_result"
    },
    {
     "data": {
      "image/png": "[encoded data removed]",
      "text/plain": [
       "<Figure size 640x480 with 1 Axes>"
      ]
     },
     "metadata": {},
     "output_type": "display_data"
    }
   ],
   "source": [
    "#Plot the complete audio \n",
    "plt.plot(audio)"
   ]
  },
  {
   "cell_type": "markdown",
   "id": "f6e529be",
   "metadata": {
    "papermill": {
     "duration": 0.017434,
     "end_time": "2025-02-07T05:00:19.956797",
     "exception": false,
     "start_time": "2025-02-07T05:00:19.939363",
     "status": "completed"
    },
    "tags": []
   },
   "source": [
    "##### Each point represents the amplitude of the signal at a given sample index."
   ]
  },
  {
   "cell_type": "markdown",
   "id": "6237d08b",
   "metadata": {
    "papermill": {
     "duration": 0.016334,
     "end_time": "2025-02-07T05:00:19.989551",
     "exception": false,
     "start_time": "2025-02-07T05:00:19.973217",
     "status": "completed"
    },
    "tags": []
   },
   "source": [
    "##  Channel Division \n",
    "##### Stereo Channels: Since the signal is stereo, we separate and compare the left and right channels."
   ]
  },
  {
   "cell_type": "code",
   "execution_count": 300,
   "id": "84eddaf8",
   "metadata": {
    "execution": {
     "iopub.execute_input": "2025-02-07T05:00:20.023926Z",
     "iopub.status.busy": "2025-02-07T05:00:20.023549Z",
     "iopub.status.idle": "2025-02-07T05:00:20.385642Z",
     "shell.execute_reply": "2025-02-07T05:00:20.384584Z"
    },
    "papermill": {
     "duration": 0.381576,
     "end_time": "2025-02-07T05:00:20.387566",
     "exception": false,
     "start_time": "2025-02-07T05:00:20.005990",
     "status": "completed"
    },
    "tags": []
   },
   "outputs": [
    {
     "data": {
      "text/plain": [
       "[<matplotlib.lines.Line2D at 0x10adb271eb0>]"
      ]
     },
     "execution_count": 300,
     "metadata": {},
     "output_type": "execute_result"
    },
    {
     "data": {
      "image/png": "[encoded data removed]",
      "text/plain": [
       "<Figure size 640x480 with 1 Axes>"
      ]
     },
     "metadata": {},
     "output_type": "display_data"
    }
   ],
   "source": [
    "#Plot only left Channel\n",
    "plt.plot(audio[:, 0], label='Left Channel')"
   ]
  },
  {
   "cell_type": "code",
   "execution_count": 301,
   "id": "bbb36174",
   "metadata": {
    "execution": {
     "iopub.execute_input": "2025-02-07T05:00:20.425489Z",
     "iopub.status.busy": "2025-02-07T05:00:20.425120Z",
     "iopub.status.idle": "2025-02-07T05:00:20.802656Z",
     "shell.execute_reply": "2025-02-07T05:00:20.801429Z"
    },
    "papermill": {
     "duration": 0.398833,
     "end_time": "2025-02-07T05:00:20.804765",
     "exception": false,
     "start_time": "2025-02-07T05:00:20.405932",
     "status": "completed"
    },
    "tags": []
   },
   "outputs": [
    {
     "data": {
      "text/plain": [
       "[<matplotlib.lines.Line2D at 0x10ad6463b60>]"
      ]
     },
     "execution_count": 301,
     "metadata": {},
     "output_type": "execute_result"
    },
    {
     "data": {
      "image/png": "[encoded data removed]",
      "text/plain": [
       "<Figure size 640x480 with 1 Axes>"
      ]
     },
     "metadata": {},
     "output_type": "display_data"
    }
   ],
   "source": [
    "#Plot only right Channel\n",
    "plt.plot(audio[:, 1], label='Right Channel')"
   ]
  },
  {
   "cell_type": "code",
   "execution_count": 302,
   "id": "a62a904b",
   "metadata": {
    "execution": {
     "iopub.execute_input": "2025-02-07T05:00:20.844134Z",
     "iopub.status.busy": "2025-02-07T05:00:20.843773Z",
     "iopub.status.idle": "2025-02-07T05:00:21.246294Z",
     "shell.execute_reply": "2025-02-07T05:00:21.245306Z"
    },
    "papermill": {
     "duration": 0.425057,
     "end_time": "2025-02-07T05:00:21.249202",
     "exception": false,
     "start_time": "2025-02-07T05:00:20.824145",
     "status": "completed"
    },
    "tags": []
   },
   "outputs": [
    {
     "data": {
      "image/png": "[encoded data removed]",
      "text/plain": [
       "<Figure size 1000x400 with 1 Axes>"
      ]
     },
     "metadata": {},
     "output_type": "display_data"
    }
   ],
   "source": [
    "plt.figure(figsize=(10, 4))\n",
    "plt.plot(audio)\n",
    "plt.title(\"Audio Waveform\")\n",
    "plt.xlabel(\"Sample Index\")\n",
    "plt.ylabel(\"Amplitude\")\n",
    "plt.grid()\n",
    "plt.show()"
   ]
  },
  {
   "cell_type": "markdown",
   "id": "7003d679",
   "metadata": {
    "papermill": {
     "duration": 0.020137,
     "end_time": "2025-02-07T05:00:21.303217",
     "exception": false,
     "start_time": "2025-02-07T05:00:21.283080",
     "status": "completed"
    },
    "tags": []
   },
   "source": [
    "##### Consistent loudness normalization across samples. Reducing variations in amplitude could affect model performance or audio comparison."
   ]
  },
  {
   "cell_type": "markdown",
   "id": "8006a5d2",
   "metadata": {
    "papermill": {
     "duration": 0.019214,
     "end_time": "2025-02-07T05:00:21.342063",
     "exception": false,
     "start_time": "2025-02-07T05:00:21.322849",
     "status": "completed"
    },
    "tags": []
   },
   "source": [
    "## RMS/Volume Normalization: \n",
    "\n",
    "##### We calculated the RMS to analyze the perceived loudness and ensure uniform volume across audio signals."
   ]
  },
  {
   "cell_type": "markdown",
   "id": "38297880",
   "metadata": {
    "papermill": {
     "duration": 0.023369,
     "end_time": "2025-02-07T05:00:21.384895",
     "exception": false,
     "start_time": "2025-02-07T05:00:21.361526",
     "status": "completed"
    },
    "tags": []
   },
   "source": [
    "These lines perform **audio normalization** and scaling:\n",
    "\n",
    "1. **Normalization**: The audio signal is scaled to a range between `-1` and `1` by dividing by the maximum possible value or the maximum absolute value of the signal.\n",
    "2. **Root Mean Square (RMS) Scaling**: The RMS of the signal is calculated to represent its energy, and the signal is scaled to a target RMS value (e.g., 0.1) to ensure consistent loudness across all audio samples.\n",
    "3. **Truncation**: Optionally limits the audio to the first 30 samples, likely for testing or computational efficiency."
   ]
  },
  {
   "cell_type": "code",
   "execution_count": 303,
   "id": "30fa4162",
   "metadata": {
    "execution": {
     "iopub.execute_input": "2025-02-07T05:00:21.437290Z",
     "iopub.status.busy": "2025-02-07T05:00:21.436928Z",
     "iopub.status.idle": "2025-02-07T05:00:21.441002Z",
     "shell.execute_reply": "2025-02-07T05:00:21.439962Z"
    },
    "papermill": {
     "duration": 0.031911,
     "end_time": "2025-02-07T05:00:21.443017",
     "exception": false,
     "start_time": "2025-02-07T05:00:21.411106",
     "status": "completed"
    },
    "tags": []
   },
   "outputs": [],
   "source": [
    "# audio=audio/2.**15\n",
    "# audio=audio/np.max(np.abs(audio))\n",
    "# audio=audio[:30]\n",
    "\n",
    "# rms = np.sqrt(np.mean(audio**2))\n",
    "# target_rms = 0.1\n",
    "\n",
    "\n",
    "# scaling_factor = target_rms / rms\n",
    "# audio = audio * scaling_factor"
   ]
  },
  {
   "cell_type": "markdown",
   "id": "8cc4173c",
   "metadata": {
    "papermill": {
     "duration": 0.020011,
     "end_time": "2025-02-07T05:00:21.488907",
     "exception": false,
     "start_time": "2025-02-07T05:00:21.468896",
     "status": "completed"
    },
    "tags": []
   },
   "source": [
    "### **Positive Effects**:\n",
    "\n",
    "1. **Consistency Across Samples**:\n",
    "2. **Improved Generalization**:\n",
    "3. **Numerical Stability**:\n",
    "4. **Reduced Noise Sensitivity**:\n",
    "\n",
    "### **Potential Risks**:\n",
    "1. **Loss of Information**:\n",
    "2. **Over-normalization**:\n",
    "\n",
    "### **Overall Impact**:\n",
    "- **Normalization** and **RMS scaling** generally improve the model's robustness and performance, especially for audio classification tasks.\n",
    "- **Truncation**, however, should be used carefully to avoid losing important temporal information, as it could negatively affect the model's ability to learn key patterns."
   ]
  },
  {
   "cell_type": "code",
   "execution_count": 304,
   "id": "0554291d",
   "metadata": {
    "execution": {
     "iopub.execute_input": "2025-02-07T05:00:21.530490Z",
     "iopub.status.busy": "2025-02-07T05:00:21.530032Z",
     "iopub.status.idle": "2025-02-07T05:00:21.904899Z",
     "shell.execute_reply": "2025-02-07T05:00:21.903818Z"
    },
    "papermill": {
     "duration": 0.397891,
     "end_time": "2025-02-07T05:00:21.906741",
     "exception": false,
     "start_time": "2025-02-07T05:00:21.508850",
     "status": "completed"
    },
    "tags": []
   },
   "outputs": [
    {
     "data": {
      "image/png": "[encoded data removed]",
      "text/plain": [
       "<Figure size 1000x400 with 1 Axes>"
      ]
     },
     "metadata": {},
     "output_type": "display_data"
    }
   ],
   "source": [
    "x_values = np.arange(0, len(audio), 1) / float(sampling_freq)\n",
    "#Multiplying by 1000 converts seconds to milliseconds.\n",
    "x_values *= 1000\n",
    "plt.figure(figsize = (10, 4))\n",
    "plt.plot(x_values, audio, color='black')\n",
    "plt.xlabel('Time (ms)')\n",
    "plt.ylabel('Amplitude')\n",
    "plt.title('Audio signal')\n",
    "plt.show()"
   ]
  },
  {
   "cell_type": "markdown",
   "id": "7076e59e",
   "metadata": {
    "papermill": {
     "duration": 0.07415,
     "end_time": "2025-02-07T05:00:22.002033",
     "exception": false,
     "start_time": "2025-02-07T05:00:21.927883",
     "status": "completed"
    },
    "tags": []
   },
   "source": [
    "**Duration:** Approximately 14 seconds \n",
    "\n",
    "**Amplitude:** The y-axis ranges -12,000 to 12,000, reflecting the dynamic range of the signal's amplitude, which indicates the intensity or loudness.\n",
    "\n",
    "**Energy Distribution:** The signal's energy appears to occur in alternating large and smaller pulses. At the start (0–1000 ms), the is a large pulse and alternates to a smaller pulse at (2000-3000 ms). At the end (8000–14000 ms), the signal tapers off, indicating quieter sections or fades."
   ]
  },
  {
   "cell_type": "markdown",
   "id": "e3a9ef68",
   "metadata": {
    "papermill": {
     "duration": 0.021516,
     "end_time": "2025-02-07T05:00:22.045589",
     "exception": false,
     "start_time": "2025-02-07T05:00:22.024073",
     "status": "completed"
    },
    "tags": []
   },
   "source": [
    "## Frequency Analysis: \n",
    "\n",
    "We aimed to analyze the frequency components of the signal (e.g., low, mid, or high frequencies)."
   ]
  },
  {
   "cell_type": "code",
   "execution_count": 305,
   "id": "a06b4ac8",
   "metadata": {
    "execution": {
     "iopub.execute_input": "2025-02-07T05:00:22.090939Z",
     "iopub.status.busy": "2025-02-07T05:00:22.090410Z",
     "iopub.status.idle": "2025-02-07T05:00:22.131201Z",
     "shell.execute_reply": "2025-02-07T05:00:22.129834Z"
    },
    "papermill": {
     "duration": 0.067223,
     "end_time": "2025-02-07T05:00:22.134405",
     "exception": false,
     "start_time": "2025-02-07T05:00:22.067182",
     "status": "completed"
    },
    "tags": []
   },
   "outputs": [],
   "source": [
    "transformed_signal = np.fft.fft(audio)"
   ]
  },
  {
   "cell_type": "markdown",
   "id": "73717621",
   "metadata": {
    "papermill": {
     "duration": 0.026829,
     "end_time": "2025-02-07T05:00:22.201780",
     "exception": false,
     "start_time": "2025-02-07T05:00:22.174951",
     "status": "completed"
    },
    "tags": []
   },
   "source": [
    "**Peak frequencies:** Peaks in the frequency spectrum indicate dominant frequencies.\n",
    "\n",
    "**Noise:** Broad, non-peaked regions may indicate noise in the signal.\n",
    "\n",
    "**Cutoff Frequencies:** Analyze if the signal is band-limited. "
   ]
  },
  {
   "cell_type": "code",
   "execution_count": 306,
   "id": "4e9ad531",
   "metadata": {
    "execution": {
     "iopub.execute_input": "2025-02-07T05:00:22.277343Z",
     "iopub.status.busy": "2025-02-07T05:00:22.276900Z",
     "iopub.status.idle": "2025-02-07T05:00:22.300290Z",
     "shell.execute_reply": "2025-02-07T05:00:22.298865Z"
    },
    "papermill": {
     "duration": 0.070982,
     "end_time": "2025-02-07T05:00:22.303442",
     "exception": false,
     "start_time": "2025-02-07T05:00:22.232460",
     "status": "completed"
    },
    "tags": []
   },
   "outputs": [],
   "source": [
    "#Calculate Half Length as Fourier Transform of a real-valued signal is symmetric\n",
    "half_length = np.ceil((len(audio) + 1) / 2.0)\n",
    "half_length=int(half_length)\n",
    "\n",
    "#Extracts the magnitude of the first half of the FFT\n",
    "transformed_signal = abs(transformed_signal[0:half_length])\n",
    "\n",
    "\n",
    "#Square the Magnitude:\n",
    "#Squares the magnitude to calculate the power spectrum (energy at each frequency).\n",
    "#The power spectrum is proportional to the square of the amplitude of the frequency components.\n",
    "transformed_signal **= 2"
   ]
  },
  {
   "cell_type": "code",
   "execution_count": 307,
   "id": "a9e10733",
   "metadata": {
    "execution": {
     "iopub.execute_input": "2025-02-07T05:00:22.349829Z",
     "iopub.status.busy": "2025-02-07T05:00:22.349439Z",
     "iopub.status.idle": "2025-02-07T05:00:22.769098Z",
     "shell.execute_reply": "2025-02-07T05:00:22.768007Z"
    },
    "papermill": {
     "duration": 0.44411,
     "end_time": "2025-02-07T05:00:22.770849",
     "exception": false,
     "start_time": "2025-02-07T05:00:22.326739",
     "status": "completed"
    },
    "tags": []
   },
   "outputs": [
    {
     "data": {
      "text/plain": [
       "[<matplotlib.lines.Line2D at 0x10b10aefb00>,\n",
       " <matplotlib.lines.Line2D at 0x10ae1e461b0>]"
      ]
     },
     "execution_count": 307,
     "metadata": {},
     "output_type": "execute_result"
    },
    {
     "data": {
      "image/png": "[encoded data removed]",
      "text/plain": [
       "<Figure size 640x480 with 1 Axes>"
      ]
     },
     "metadata": {},
     "output_type": "display_data"
    }
   ],
   "source": [
    "plt.plot(transformed_signal, color='black')"
   ]
  },
  {
   "cell_type": "code",
   "execution_count": 308,
   "id": "fda2d738",
   "metadata": {
    "execution": {
     "iopub.execute_input": "2025-02-07T05:00:22.817264Z",
     "iopub.status.busy": "2025-02-07T05:00:22.816929Z",
     "iopub.status.idle": "2025-02-07T05:00:23.103153Z",
     "shell.execute_reply": "2025-02-07T05:00:23.102071Z"
    },
    "papermill": {
     "duration": 0.311414,
     "end_time": "2025-02-07T05:00:23.104982",
     "exception": false,
     "start_time": "2025-02-07T05:00:22.793568",
     "status": "completed"
    },
    "tags": []
   },
   "outputs": [
    {
     "data": {
      "image/png": "[encoded data removed]",
      "text/plain": [
       "<Figure size 1000x400 with 1 Axes>"
      ]
     },
     "metadata": {},
     "output_type": "display_data"
    }
   ],
   "source": [
    "plt.figure(figsize=(10, 4))\n",
    "plt.plot(transformed_signal, color='red')\n",
    "plt.title(\"Power Spectrum\")\n",
    "plt.xlabel(\"Frequency (Hz)\")\n",
    "plt.ylabel(\"Power\")\n",
    "plt.grid()\n",
    "plt.show()"
   ]
  },
  {
   "cell_type": "markdown",
   "id": "58fb891f",
   "metadata": {
    "papermill": {
     "duration": 0.024895,
     "end_time": "2025-02-07T05:00:23.153658",
     "exception": false,
     "start_time": "2025-02-07T05:00:23.128763",
     "status": "completed"
    },
    "tags": []
   },
   "source": [
    "* **Frequency Range:** The x-axis extends to about 325,000 Hz.\n",
    "\n",
    "* **Dominant Frequencies:** Since we determined the audio sample has high and low pulses, we can observe the peaks in the spectrum (i.e., near 25.000 Hz and 225,000 Hz) indicating the primary frequency components of the audio signal and high-energy components at these frequencies. "
   ]
  },
  {
   "cell_type": "code",
   "execution_count": 309,
   "id": "3741f6c8",
   "metadata": {
    "execution": {
     "iopub.execute_input": "2025-02-07T05:00:23.202035Z",
     "iopub.status.busy": "2025-02-07T05:00:23.201637Z",
     "iopub.status.idle": "2025-02-07T05:00:23.207313Z",
     "shell.execute_reply": "2025-02-07T05:00:23.206298Z"
    },
    "papermill": {
     "duration": 0.03146,
     "end_time": "2025-02-07T05:00:23.208792",
     "exception": false,
     "start_time": "2025-02-07T05:00:23.177332",
     "status": "completed"
    },
    "tags": []
   },
   "outputs": [
    {
     "data": {
      "text/plain": [
       "array([[ 0,  0],\n",
       "       [ 6,  0],\n",
       "       [12,  2],\n",
       "       ...,\n",
       "       [ 0,  0],\n",
       "       [ 0,  0],\n",
       "       [ 0,  0]], shape=(659456, 2), dtype=int16)"
      ]
     },
     "execution_count": 309,
     "metadata": {},
     "output_type": "execute_result"
    }
   ],
   "source": [
    "audio"
   ]
  },
  {
   "cell_type": "code",
   "execution_count": 310,
   "id": "f15b563b",
   "metadata": {
    "execution": {
     "iopub.execute_input": "2025-02-07T05:00:23.257964Z",
     "iopub.status.busy": "2025-02-07T05:00:23.257589Z",
     "iopub.status.idle": "2025-02-07T05:00:23.263143Z",
     "shell.execute_reply": "2025-02-07T05:00:23.262268Z"
    },
    "papermill": {
     "duration": 0.032238,
     "end_time": "2025-02-07T05:00:23.264823",
     "exception": false,
     "start_time": "2025-02-07T05:00:23.232585",
     "status": "completed"
    },
    "tags": []
   },
   "outputs": [],
   "source": [
    "freqs = np.fft.fftfreq(len(audio), d=1/sampling_freq)[:half_length]"
   ]
  },
  {
   "cell_type": "code",
   "execution_count": 311,
   "id": "85f8c0e0",
   "metadata": {
    "execution": {
     "iopub.execute_input": "2025-02-07T05:00:23.315419Z",
     "iopub.status.busy": "2025-02-07T05:00:23.315012Z",
     "iopub.status.idle": "2025-02-07T05:00:23.564813Z",
     "shell.execute_reply": "2025-02-07T05:00:23.563793Z"
    },
    "papermill": {
     "duration": 0.277687,
     "end_time": "2025-02-07T05:00:23.566348",
     "exception": false,
     "start_time": "2025-02-07T05:00:23.288661",
     "status": "completed"
    },
    "tags": []
   },
   "outputs": [
    {
     "data": {
      "image/png": "[encoded data removed]",
      "text/plain": [
       "<Figure size 1000x400 with 1 Axes>"
      ]
     },
     "metadata": {},
     "output_type": "display_data"
    }
   ],
   "source": [
    "plt.figure(figsize=(10, 4))\n",
    "plt.plot(freqs, transformed_signal, color='red')\n",
    "plt.title(\"Power Spectrum\")\n",
    "plt.xlabel(\"Frequency (Hz)\")\n",
    "plt.ylabel(\"Power\")\n",
    "plt.grid()\n",
    "plt.show()"
   ]
  },
  {
   "cell_type": "markdown",
   "id": "ea8ba4cf",
   "metadata": {
    "papermill": {
     "duration": 0.024082,
     "end_time": "2025-02-07T05:00:23.615073",
     "exception": false,
     "start_time": "2025-02-07T05:00:23.590991",
     "status": "completed"
    },
    "tags": []
   },
   "source": [
    "## 🛠️ Power Representation:\n",
    "\n",
    "#### Squaring the FFT values calculates the power spectrum, which represents the energy at each frequency. \n",
    "\n",
    "**Frequency Range:** The x-axis extends to 200,000 Hz.\n",
    "\n",
    "**Energy Peaks:** Clear peaks are visible in the 100,000–175,000 Hz range, indicating high-energy components at these frequencies. These may arise from:\n",
    "\n",
    "* High-frequency noise or interference.\n",
    "* Ultrasonic signal components, if this is not a standard audio signal.\n",
    "\n",
    "**Overall Energy Distribution:**\n",
    "\n",
    "The power decreases significantly at lower frequencies compared to higher frequencies, which is unusual for most audio signals where lower frequencies often dominate. This might suggest:\n",
    "\n",
    "* Non-audible high-frequency components.\n",
    "* High-frequency noise.\n"
   ]
  },
  {
   "cell_type": "markdown",
   "id": "7e47c2f5",
   "metadata": {
    "papermill": {
     "duration": 0.024433,
     "end_time": "2025-02-07T05:00:23.663915",
     "exception": false,
     "start_time": "2025-02-07T05:00:23.639482",
     "status": "completed"
    },
    "tags": []
   },
   "source": [
    "# HMM model training\n",
    "\n",
    "## Importing necessary libraries"
   ]
  },
  {
   "cell_type": "code",
   "execution_count": 312,
   "id": "c8056734",
   "metadata": {
    "execution": {
     "iopub.execute_input": "2025-02-07T05:00:23.714933Z",
     "iopub.status.busy": "2025-02-07T05:00:23.714543Z",
     "iopub.status.idle": "2025-02-07T05:00:40.508667Z",
     "shell.execute_reply": "2025-02-07T05:00:40.507594Z"
    },
    "papermill": {
     "duration": 16.822078,
     "end_time": "2025-02-07T05:00:40.510514",
     "exception": false,
     "start_time": "2025-02-07T05:00:23.688436",
     "status": "completed"
    },
    "tags": []
   },
   "outputs": [],
   "source": [
    "from librosa.feature import mfcc\n",
    "import librosa\n",
    "from scipy.io import wavfile\n",
    "from hmmlearn import hmm"
   ]
  },
  {
   "cell_type": "markdown",
   "id": "a53ac8ae",
   "metadata": {
    "papermill": {
     "duration": 0.02425,
     "end_time": "2025-02-07T05:00:40.559591",
     "exception": false,
     "start_time": "2025-02-07T05:00:40.535341",
     "status": "completed"
    },
    "tags": []
   },
   "source": [
    "**Librosa** library extract **MFCC (Mel Frequency Cepstral Coefficients)** features from an audio file. MFCCs are commonly used in audio and speech processing to represent the short-term power spectrum of sound on a mel scale. \n",
    "\n",
    "- **Number of windows**: Refers to the total number of time frames.\n",
    "- **Length of each feature**: Indicates the number of MFCC coefficients computed for each time frame, representing the spectral characteristics of the sound.\n",
    "\n",
    "\n",
    "The **Mel scale** is a perceptual scale of pitches that aligns with how humans perceive sound. It transforms frequencies from the linear Hertz (Hz) scale into a scale that reflects human auditory perception.\n",
    "\n",
    "**Application**:\n",
    "   - Widely used in speech and audio processing.\n",
    "   - **Mel-Frequency Cepstral Coefficients (MFCCs)** are computed by applying the Mel scale to the power spectrum, emphasizing perceptually important frequency bands.\n"
   ]
  },
  {
   "cell_type": "code",
   "execution_count": 313,
   "id": "50f667b9",
   "metadata": {
    "execution": {
     "iopub.execute_input": "2025-02-07T05:00:40.610374Z",
     "iopub.status.busy": "2025-02-07T05:00:40.609880Z",
     "iopub.status.idle": "2025-02-07T05:00:41.544938Z",
     "shell.execute_reply": "2025-02-07T05:00:41.543817Z"
    },
    "papermill": {
     "duration": 0.962889,
     "end_time": "2025-02-07T05:00:41.547030",
     "exception": false,
     "start_time": "2025-02-07T05:00:40.584141",
     "status": "completed"
    },
    "tags": []
   },
   "outputs": [
    {
     "name": "stdout",
     "output_type": "stream",
     "text": [
      "Number of windows = 20\n",
      "Length of each feature = 645\n"
     ]
    }
   ],
   "source": [
    "\"\"\"Extract MFCC features from the audio file\"\"\"\n",
    "# Load the audio file using librosa\n",
    "audio,sampling_rate = librosa.load(sample_path)\n",
    "mfcc_features = mfcc(y=audio,sr=sampling_rate)\n",
    "print(\"Number of windows =\", mfcc_features.shape[0])\n",
    "print('Length of each feature =', mfcc_features.shape[1])"
   ]
  },
  {
   "cell_type": "markdown",
   "id": "37d7c102",
   "metadata": {
    "papermill": {
     "duration": 0.024624,
     "end_time": "2025-02-07T05:00:41.596936",
     "exception": false,
     "start_time": "2025-02-07T05:00:41.572312",
     "status": "completed"
    },
    "tags": []
   },
   "source": [
    "## Getting the Labels\n",
    "\n",
    "We iterate through subfolders in the directory and extract file names as labels. \n",
    "\n",
    "* lists all subfolders or files in the directory.\n",
    "* combines the base directory with the folder name to get the full path.\n",
    "* extracts the folder name after the last * `\\`, treating it as a label."
   ]
  },
  {
   "cell_type": "code",
   "execution_count": 314,
   "id": "efc82f43",
   "metadata": {
    "execution": {
     "iopub.execute_input": "2025-02-07T05:00:41.649238Z",
     "iopub.status.busy": "2025-02-07T05:00:41.648872Z",
     "iopub.status.idle": "2025-02-07T05:00:41.661907Z",
     "shell.execute_reply": "2025-02-07T05:00:41.660860Z"
    },
    "papermill": {
     "duration": 0.041259,
     "end_time": "2025-02-07T05:00:41.663386",
     "exception": false,
     "start_time": "2025-02-07T05:00:41.622127",
     "status": "completed"
    },
    "tags": []
   },
   "outputs": [
    {
     "name": "stdout",
     "output_type": "stream",
     "text": [
      "apple\n",
      "banana\n",
      "kiwi\n",
      "lime\n",
      "orange\n",
      "peach\n",
      "pineapple\n"
     ]
    }
   ],
   "source": [
    "import os\n",
    "audio_path = os.path.join(base_path, \"audio\")\n",
    "for label in os.listdir(audio_path):\n",
    "    if os.path.isdir(os.path.join(audio_path, label)):\n",
    "        print(label)"
   ]
  },
  {
   "cell_type": "markdown",
   "id": "4df7a3e3",
   "metadata": {
    "papermill": {
     "duration": 0.024908,
     "end_time": "2025-02-07T05:00:48.129587",
     "exception": false,
     "start_time": "2025-02-07T05:00:48.104679",
     "status": "completed"
    },
    "tags": []
   },
   "source": [
    "## Import HMM"
   ]
  },
  {
   "cell_type": "markdown",
   "id": "3aaaff6b",
   "metadata": {
    "papermill": {
     "duration": 0.024865,
     "end_time": "2025-02-07T05:00:48.956660",
     "exception": false,
     "start_time": "2025-02-07T05:00:48.931795",
     "status": "completed"
    },
    "tags": []
   },
   "source": [
    "A **Hidden Markov Model (HMM)** is a statistical model used to represent systems that are **stochastic** (having a random probability distribution) and **time-dependent**, where the underlying states are hidden (unobservable) but can be inferred through observable outputs.\n"
   ]
  },
  {
   "cell_type": "code",
   "execution_count": 315,
   "id": "820d7ccd",
   "metadata": {
    "execution": {
     "iopub.execute_input": "2025-02-07T05:00:49.008417Z",
     "iopub.status.busy": "2025-02-07T05:00:49.008021Z",
     "iopub.status.idle": "2025-02-07T05:00:49.014158Z",
     "shell.execute_reply": "2025-02-07T05:00:49.012993Z"
    },
    "papermill": {
     "duration": 0.034194,
     "end_time": "2025-02-07T05:00:49.015947",
     "exception": false,
     "start_time": "2025-02-07T05:00:48.981753",
     "status": "completed"
    },
    "tags": []
   },
   "outputs": [],
   "source": [
    "class HMMTrainer(object):\n",
    "   def __init__(self, model_name='GaussianHMM', n_components=7): # Gaussian HMM are suitable for modelling continuous data\n",
    "     self.model_name = model_name\n",
    "     self.n_components = n_components\n",
    "\n",
    "     self.models = []\n",
    "     if self.model_name == 'GaussianHMM':\n",
    "        self.model=hmm.GaussianHMM(n_components=4)\n",
    "     else:\n",
    "        print(\"Please choose GaussianHMM\")\n",
    "   def train(self, X):\n",
    "       self.models.append(self.model.fit(X))\n",
    "       \n",
    "   # Computes the log-likelihood score of the input data \n",
    "   def get_score(self, input_data):\n",
    "       return self.model.score(input_data)"
   ]
  },
  {
   "cell_type": "markdown",
   "id": "071f7ef4",
   "metadata": {},
   "source": [
    "## Model Flow:\n",
    "1. **Subfolder Processing**: Each subfolder corresponds to a label.\n",
    "2. **Feature Extraction**: MFCC features are extracted for all `.wav` files in the subfolder.\n",
    "3. **HMM Training**: Features are used to train an HMM for the label.\n",
    "4. **Model Storage**: Trained HMM and its label are saved for future use."
   ]
  },
  {
   "cell_type": "code",
   "execution_count": 316,
   "id": "0e1f2f8f",
   "metadata": {
    "execution": {
     "iopub.execute_input": "2025-02-07T05:00:49.116774Z",
     "iopub.status.busy": "2025-02-07T05:00:49.116348Z",
     "iopub.status.idle": "2025-02-07T05:00:50.796838Z",
     "shell.execute_reply": "2025-02-07T05:00:50.795971Z"
    },
    "papermill": {
     "duration": 1.708095,
     "end_time": "2025-02-07T05:00:50.798315",
     "exception": false,
     "start_time": "2025-02-07T05:00:49.090220",
     "status": "completed"
    },
    "tags": []
   },
   "outputs": [
    {
     "name": "stdout",
     "output_type": "stream",
     "text": [
      "apple\n",
      "X.shape = (20, 15)\n",
      "X.shape = (40, 15)\n",
      "X.shape = (60, 15)\n",
      "X.shape = (80, 15)\n",
      "X.shape = (100, 15)\n",
      "X.shape = (120, 15)\n",
      "X.shape = (140, 15)\n",
      "X.shape = (160, 15)\n",
      "X.shape = (180, 15)\n",
      "X.shape = (200, 15)\n",
      "X.shape = (220, 15)\n",
      "X.shape = (240, 15)\n",
      "X.shape = (260, 15)\n",
      "X.shape = (280, 15)\n",
      "banana\n",
      "X.shape = (20, 15)\n",
      "X.shape = (40, 15)\n",
      "X.shape = (60, 15)\n",
      "X.shape = (80, 15)\n",
      "X.shape = (100, 15)\n",
      "X.shape = (120, 15)\n",
      "X.shape = (140, 15)\n",
      "X.shape = (160, 15)\n",
      "X.shape = (180, 15)\n",
      "X.shape = (200, 15)\n",
      "X.shape = (220, 15)\n",
      "X.shape = (240, 15)\n",
      "X.shape = (260, 15)\n",
      "X.shape = (280, 15)\n",
      "kiwi\n",
      "X.shape = (20, 15)\n",
      "X.shape = (40, 15)\n",
      "X.shape = (60, 15)\n",
      "X.shape = (80, 15)\n",
      "X.shape = (100, 15)\n",
      "X.shape = (120, 15)\n",
      "X.shape = (140, 15)\n",
      "X.shape = (160, 15)\n",
      "X.shape = (180, 15)\n",
      "X.shape = (200, 15)\n",
      "X.shape = (220, 15)\n",
      "X.shape = (240, 15)\n",
      "X.shape = (260, 15)\n",
      "X.shape = (280, 15)\n",
      "lime\n",
      "X.shape = (20, 15)\n",
      "X.shape = (40, 15)\n",
      "X.shape = (60, 15)\n",
      "X.shape = (80, 15)\n",
      "X.shape = (100, 15)\n",
      "X.shape = (120, 15)\n",
      "X.shape = (140, 15)\n",
      "X.shape = (160, 15)\n",
      "X.shape = (180, 15)\n",
      "X.shape = (200, 15)\n",
      "X.shape = (220, 15)\n",
      "X.shape = (240, 15)\n",
      "X.shape = (260, 15)\n",
      "X.shape = (280, 15)\n",
      "orange\n",
      "X.shape = (20, 15)\n",
      "X.shape = (40, 15)\n",
      "X.shape = (60, 15)\n",
      "X.shape = (80, 15)\n",
      "X.shape = (100, 15)\n",
      "X.shape = (120, 15)\n",
      "X.shape = (140, 15)\n",
      "X.shape = (160, 15)\n",
      "X.shape = (180, 15)\n",
      "X.shape = (200, 15)\n",
      "X.shape = (220, 15)\n",
      "X.shape = (240, 15)\n",
      "X.shape = (260, 15)\n",
      "X.shape = (280, 15)\n",
      "peach\n",
      "X.shape = (20, 15)\n",
      "X.shape = (40, 15)\n",
      "X.shape = (60, 15)\n",
      "X.shape = (80, 15)\n",
      "X.shape = (100, 15)\n",
      "X.shape = (120, 15)\n",
      "X.shape = (140, 15)\n",
      "X.shape = (160, 15)\n",
      "X.shape = (180, 15)\n",
      "X.shape = (200, 15)\n",
      "X.shape = (220, 15)\n",
      "X.shape = (240, 15)\n",
      "X.shape = (260, 15)\n",
      "X.shape = (280, 15)\n",
      "pineapple\n",
      "X.shape = (20, 15)\n",
      "X.shape = (40, 15)\n",
      "X.shape = (60, 15)\n",
      "X.shape = (80, 15)\n",
      "X.shape = (100, 15)\n",
      "X.shape = (120, 15)\n",
      "X.shape = (140, 15)\n",
      "X.shape = (160, 15)\n",
      "X.shape = (180, 15)\n",
      "X.shape = (200, 15)\n",
      "X.shape = (220, 15)\n",
      "X.shape = (240, 15)\n",
      "X.shape = (260, 15)\n",
      "X.shape = (280, 15)\n"
     ]
    }
   ],
   "source": [
    "hmm_models = []\n",
    "\n",
    "for dirname in os.listdir(audio_path):\n",
    "    \n",
    "    # Get the name of the subfolder\n",
    "    subfolder = os.path.join(audio_path, dirname)\n",
    "    print(dirname)\n",
    "    if not os.path.isdir(subfolder):\n",
    "        continue\n",
    "      \n",
    "    # Extract the label\n",
    "    label = dirname\n",
    "    \n",
    "    # Initialize variables\n",
    "    X = np.array([])\n",
    "    \n",
    "    for filename in [x for x in os.listdir(subfolder) if x.endswith('.wav')][:-1]:\n",
    "        \n",
    "        # Read the input file\n",
    "        filepath = os.path.join(subfolder, filename)\n",
    "        audio, sampling_freq = librosa.load(filepath)\n",
    "        \n",
    "        # Extract MFCC features\n",
    "        mfcc_features = mfcc(y=audio, sr=sampling_freq)\n",
    "        \n",
    "        # Append to the variable X\n",
    "        if len(X) == 0:\n",
    "            X = mfcc_features[:, :15]\n",
    "        else:\n",
    "            X = np.append(X, mfcc_features[:, :15], axis=0)\n",
    "        \n",
    "        print('X.shape =', X.shape)\n",
    "    \n",
    "    # Train HMM\n",
    "    hmm_trainer = HMMTrainer()\n",
    "    hmm_trainer.train(X)\n",
    "    \n",
    "    # Append HMM and label to models\n",
    "    hmm_models.append((hmm_trainer, label))\n",
    "    \n",
    "    # Reset the trainer\n",
    "    hmm_trainer = None"
   ]
  },
  {
   "cell_type": "markdown",
   "id": "9179bf0a",
   "metadata": {
    "papermill": {
     "duration": 0.025505,
     "end_time": "2025-02-07T05:00:50.900306",
     "exception": false,
     "start_time": "2025-02-07T05:00:50.874801",
     "status": "completed"
    },
    "tags": []
   },
   "source": [
    "## MFCC Feature Analysis \n",
    "\n",
    "The variable **`X`** contains the concatenated **MFCC features** extracted from all `.wav` files in a subfolder. Each row represents the MFCC coefficients (15 from the previous cell output) for a specified time frame, and the entire matrix represents the audio's spectral features for that subfolder. This is then used as input for training the HMM."
   ]
  },
  {
   "cell_type": "code",
   "execution_count": 317,
   "id": "089e5369",
   "metadata": {
    "execution": {
     "iopub.execute_input": "2025-02-07T05:00:50.952546Z",
     "iopub.status.busy": "2025-02-07T05:00:50.952191Z",
     "iopub.status.idle": "2025-02-07T05:00:50.958584Z",
     "shell.execute_reply": "2025-02-07T05:00:50.957700Z"
    },
    "papermill": {
     "duration": 0.034228,
     "end_time": "2025-02-07T05:00:50.960016",
     "exception": false,
     "start_time": "2025-02-07T05:00:50.925788",
     "status": "completed"
    },
    "tags": []
   },
   "outputs": [
    {
     "data": {
      "text/plain": [
       "array([[-546.34467  , -352.0923   , -295.52576  , ..., -336.79395  ,\n",
       "        -324.38712  , -338.2609   ],\n",
       "       [  99.92674  ,  192.42493  ,  219.49593  , ...,  227.40436  ,\n",
       "         231.41406  ,  227.19489  ],\n",
       "       [  10.186135 ,  -69.15028  ,  -89.49054  , ...,  -59.41118  ,\n",
       "         -67.79985  ,  -65.32806  ],\n",
       "       ...,\n",
       "       [  -7.7276087,    3.5544562,   -4.591971 , ...,   -1.3805428,\n",
       "           0.8600025,   -1.8735584],\n",
       "       [  -6.9840274,    3.978588 ,   -2.0635414, ...,   -7.6143312,\n",
       "          -2.8041928,   -4.3404274],\n",
       "       [  -2.1185718,   -8.608407 ,  -16.01148  , ...,  -14.295001 ,\n",
       "         -13.115952 ,  -17.259113 ]], shape=(280, 15), dtype=float32)"
      ]
     },
     "execution_count": 317,
     "metadata": {},
     "output_type": "execute_result"
    }
   ],
   "source": [
    "#MFCC features\n",
    "X"
   ]
  },
  {
   "cell_type": "markdown",
   "id": "32aae76c",
   "metadata": {
    "papermill": {
     "duration": 0.02564,
     "end_time": "2025-02-07T05:00:51.012264",
     "exception": false,
     "start_time": "2025-02-07T05:00:50.986624",
     "status": "completed"
    },
    "tags": []
   },
   "source": [
    "### Insights:\n",
    "- **Shape**: How many time frames and coefficients are present.\n",
    "- **Statistics**: Variation and range of MFCC values, which can indicate spectral diversity.\n",
    "- **Visualization**: Temporal and spectral patterns in the audio data.\n",
    "- **Correlation**: Relationships between MFCC coefficients to identify redundancies or dependencies."
   ]
  },
  {
   "cell_type": "code",
   "execution_count": 318,
   "id": "c06fa85f",
   "metadata": {
    "execution": {
     "iopub.execute_input": "2025-02-07T05:00:51.065320Z",
     "iopub.status.busy": "2025-02-07T05:00:51.064995Z",
     "iopub.status.idle": "2025-02-07T05:00:51.070282Z",
     "shell.execute_reply": "2025-02-07T05:00:51.069249Z"
    },
    "papermill": {
     "duration": 0.033465,
     "end_time": "2025-02-07T05:00:51.071822",
     "exception": false,
     "start_time": "2025-02-07T05:00:51.038357",
     "status": "completed"
    },
    "tags": []
   },
   "outputs": [
    {
     "name": "stdout",
     "output_type": "stream",
     "text": [
      "Shape of X: (280, 15)\n"
     ]
    }
   ],
   "source": [
    "print(\"Shape of X:\", X.shape)"
   ]
  },
  {
   "cell_type": "markdown",
   "id": "37e35dcc",
   "metadata": {
    "papermill": {
     "duration": 0.026435,
     "end_time": "2025-02-07T05:00:51.124553",
     "exception": false,
     "start_time": "2025-02-07T05:00:51.098118",
     "status": "completed"
    },
    "tags": []
   },
   "source": [
    "## Output Stats "
   ]
  },
  {
   "cell_type": "code",
   "execution_count": 319,
   "id": "d3ae3201",
   "metadata": {
    "execution": {
     "iopub.execute_input": "2025-02-07T05:00:51.177571Z",
     "iopub.status.busy": "2025-02-07T05:00:51.177224Z",
     "iopub.status.idle": "2025-02-07T05:00:51.210845Z",
     "shell.execute_reply": "2025-02-07T05:00:51.209653Z"
    },
    "papermill": {
     "duration": 0.061918,
     "end_time": "2025-02-07T05:00:51.212470",
     "exception": false,
     "start_time": "2025-02-07T05:00:51.150552",
     "status": "completed"
    },
    "tags": []
   },
   "outputs": [
    {
     "data": {
      "text/html": [
       "<div>\n",
       "<style scoped>\n",
       "    .dataframe tbody tr th:only-of-type {\n",
       "        vertical-align: middle;\n",
       "    }\n",
       "\n",
       "    .dataframe tbody tr th {\n",
       "        vertical-align: top;\n",
       "    }\n",
       "\n",
       "    .dataframe thead th {\n",
       "        text-align: right;\n",
       "    }\n",
       "</style>\n",
       "<table border=\"1\" class=\"dataframe\">\n",
       "  <thead>\n",
       "    <tr style=\"text-align: right;\">\n",
       "      <th></th>\n",
       "      <th>Mean</th>\n",
       "      <th>Median</th>\n",
       "      <th>Standard Deviation</th>\n",
       "      <th>Range (Max-Min)</th>\n",
       "    </tr>\n",
       "  </thead>\n",
       "  <tbody>\n",
       "    <tr>\n",
       "      <th>MFCC_1</th>\n",
       "      <td>-19.950624</td>\n",
       "      <td>-5.302552</td>\n",
       "      <td>96.858154</td>\n",
       "      <td>774.201660</td>\n",
       "    </tr>\n",
       "    <tr>\n",
       "      <th>MFCC_2</th>\n",
       "      <td>-18.575989</td>\n",
       "      <td>-11.216863</td>\n",
       "      <td>88.474518</td>\n",
       "      <td>609.330994</td>\n",
       "    </tr>\n",
       "    <tr>\n",
       "      <th>MFCC_3</th>\n",
       "      <td>-18.429256</td>\n",
       "      <td>-15.643583</td>\n",
       "      <td>89.094162</td>\n",
       "      <td>600.277283</td>\n",
       "    </tr>\n",
       "    <tr>\n",
       "      <th>MFCC_4</th>\n",
       "      <td>-18.077477</td>\n",
       "      <td>-15.225343</td>\n",
       "      <td>88.230515</td>\n",
       "      <td>579.915894</td>\n",
       "    </tr>\n",
       "    <tr>\n",
       "      <th>MFCC_5</th>\n",
       "      <td>-18.365971</td>\n",
       "      <td>-13.076275</td>\n",
       "      <td>88.033356</td>\n",
       "      <td>579.475891</td>\n",
       "    </tr>\n",
       "    <tr>\n",
       "      <th>MFCC_6</th>\n",
       "      <td>-18.792059</td>\n",
       "      <td>-11.968794</td>\n",
       "      <td>88.316620</td>\n",
       "      <td>604.310242</td>\n",
       "    </tr>\n",
       "    <tr>\n",
       "      <th>MFCC_7</th>\n",
       "      <td>-19.305988</td>\n",
       "      <td>-12.234453</td>\n",
       "      <td>89.369850</td>\n",
       "      <td>615.242493</td>\n",
       "    </tr>\n",
       "    <tr>\n",
       "      <th>MFCC_8</th>\n",
       "      <td>-19.769333</td>\n",
       "      <td>-13.248327</td>\n",
       "      <td>91.322838</td>\n",
       "      <td>608.497192</td>\n",
       "    </tr>\n",
       "    <tr>\n",
       "      <th>MFCC_9</th>\n",
       "      <td>-20.496126</td>\n",
       "      <td>-13.974180</td>\n",
       "      <td>94.223495</td>\n",
       "      <td>628.764160</td>\n",
       "    </tr>\n",
       "    <tr>\n",
       "      <th>MFCC_10</th>\n",
       "      <td>-20.775160</td>\n",
       "      <td>-14.101014</td>\n",
       "      <td>95.717781</td>\n",
       "      <td>628.385071</td>\n",
       "    </tr>\n",
       "    <tr>\n",
       "      <th>MFCC_11</th>\n",
       "      <td>-20.530882</td>\n",
       "      <td>-12.898741</td>\n",
       "      <td>94.659508</td>\n",
       "      <td>639.571350</td>\n",
       "    </tr>\n",
       "    <tr>\n",
       "      <th>MFCC_12</th>\n",
       "      <td>-20.508844</td>\n",
       "      <td>-12.405674</td>\n",
       "      <td>94.081802</td>\n",
       "      <td>658.902222</td>\n",
       "    </tr>\n",
       "    <tr>\n",
       "      <th>MFCC_13</th>\n",
       "      <td>-20.920532</td>\n",
       "      <td>-12.155645</td>\n",
       "      <td>94.143074</td>\n",
       "      <td>643.891846</td>\n",
       "    </tr>\n",
       "    <tr>\n",
       "      <th>MFCC_14</th>\n",
       "      <td>-20.941458</td>\n",
       "      <td>-11.882493</td>\n",
       "      <td>94.009590</td>\n",
       "      <td>637.440796</td>\n",
       "    </tr>\n",
       "    <tr>\n",
       "      <th>MFCC_15</th>\n",
       "      <td>-21.263994</td>\n",
       "      <td>-12.258420</td>\n",
       "      <td>95.483498</td>\n",
       "      <td>660.795349</td>\n",
       "    </tr>\n",
       "  </tbody>\n",
       "</table>\n",
       "</div>"
      ],
      "text/plain": [
       "              Mean     Median  Standard Deviation  Range (Max-Min)\n",
       "MFCC_1  -19.950624  -5.302552           96.858154       774.201660\n",
       "MFCC_2  -18.575989 -11.216863           88.474518       609.330994\n",
       "MFCC_3  -18.429256 -15.643583           89.094162       600.277283\n",
       "MFCC_4  -18.077477 -15.225343           88.230515       579.915894\n",
       "MFCC_5  -18.365971 -13.076275           88.033356       579.475891\n",
       "MFCC_6  -18.792059 -11.968794           88.316620       604.310242\n",
       "MFCC_7  -19.305988 -12.234453           89.369850       615.242493\n",
       "MFCC_8  -19.769333 -13.248327           91.322838       608.497192\n",
       "MFCC_9  -20.496126 -13.974180           94.223495       628.764160\n",
       "MFCC_10 -20.775160 -14.101014           95.717781       628.385071\n",
       "MFCC_11 -20.530882 -12.898741           94.659508       639.571350\n",
       "MFCC_12 -20.508844 -12.405674           94.081802       658.902222\n",
       "MFCC_13 -20.920532 -12.155645           94.143074       643.891846\n",
       "MFCC_14 -20.941458 -11.882493           94.009590       637.440796\n",
       "MFCC_15 -21.263994 -12.258420           95.483498       660.795349"
      ]
     },
     "execution_count": 319,
     "metadata": {},
     "output_type": "execute_result"
    }
   ],
   "source": [
    "# Calculate statistics\n",
    "mean_values = np.mean(X, axis=0)\n",
    "median_values = np.median(X, axis=0)\n",
    "std_dev_values = np.std(X, axis=0)\n",
    "range_values = np.ptp(X, axis=0)\n",
    "\n",
    "# Combine into a DataFrame\n",
    "stats_df = pd.DataFrame({\n",
    "    \"Mean\": mean_values,\n",
    "    \"Median\": median_values,\n",
    "    \"Standard Deviation\": std_dev_values,\n",
    "    \"Range (Max-Min)\": range_values\n",
    "}, index=[f\"MFCC_{i+1}\" for i in range(X.shape[1])])\n",
    "\n",
    "# Display dataframe\n",
    "stats_df"
   ]
  },
  {
   "cell_type": "code",
   "execution_count": 320,
   "id": "a7a3acd0",
   "metadata": {
    "execution": {
     "iopub.execute_input": "2025-02-07T05:00:51.267988Z",
     "iopub.status.busy": "2025-02-07T05:00:51.267581Z",
     "iopub.status.idle": "2025-02-07T05:00:51.274469Z",
     "shell.execute_reply": "2025-02-07T05:00:51.273511Z"
    },
    "papermill": {
     "duration": 0.035557,
     "end_time": "2025-02-07T05:00:51.276069",
     "exception": false,
     "start_time": "2025-02-07T05:00:51.240512",
     "status": "completed"
    },
    "tags": []
   },
   "outputs": [
    {
     "name": "stdout",
     "output_type": "stream",
     "text": [
      "Contains NaN values: False\n",
      "Contains infinite values: False\n"
     ]
    }
   ],
   "source": [
    "print(\"Contains NaN values:\", np.isnan(X).any())\n",
    "print(\"Contains infinite values:\", np.isinf(X).any())"
   ]
  },
  {
   "cell_type": "code",
   "execution_count": 321,
   "id": "e96ed76c",
   "metadata": {
    "execution": {
     "iopub.execute_input": "2025-02-07T05:00:51.331260Z",
     "iopub.status.busy": "2025-02-07T05:00:51.330914Z",
     "iopub.status.idle": "2025-02-07T05:00:51.695072Z",
     "shell.execute_reply": "2025-02-07T05:00:51.693812Z"
    },
    "papermill": {
     "duration": 0.394413,
     "end_time": "2025-02-07T05:00:51.697007",
     "exception": false,
     "start_time": "2025-02-07T05:00:51.302594",
     "status": "completed"
    },
    "tags": []
   },
   "outputs": [
    {
     "data": {
      "image/png": "[encoded data removed]",
      "text/plain": [
       "<Figure size 1000x600 with 2 Axes>"
      ]
     },
     "metadata": {},
     "output_type": "display_data"
    }
   ],
   "source": [
    "import matplotlib.pyplot as plt\n",
    "\n",
    "plt.figure(figsize=(10, 6))\n",
    "plt.imshow(X.T, aspect='auto', origin='lower', cmap='viridis')\n",
    "plt.colorbar(label='MFCC Coefficient Value')\n",
    "plt.xlabel('Time Frame')\n",
    "plt.ylabel('MFCC Coefficient Index')\n",
    "plt.title('MFCC Feature Matrix')\n",
    "plt.show()"
   ]
  },
  {
   "cell_type": "markdown",
   "id": "acd1e6d8",
   "metadata": {
    "papermill": {
     "duration": 0.027497,
     "end_time": "2025-02-07T05:00:51.752830",
     "exception": false,
     "start_time": "2025-02-07T05:00:51.725333",
     "status": "completed"
    },
    "tags": []
   },
   "source": [
    "## Output Analysis \n",
    "\n",
    "The visualization shows the spectral characteristics of an audio signal over time:\n",
    "\n",
    "1. **X-Axis**: Represents the time frames of the audio, capturing short-term segments of the signal.\n",
    "2. **Y-Axis**: Represents the MFCC coefficients (features) for each time frame, with lower indices capturing broad spectral energy and higher indices capturing finer details.\n",
    "3. **Color Intensity**: Indicates the magnitude of the MFCC coefficients, with yellow representing higher values and purple lower values.\n",
    "\n",
    "The alternating vertical patterns, shifting from green to purple and then yellow, suggest periodic changes in the spectral energy, reflecting a structured audio pattern such as the music from our sample."
   ]
  },
  {
   "cell_type": "code",
   "execution_count": 322,
   "id": "dd9e04af",
   "metadata": {
    "execution": {
     "iopub.execute_input": "2025-02-07T05:00:51.920861Z",
     "iopub.status.busy": "2025-02-07T05:00:51.920440Z",
     "iopub.status.idle": "2025-02-07T05:00:52.210061Z",
     "shell.execute_reply": "2025-02-07T05:00:52.208778Z"
    },
    "papermill": {
     "duration": 0.32077,
     "end_time": "2025-02-07T05:00:52.212343",
     "exception": false,
     "start_time": "2025-02-07T05:00:51.891573",
     "status": "completed"
    },
    "tags": []
   },
   "outputs": [
    {
     "data": {
      "image/png": "[encoded data removed]",
      "text/plain": [
       "<Figure size 640x480 with 2 Axes>"
      ]
     },
     "metadata": {},
     "output_type": "display_data"
    }
   ],
   "source": [
    "correlation_matrix = np.corrcoef(X.T)\n",
    "\n",
    "\n",
    "# Plot the correlation matrix\n",
    "plt.imshow(correlation_matrix, cmap='coolwarm', interpolation='nearest')\n",
    "plt.colorbar(label='Correlation Coefficient')\n",
    "plt.title('Correlation Between MFCC Coefficients')\n",
    "plt.show()"
   ]
  },
  {
   "cell_type": "markdown",
   "id": "788326b7",
   "metadata": {
    "papermill": {
     "duration": 0.040803,
     "end_time": "2025-02-07T05:00:52.296460",
     "exception": false,
     "start_time": "2025-02-07T05:00:52.255657",
     "status": "completed"
    },
    "tags": []
   },
   "source": [
    "## Heatmap Analysis \n",
    "\n",
    "Displays the relationships between different MFCC coefficients:\n",
    "\n",
    "1. **Diagonal Line**: The strong red diagonal (value = 1.0) indicates perfect self-correlation.\n",
    "2. **High Correlation**: Many off-diagonal coefficients show strong correlations (red regions), suggesting redundancy or strong relationships between certain MFCC features.\n",
    "3. **Low/Negative Correlation**: Blue areas indicate weak or negative correlations, suggesting complementary features useful for distinguishing patterns in the audio.\n",
    "\n",
    "It helps identify which features are highly interdependent and which provide unique information, useful for dimensionality reduction or feature selection."
   ]
  },
  {
   "cell_type": "code",
   "execution_count": 323,
   "id": "c7f9e42c",
   "metadata": {
    "execution": {
     "iopub.execute_input": "2025-02-07T05:00:52.357739Z",
     "iopub.status.busy": "2025-02-07T05:00:52.357316Z",
     "iopub.status.idle": "2025-02-07T05:00:52.363112Z",
     "shell.execute_reply": "2025-02-07T05:00:52.362303Z"
    },
    "papermill": {
     "duration": 0.037597,
     "end_time": "2025-02-07T05:00:52.364526",
     "exception": false,
     "start_time": "2025-02-07T05:00:52.326929",
     "status": "completed"
    },
    "tags": []
   },
   "outputs": [
    {
     "data": {
      "text/plain": [
       "[(<__main__.HMMTrainer at 0x10ad63bfdd0>, 'apple'),\n",
       " (<__main__.HMMTrainer at 0x10ad6419820>, 'banana'),\n",
       " (<__main__.HMMTrainer at 0x10b102b42f0>, 'kiwi'),\n",
       " (<__main__.HMMTrainer at 0x10adb1bf230>, 'lime'),\n",
       " (<__main__.HMMTrainer at 0x10b224811c0>, 'orange'),\n",
       " (<__main__.HMMTrainer at 0x10ad6418dd0>, 'peach'),\n",
       " (<__main__.HMMTrainer at 0x10ade7b28d0>, 'pineapple')]"
      ]
     },
     "execution_count": 323,
     "metadata": {},
     "output_type": "execute_result"
    }
   ],
   "source": [
    "hmm_models"
   ]
  },
  {
   "cell_type": "code",
   "execution_count": 324,
   "id": "6b2e11b2",
   "metadata": {
    "execution": {
     "iopub.execute_input": "2025-02-07T05:00:52.424082Z",
     "iopub.status.busy": "2025-02-07T05:00:52.423686Z",
     "iopub.status.idle": "2025-02-07T05:00:52.429303Z",
     "shell.execute_reply": "2025-02-07T05:00:52.428281Z"
    },
    "papermill": {
     "duration": 0.037133,
     "end_time": "2025-02-07T05:00:52.431045",
     "exception": false,
     "start_time": "2025-02-07T05:00:52.393912",
     "status": "completed"
    },
    "tags": []
   },
   "outputs": [
    {
     "data": {
      "text/plain": [
       "7"
      ]
     },
     "execution_count": 324,
     "metadata": {},
     "output_type": "execute_result"
    }
   ],
   "source": [
    "len(hmm_models)"
   ]
  },
  {
   "cell_type": "markdown",
   "id": "3a7654ee",
   "metadata": {
    "papermill": {
     "duration": 0.031268,
     "end_time": "2025-02-07T05:00:52.492414",
     "exception": false,
     "start_time": "2025-02-07T05:00:52.461146",
     "status": "completed"
    },
    "tags": []
   },
   "source": [
    "## Load new data for Testing\n",
    "\n",
    "List of **file paths** to specific `.wav` audio files from different subfolders (representing labels) in a dataset. "
   ]
  },
  {
   "cell_type": "code",
   "execution_count": 325,
   "id": "bff47996",
   "metadata": {
    "execution": {
     "iopub.execute_input": "2025-02-07T05:00:52.552443Z",
     "iopub.status.busy": "2025-02-07T05:00:52.552111Z",
     "iopub.status.idle": "2025-02-07T05:00:52.556208Z",
     "shell.execute_reply": "2025-02-07T05:00:52.555169Z"
    },
    "papermill": {
     "duration": 0.035729,
     "end_time": "2025-02-07T05:00:52.557861",
     "exception": false,
     "start_time": "2025-02-07T05:00:52.522132",
     "status": "completed"
    },
    "tags": []
   },
   "outputs": [],
   "source": [
    "input_files = [\n",
    "    os.path.join(base_path, \"audio\", \"pineapple\", \"pineapple15.wav\"),\n",
    "    os.path.join(base_path, \"audio\", \"orange\", \"orange15.wav\"),\n",
    "    os.path.join(base_path, \"audio\", \"apple\", \"apple15.wav\"),\n",
    "    os.path.join(base_path, \"audio\", \"kiwi\", \"kiwi15.wav\")\n",
    "]"
   ]
  },
  {
   "cell_type": "markdown",
   "id": "7cc30e3b",
   "metadata": {
    "papermill": {
     "duration": 0.029023,
     "end_time": "2025-02-07T05:00:52.616808",
     "exception": false,
     "start_time": "2025-02-07T05:00:52.587785",
     "status": "completed"
    },
    "tags": []
   },
   "source": [
    "## Model Testing"
   ]
  },
  {
   "cell_type": "code",
   "execution_count": 326,
   "id": "145bef71",
   "metadata": {
    "execution": {
     "iopub.execute_input": "2025-02-07T05:00:52.677041Z",
     "iopub.status.busy": "2025-02-07T05:00:52.676621Z",
     "iopub.status.idle": "2025-02-07T05:00:52.694817Z",
     "shell.execute_reply": "2025-02-07T05:00:52.693675Z"
    },
    "papermill": {
     "duration": 0.050552,
     "end_time": "2025-02-07T05:00:52.696615",
     "exception": false,
     "start_time": "2025-02-07T05:00:52.646063",
     "status": "completed"
    },
    "tags": []
   },
   "outputs": [
    {
     "name": "stdout",
     "output_type": "stream",
     "text": [
      "\n",
      "True: orange\n",
      "Predicted: orange\n"
     ]
    }
   ],
   "source": [
    "scores = []\n",
    "\n",
    "# Extract MFCC features with 15 coefficients, consistent with training data\n",
    "audio, sampling_freq = librosa.load(input_files[1])\n",
    "mfcc_features = mfcc(y=audio, sr=sampling_freq)[:, :15]\n",
    "\n",
    "# Iterate through trained HMM models\n",
    "for item in hmm_models:\n",
    "    hmm_model, label = item\n",
    "    \n",
    "    # Get the log-likelihood score for the input features\n",
    "    score = hmm_model.get_score(mfcc_features)\n",
    "    scores.append(score)\n",
    "\n",
    "# Find the model with the highest score\n",
    "index = np.array(scores).argmax()\n",
    "\n",
    "# Extract the true label from the file path\n",
    "true_label = os.path.basename(os.path.dirname(input_files[1]))\n",
    "\n",
    "# Print the true label and predicted label\n",
    "print(\"\\nTrue:\", true_label)\n",
    "print(\"Predicted:\", hmm_models[index][1])\n"
   ]
  },
  {
   "cell_type": "code",
   "execution_count": 327,
   "id": "7b7b09d6",
   "metadata": {
    "execution": {
     "iopub.execute_input": "2025-02-07T05:00:52.756986Z",
     "iopub.status.busy": "2025-02-07T05:00:52.756553Z",
     "iopub.status.idle": "2025-02-07T05:00:52.762528Z",
     "shell.execute_reply": "2025-02-07T05:00:52.761513Z"
    },
    "papermill": {
     "duration": 0.037825,
     "end_time": "2025-02-07T05:00:52.764115",
     "exception": false,
     "start_time": "2025-02-07T05:00:52.726290",
     "status": "completed"
    },
    "tags": []
   },
   "outputs": [
    {
     "data": {
      "text/plain": [
       "[(<__main__.HMMTrainer at 0x10ad63bfdd0>, 'apple'),\n",
       " (<__main__.HMMTrainer at 0x10ad6419820>, 'banana'),\n",
       " (<__main__.HMMTrainer at 0x10b102b42f0>, 'kiwi'),\n",
       " (<__main__.HMMTrainer at 0x10adb1bf230>, 'lime'),\n",
       " (<__main__.HMMTrainer at 0x10b224811c0>, 'orange'),\n",
       " (<__main__.HMMTrainer at 0x10ad6418dd0>, 'peach'),\n",
       " (<__main__.HMMTrainer at 0x10ade7b28d0>, 'pineapple')]"
      ]
     },
     "execution_count": 327,
     "metadata": {},
     "output_type": "execute_result"
    }
   ],
   "source": [
    "hmm_models"
   ]
  },
  {
   "cell_type": "code",
   "execution_count": 328,
   "id": "e7175f9e",
   "metadata": {
    "execution": {
     "iopub.execute_input": "2025-02-07T05:00:52.825335Z",
     "iopub.status.busy": "2025-02-07T05:00:52.824965Z",
     "iopub.status.idle": "2025-02-07T05:00:52.830617Z",
     "shell.execute_reply": "2025-02-07T05:00:52.829590Z"
    },
    "papermill": {
     "duration": 0.037603,
     "end_time": "2025-02-07T05:00:52.832294",
     "exception": false,
     "start_time": "2025-02-07T05:00:52.794691",
     "status": "completed"
    },
    "tags": []
   },
   "outputs": [
    {
     "data": {
      "text/plain": [
       "[-1302.6355334619207,\n",
       " -1282.8033141533679,\n",
       " -1565.6493128761326,\n",
       " -1316.4624096940765,\n",
       " -1187.8517424401728,\n",
       " -1516.1008165429962,\n",
       " -1244.4132837366394]"
      ]
     },
     "execution_count": 328,
     "metadata": {},
     "output_type": "execute_result"
    }
   ],
   "source": [
    "scores"
   ]
  },
  {
   "cell_type": "markdown",
   "id": "68b8dd9a",
   "metadata": {
    "papermill": {
     "duration": 0.029291,
     "end_time": "2025-02-07T05:00:52.891794",
     "exception": false,
     "start_time": "2025-02-07T05:00:52.862503",
     "status": "completed"
    },
    "tags": []
   },
   "source": [
    "## Score Analysis\n",
    "\n",
    "* Each score represents the log-likelihood of the input MFCC features matching a particular model (label).\n",
    "* The higher (less negative) the score, the better the fit between the features and the corresponding model"
   ]
  },
  {
   "cell_type": "markdown",
   "id": "24c3ac95",
   "metadata": {
    "papermill": {
     "duration": 0.030828,
     "end_time": "2025-02-07T05:00:56.586137",
     "exception": false,
     "start_time": "2025-02-07T05:00:56.555309",
     "status": "completed"
    },
    "tags": []
   },
   "source": [
    "## HMM Model With Extra Features and Improved Parameters"
   ]
  },
  {
   "cell_type": "code",
   "execution_count": 329,
   "id": "1b07efdd",
   "metadata": {
    "execution": {
     "iopub.execute_input": "2025-02-07T05:00:56.652071Z",
     "iopub.status.busy": "2025-02-07T05:00:56.651676Z",
     "iopub.status.idle": "2025-02-07T05:00:56.656395Z",
     "shell.execute_reply": "2025-02-07T05:00:56.655493Z"
    },
    "papermill": {
     "duration": 0.040996,
     "end_time": "2025-02-07T05:00:56.658289",
     "exception": false,
     "start_time": "2025-02-07T05:00:56.617293",
     "status": "completed"
    },
    "tags": []
   },
   "outputs": [],
   "source": [
    "import os\n",
    "import librosa\n",
    "import numpy as np\n",
    "from librosa.feature import mfcc\n",
    "from hmmlearn import hmm\n",
    "from sklearn.linear_model import LogisticRegression\n",
    "from sklearn.metrics import classification_report, confusion_matrix\n",
    "import matplotlib.pyplot as plt"
   ]
  },
  {
   "cell_type": "code",
   "execution_count": 330,
   "id": "e3c88aa2",
   "metadata": {
    "execution": {
     "iopub.execute_input": "2025-02-07T05:00:56.721155Z",
     "iopub.status.busy": "2025-02-07T05:00:56.720819Z",
     "iopub.status.idle": "2025-02-07T05:00:56.724949Z",
     "shell.execute_reply": "2025-02-07T05:00:56.724082Z"
    },
    "papermill": {
     "duration": 0.036812,
     "end_time": "2025-02-07T05:00:56.726328",
     "exception": false,
     "start_time": "2025-02-07T05:00:56.689516",
     "status": "completed"
    },
    "tags": []
   },
   "outputs": [],
   "source": [
    "# Initialize variables\n",
    "X_combined = np.array([])  # Combined MFCC features for all words\n",
    "y_labels = []              # Labels for word-level classification\n",
    "word_labels = []           # List of unique word labels"
   ]
  },
  {
   "cell_type": "code",
   "execution_count": 331,
   "id": "0ddd588f",
   "metadata": {
    "execution": {
     "iopub.execute_input": "2025-02-07T05:00:56.789768Z",
     "iopub.status.busy": "2025-02-07T05:00:56.789379Z",
     "iopub.status.idle": "2025-02-07T05:00:57.730746Z",
     "shell.execute_reply": "2025-02-07T05:00:57.729596Z"
    },
    "papermill": {
     "duration": 0.975487,
     "end_time": "2025-02-07T05:00:57.732655",
     "exception": false,
     "start_time": "2025-02-07T05:00:56.757168",
     "status": "completed"
    },
    "tags": []
   },
   "outputs": [],
   "source": [
    "# Step 1: Prepare Training Data\n",
    "for dirname in os.listdir(audio_path):\n",
    "    subfolder = os.path.join(audio_path, dirname)\n",
    "    if not os.path.isdir(subfolder):\n",
    "        continue\n",
    "    \n",
    "    #label = subfolder[subfolder.rfind('/') + 1:]  # Extract label\n",
    "    label = dirname\n",
    "    word_labels.append(label)  # Store the label\n",
    "    \n",
    "    # Extract MFCC features for each audio file\n",
    "    for filename in [x for x in os.listdir(subfolder) if x.endswith('.wav')]:\n",
    "        filepath = os.path.join(subfolder, filename)\n",
    "        audio, sampling_freq = librosa.load(filepath)\n",
    "        \n",
    "        # Extract MFCC and delta features\n",
    "        mfcc_features = mfcc(y=audio, sr=sampling_freq, n_mfcc=15)\n",
    "        delta_features = librosa.feature.delta(mfcc_features)\n",
    "        combined_features = np.vstack([mfcc_features, delta_features]).T  # Combine features\n",
    "        \n",
    "        # Append to the combined data\n",
    "        if len(X_combined) == 0:\n",
    "            X_combined = combined_features\n",
    "        else:\n",
    "            X_combined = np.append(X_combined, combined_features, axis=0)\n",
    "        \n",
    "        y_labels.append(label)  # Append label for each audio file"
   ]
  },
  {
   "cell_type": "code",
   "execution_count": 332,
   "id": "48945ee5",
   "metadata": {
    "execution": {
     "iopub.execute_input": "2025-02-07T05:00:57.800655Z",
     "iopub.status.busy": "2025-02-07T05:00:57.800253Z",
     "iopub.status.idle": "2025-02-07T05:01:03.326264Z",
     "shell.execute_reply": "2025-02-07T05:01:03.325196Z"
    },
    "papermill": {
     "duration": 5.560175,
     "end_time": "2025-02-07T05:01:03.328116",
     "exception": false,
     "start_time": "2025-02-07T05:00:57.767941",
     "status": "completed"
    },
    "tags": []
   },
   "outputs": [
    {
     "data": {
      "text/html": [
       "<style>#sk-container-id-14 {\n",
       "  /* Definition of color scheme common for light and dark mode */\n",
       "  --sklearn-color-text: black;\n",
       "  --sklearn-color-line: gray;\n",
       "  /* Definition of color scheme for unfitted estimators */\n",
       "  --sklearn-color-unfitted-level-0: #fff5e6;\n",
       "  --sklearn-color-unfitted-level-1: #f6e4d2;\n",
       "  --sklearn-color-unfitted-level-2: #ffe0b3;\n",
       "  --sklearn-color-unfitted-level-3: chocolate;\n",
       "  /* Definition of color scheme for fitted estimators */\n",
       "  --sklearn-color-fitted-level-0: #f0f8ff;\n",
       "  --sklearn-color-fitted-level-1: #d4ebff;\n",
       "  --sklearn-color-fitted-level-2: #b3dbfd;\n",
       "  --sklearn-color-fitted-level-3: cornflowerblue;\n",
       "\n",
       "  /* Specific color for light theme */\n",
       "  --sklearn-color-text-on-default-background: var(--sg-text-color, var(--theme-code-foreground, var(--jp-content-font-color1, black)));\n",
       "  --sklearn-color-background: var(--sg-background-color, var(--theme-background, var(--jp-layout-color0, white)));\n",
       "  --sklearn-color-border-box: var(--sg-text-color, var(--theme-code-foreground, var(--jp-content-font-color1, black)));\n",
       "  --sklearn-color-icon: #696969;\n",
       "\n",
       "  @media (prefers-color-scheme: dark) {\n",
       "    /* Redefinition of color scheme for dark theme */\n",
       "    --sklearn-color-text-on-default-background: var(--sg-text-color, var(--theme-code-foreground, var(--jp-content-font-color1, white)));\n",
       "    --sklearn-color-background: var(--sg-background-color, var(--theme-background, var(--jp-layout-color0, #111)));\n",
       "    --sklearn-color-border-box: var(--sg-text-color, var(--theme-code-foreground, var(--jp-content-font-color1, white)));\n",
       "    --sklearn-color-icon: #878787;\n",
       "  }\n",
       "}\n",
       "\n",
       "#sk-container-id-14 {\n",
       "  color: var(--sklearn-color-text);\n",
       "}\n",
       "\n",
       "#sk-container-id-14 pre {\n",
       "  padding: 0;\n",
       "}\n",
       "\n",
       "#sk-container-id-14 input.sk-hidden--visually {\n",
       "  border: 0;\n",
       "  clip: rect(1px 1px 1px 1px);\n",
       "  clip: rect(1px, 1px, 1px, 1px);\n",
       "  height: 1px;\n",
       "  margin: -1px;\n",
       "  overflow: hidden;\n",
       "  padding: 0;\n",
       "  position: absolute;\n",
       "  width: 1px;\n",
       "}\n",
       "\n",
       "#sk-container-id-14 div.sk-dashed-wrapped {\n",
       "  border: 1px dashed var(--sklearn-color-line);\n",
       "  margin: 0 0.4em 0.5em 0.4em;\n",
       "  box-sizing: border-box;\n",
       "  padding-bottom: 0.4em;\n",
       "  background-color: var(--sklearn-color-background);\n",
       "}\n",
       "\n",
       "#sk-container-id-14 div.sk-container {\n",
       "  /* jupyter's `normalize.less` sets `[hidden] { display: none; }`\n",
       "     but bootstrap.min.css set `[hidden] { display: none !important; }`\n",
       "     so we also need the `!important` here to be able to override the\n",
       "     default hidden behavior on the sphinx rendered scikit-learn.org.\n",
       "     See: https://github.com/scikit-learn/scikit-learn/issues/21755 */\n",
       "  display: inline-block !important;\n",
       "  position: relative;\n",
       "}\n",
       "\n",
       "#sk-container-id-14 div.sk-text-repr-fallback {\n",
       "  display: none;\n",
       "}\n",
       "\n",
       "div.sk-parallel-item,\n",
       "div.sk-serial,\n",
       "div.sk-item {\n",
       "  /* draw centered vertical line to link estimators */\n",
       "  background-image: linear-gradient(var(--sklearn-color-text-on-default-background), var(--sklearn-color-text-on-default-background));\n",
       "  background-size: 2px 100%;\n",
       "  background-repeat: no-repeat;\n",
       "  background-position: center center;\n",
       "}\n",
       "\n",
       "/* Parallel-specific style estimator block */\n",
       "\n",
       "#sk-container-id-14 div.sk-parallel-item::after {\n",
       "  content: \"\";\n",
       "  width: 100%;\n",
       "  border-bottom: 2px solid var(--sklearn-color-text-on-default-background);\n",
       "  flex-grow: 1;\n",
       "}\n",
       "\n",
       "#sk-container-id-14 div.sk-parallel {\n",
       "  display: flex;\n",
       "  align-items: stretch;\n",
       "  justify-content: center;\n",
       "  background-color: var(--sklearn-color-background);\n",
       "  position: relative;\n",
       "}\n",
       "\n",
       "#sk-container-id-14 div.sk-parallel-item {\n",
       "  display: flex;\n",
       "  flex-direction: column;\n",
       "}\n",
       "\n",
       "#sk-container-id-14 div.sk-parallel-item:first-child::after {\n",
       "  align-self: flex-end;\n",
       "  width: 50%;\n",
       "}\n",
       "\n",
       "#sk-container-id-14 div.sk-parallel-item:last-child::after {\n",
       "  align-self: flex-start;\n",
       "  width: 50%;\n",
       "}\n",
       "\n",
       "#sk-container-id-14 div.sk-parallel-item:only-child::after {\n",
       "  width: 0;\n",
       "}\n",
       "\n",
       "/* Serial-specific style estimator block */\n",
       "\n",
       "#sk-container-id-14 div.sk-serial {\n",
       "  display: flex;\n",
       "  flex-direction: column;\n",
       "  align-items: center;\n",
       "  background-color: var(--sklearn-color-background);\n",
       "  padding-right: 1em;\n",
       "  padding-left: 1em;\n",
       "}\n",
       "\n",
       "\n",
       "/* Toggleable style: style used for estimator/Pipeline/ColumnTransformer box that is\n",
       "clickable and can be expanded/collapsed.\n",
       "- Pipeline and ColumnTransformer use this feature and define the default style\n",
       "- Estimators will overwrite some part of the style using the `sk-estimator` class\n",
       "*/\n",
       "\n",
       "/* Pipeline and ColumnTransformer style (default) */\n",
       "\n",
       "#sk-container-id-14 div.sk-toggleable {\n",
       "  /* Default theme specific background. It is overwritten whether we have a\n",
       "  specific estimator or a Pipeline/ColumnTransformer */\n",
       "  background-color: var(--sklearn-color-background);\n",
       "}\n",
       "\n",
       "/* Toggleable label */\n",
       "#sk-container-id-14 label.sk-toggleable__label {\n",
       "  cursor: pointer;\n",
       "  display: block;\n",
       "  width: 100%;\n",
       "  margin-bottom: 0;\n",
       "  padding: 0.5em;\n",
       "  box-sizing: border-box;\n",
       "  text-align: center;\n",
       "}\n",
       "\n",
       "#sk-container-id-14 label.sk-toggleable__label-arrow:before {\n",
       "  /* Arrow on the left of the label */\n",
       "  content: \"▸\";\n",
       "  float: left;\n",
       "  margin-right: 0.25em;\n",
       "  color: var(--sklearn-color-icon);\n",
       "}\n",
       "\n",
       "#sk-container-id-14 label.sk-toggleable__label-arrow:hover:before {\n",
       "  color: var(--sklearn-color-text);\n",
       "}\n",
       "\n",
       "/* Toggleable content - dropdown */\n",
       "\n",
       "#sk-container-id-14 div.sk-toggleable__content {\n",
       "  max-height: 0;\n",
       "  max-width: 0;\n",
       "  overflow: hidden;\n",
       "  text-align: left;\n",
       "  /* unfitted */\n",
       "  background-color: var(--sklearn-color-unfitted-level-0);\n",
       "}\n",
       "\n",
       "#sk-container-id-14 div.sk-toggleable__content.fitted {\n",
       "  /* fitted */\n",
       "  background-color: var(--sklearn-color-fitted-level-0);\n",
       "}\n",
       "\n",
       "#sk-container-id-14 div.sk-toggleable__content pre {\n",
       "  margin: 0.2em;\n",
       "  border-radius: 0.25em;\n",
       "  color: var(--sklearn-color-text);\n",
       "  /* unfitted */\n",
       "  background-color: var(--sklearn-color-unfitted-level-0);\n",
       "}\n",
       "\n",
       "#sk-container-id-14 div.sk-toggleable__content.fitted pre {\n",
       "  /* unfitted */\n",
       "  background-color: var(--sklearn-color-fitted-level-0);\n",
       "}\n",
       "\n",
       "#sk-container-id-14 input.sk-toggleable__control:checked~div.sk-toggleable__content {\n",
       "  /* Expand drop-down */\n",
       "  max-height: 200px;\n",
       "  max-width: 100%;\n",
       "  overflow: auto;\n",
       "}\n",
       "\n",
       "#sk-container-id-14 input.sk-toggleable__control:checked~label.sk-toggleable__label-arrow:before {\n",
       "  content: \"▾\";\n",
       "}\n",
       "\n",
       "/* Pipeline/ColumnTransformer-specific style */\n",
       "\n",
       "#sk-container-id-14 div.sk-label input.sk-toggleable__control:checked~label.sk-toggleable__label {\n",
       "  color: var(--sklearn-color-text);\n",
       "  background-color: var(--sklearn-color-unfitted-level-2);\n",
       "}\n",
       "\n",
       "#sk-container-id-14 div.sk-label.fitted input.sk-toggleable__control:checked~label.sk-toggleable__label {\n",
       "  background-color: var(--sklearn-color-fitted-level-2);\n",
       "}\n",
       "\n",
       "/* Estimator-specific style */\n",
       "\n",
       "/* Colorize estimator box */\n",
       "#sk-container-id-14 div.sk-estimator input.sk-toggleable__control:checked~label.sk-toggleable__label {\n",
       "  /* unfitted */\n",
       "  background-color: var(--sklearn-color-unfitted-level-2);\n",
       "}\n",
       "\n",
       "#sk-container-id-14 div.sk-estimator.fitted input.sk-toggleable__control:checked~label.sk-toggleable__label {\n",
       "  /* fitted */\n",
       "  background-color: var(--sklearn-color-fitted-level-2);\n",
       "}\n",
       "\n",
       "#sk-container-id-14 div.sk-label label.sk-toggleable__label,\n",
       "#sk-container-id-14 div.sk-label label {\n",
       "  /* The background is the default theme color */\n",
       "  color: var(--sklearn-color-text-on-default-background);\n",
       "}\n",
       "\n",
       "/* On hover, darken the color of the background */\n",
       "#sk-container-id-14 div.sk-label:hover label.sk-toggleable__label {\n",
       "  color: var(--sklearn-color-text);\n",
       "  background-color: var(--sklearn-color-unfitted-level-2);\n",
       "}\n",
       "\n",
       "/* Label box, darken color on hover, fitted */\n",
       "#sk-container-id-14 div.sk-label.fitted:hover label.sk-toggleable__label.fitted {\n",
       "  color: var(--sklearn-color-text);\n",
       "  background-color: var(--sklearn-color-fitted-level-2);\n",
       "}\n",
       "\n",
       "/* Estimator label */\n",
       "\n",
       "#sk-container-id-14 div.sk-label label {\n",
       "  font-family: monospace;\n",
       "  font-weight: bold;\n",
       "  display: inline-block;\n",
       "  line-height: 1.2em;\n",
       "}\n",
       "\n",
       "#sk-container-id-14 div.sk-label-container {\n",
       "  text-align: center;\n",
       "}\n",
       "\n",
       "/* Estimator-specific */\n",
       "#sk-container-id-14 div.sk-estimator {\n",
       "  font-family: monospace;\n",
       "  border: 1px dotted var(--sklearn-color-border-box);\n",
       "  border-radius: 0.25em;\n",
       "  box-sizing: border-box;\n",
       "  margin-bottom: 0.5em;\n",
       "  /* unfitted */\n",
       "  background-color: var(--sklearn-color-unfitted-level-0);\n",
       "}\n",
       "\n",
       "#sk-container-id-14 div.sk-estimator.fitted {\n",
       "  /* fitted */\n",
       "  background-color: var(--sklearn-color-fitted-level-0);\n",
       "}\n",
       "\n",
       "/* on hover */\n",
       "#sk-container-id-14 div.sk-estimator:hover {\n",
       "  /* unfitted */\n",
       "  background-color: var(--sklearn-color-unfitted-level-2);\n",
       "}\n",
       "\n",
       "#sk-container-id-14 div.sk-estimator.fitted:hover {\n",
       "  /* fitted */\n",
       "  background-color: var(--sklearn-color-fitted-level-2);\n",
       "}\n",
       "\n",
       "/* Specification for estimator info (e.g. \"i\" and \"?\") */\n",
       "\n",
       "/* Common style for \"i\" and \"?\" */\n",
       "\n",
       ".sk-estimator-doc-link,\n",
       "a:link.sk-estimator-doc-link,\n",
       "a:visited.sk-estimator-doc-link {\n",
       "  float: right;\n",
       "  font-size: smaller;\n",
       "  line-height: 1em;\n",
       "  font-family: monospace;\n",
       "  background-color: var(--sklearn-color-background);\n",
       "  border-radius: 1em;\n",
       "  height: 1em;\n",
       "  width: 1em;\n",
       "  text-decoration: none !important;\n",
       "  margin-left: 1ex;\n",
       "  /* unfitted */\n",
       "  border: var(--sklearn-color-unfitted-level-1) 1pt solid;\n",
       "  color: var(--sklearn-color-unfitted-level-1);\n",
       "}\n",
       "\n",
       ".sk-estimator-doc-link.fitted,\n",
       "a:link.sk-estimator-doc-link.fitted,\n",
       "a:visited.sk-estimator-doc-link.fitted {\n",
       "  /* fitted */\n",
       "  border: var(--sklearn-color-fitted-level-1) 1pt solid;\n",
       "  color: var(--sklearn-color-fitted-level-1);\n",
       "}\n",
       "\n",
       "/* On hover */\n",
       "div.sk-estimator:hover .sk-estimator-doc-link:hover,\n",
       ".sk-estimator-doc-link:hover,\n",
       "div.sk-label-container:hover .sk-estimator-doc-link:hover,\n",
       ".sk-estimator-doc-link:hover {\n",
       "  /* unfitted */\n",
       "  background-color: var(--sklearn-color-unfitted-level-3);\n",
       "  color: var(--sklearn-color-background);\n",
       "  text-decoration: none;\n",
       "}\n",
       "\n",
       "div.sk-estimator.fitted:hover .sk-estimator-doc-link.fitted:hover,\n",
       ".sk-estimator-doc-link.fitted:hover,\n",
       "div.sk-label-container:hover .sk-estimator-doc-link.fitted:hover,\n",
       ".sk-estimator-doc-link.fitted:hover {\n",
       "  /* fitted */\n",
       "  background-color: var(--sklearn-color-fitted-level-3);\n",
       "  color: var(--sklearn-color-background);\n",
       "  text-decoration: none;\n",
       "}\n",
       "\n",
       "/* Span, style for the box shown on hovering the info icon */\n",
       ".sk-estimator-doc-link span {\n",
       "  display: none;\n",
       "  z-index: 9999;\n",
       "  position: relative;\n",
       "  font-weight: normal;\n",
       "  right: .2ex;\n",
       "  padding: .5ex;\n",
       "  margin: .5ex;\n",
       "  width: min-content;\n",
       "  min-width: 20ex;\n",
       "  max-width: 50ex;\n",
       "  color: var(--sklearn-color-text);\n",
       "  box-shadow: 2pt 2pt 4pt #999;\n",
       "  /* unfitted */\n",
       "  background: var(--sklearn-color-unfitted-level-0);\n",
       "  border: .5pt solid var(--sklearn-color-unfitted-level-3);\n",
       "}\n",
       "\n",
       ".sk-estimator-doc-link.fitted span {\n",
       "  /* fitted */\n",
       "  background: var(--sklearn-color-fitted-level-0);\n",
       "  border: var(--sklearn-color-fitted-level-3);\n",
       "}\n",
       "\n",
       ".sk-estimator-doc-link:hover span {\n",
       "  display: block;\n",
       "}\n",
       "\n",
       "/* \"?\"-specific style due to the `<a>` HTML tag */\n",
       "\n",
       "#sk-container-id-14 a.estimator_doc_link {\n",
       "  float: right;\n",
       "  font-size: 1rem;\n",
       "  line-height: 1em;\n",
       "  font-family: monospace;\n",
       "  background-color: var(--sklearn-color-background);\n",
       "  border-radius: 1rem;\n",
       "  height: 1rem;\n",
       "  width: 1rem;\n",
       "  text-decoration: none;\n",
       "  /* unfitted */\n",
       "  color: var(--sklearn-color-unfitted-level-1);\n",
       "  border: var(--sklearn-color-unfitted-level-1) 1pt solid;\n",
       "}\n",
       "\n",
       "#sk-container-id-14 a.estimator_doc_link.fitted {\n",
       "  /* fitted */\n",
       "  border: var(--sklearn-color-fitted-level-1) 1pt solid;\n",
       "  color: var(--sklearn-color-fitted-level-1);\n",
       "}\n",
       "\n",
       "/* On hover */\n",
       "#sk-container-id-14 a.estimator_doc_link:hover {\n",
       "  /* unfitted */\n",
       "  background-color: var(--sklearn-color-unfitted-level-3);\n",
       "  color: var(--sklearn-color-background);\n",
       "  text-decoration: none;\n",
       "}\n",
       "\n",
       "#sk-container-id-14 a.estimator_doc_link.fitted:hover {\n",
       "  /* fitted */\n",
       "  background-color: var(--sklearn-color-fitted-level-3);\n",
       "}\n",
       "</style><div id=\"sk-container-id-14\" class=\"sk-top-container\"><div class=\"sk-text-repr-fallback\"><pre>GaussianHMM(n_components=15, n_iter=200)</pre><b>In a Jupyter environment, please rerun this cell to show the HTML representation or trust the notebook. <br />On GitHub, the HTML representation is unable to render, please try loading this page with nbviewer.org.</b></div><div class=\"sk-container\" hidden><div class=\"sk-item\"><div class=\"sk-estimator fitted sk-toggleable\"><input class=\"sk-toggleable__control sk-hidden--visually\" id=\"sk-estimator-id-14\" type=\"checkbox\" checked><label for=\"sk-estimator-id-14\" class=\"sk-toggleable__label fitted sk-toggleable__label-arrow fitted\">&nbsp;GaussianHMM<span class=\"sk-estimator-doc-link fitted\">i<span>Fitted</span></span></label><div class=\"sk-toggleable__content fitted\"><pre>GaussianHMM(n_components=15, n_iter=200)</pre></div> </div></div></div></div>"
      ],
      "text/plain": [
       "GaussianHMM(n_components=15, n_iter=200)"
      ]
     },
     "execution_count": 332,
     "metadata": {},
     "output_type": "execute_result"
    }
   ],
   "source": [
    "# Step 2: Train the Shared HMM\n",
    "shared_hmm = hmm.GaussianHMM(n_components=15, covariance_type='diag', n_iter=200)\n",
    "shared_hmm.fit(X_combined)"
   ]
  },
  {
   "cell_type": "code",
   "execution_count": 333,
   "id": "7866ea0d",
   "metadata": {
    "execution": {
     "iopub.execute_input": "2025-02-07T05:01:03.391058Z",
     "iopub.status.busy": "2025-02-07T05:01:03.390679Z",
     "iopub.status.idle": "2025-02-07T05:01:04.363062Z",
     "shell.execute_reply": "2025-02-07T05:01:04.362091Z"
    },
    "papermill": {
     "duration": 1.005892,
     "end_time": "2025-02-07T05:01:04.365117",
     "exception": false,
     "start_time": "2025-02-07T05:01:03.359225",
     "status": "completed"
    },
    "tags": []
   },
   "outputs": [],
   "source": [
    "# Step 3: Compute Log-Likelihoods for Classifier Training\n",
    "log_likelihoods = []\n",
    "for dirname in os.listdir(audio_path):\n",
    "    subfolder = os.path.join(audio_path, dirname)\n",
    "    if not os.path.isdir(subfolder):\n",
    "        continue\n",
    "    \n",
    "    for filename in [x for x in os.listdir(subfolder) if x.endswith('.wav')]:\n",
    "        filepath = os.path.join(subfolder, filename)\n",
    "        audio, sampling_freq = librosa.load(filepath)\n",
    "        mfcc_features = mfcc(y=audio, sr=sampling_freq, n_mfcc=15)\n",
    "        delta_features = librosa.feature.delta(mfcc_features)\n",
    "        combined_features = np.vstack([mfcc_features, delta_features]).T\n",
    "        \n",
    "        # Compute log-likelihood score\n",
    "        score = shared_hmm.score(combined_features)\n",
    "        log_likelihoods.append(score)"
   ]
  },
  {
   "cell_type": "code",
   "execution_count": 334,
   "id": "303a8134",
   "metadata": {
    "execution": {
     "iopub.execute_input": "2025-02-07T05:01:04.429296Z",
     "iopub.status.busy": "2025-02-07T05:01:04.428979Z",
     "iopub.status.idle": "2025-02-07T05:01:04.433018Z",
     "shell.execute_reply": "2025-02-07T05:01:04.432165Z"
    },
    "papermill": {
     "duration": 0.037462,
     "end_time": "2025-02-07T05:01:04.434405",
     "exception": false,
     "start_time": "2025-02-07T05:01:04.396943",
     "status": "completed"
    },
    "tags": []
   },
   "outputs": [],
   "source": [
    "# Prepare classifier training data\n",
    "X_classifier = np.array(log_likelihoods).reshape(-1, 1)\n",
    "y_classifier = np.array(y_labels)"
   ]
  },
  {
   "cell_type": "code",
   "execution_count": 335,
   "id": "2b0e4f2f",
   "metadata": {
    "execution": {
     "iopub.execute_input": "2025-02-07T05:01:04.498409Z",
     "iopub.status.busy": "2025-02-07T05:01:04.498058Z",
     "iopub.status.idle": "2025-02-07T05:01:04.514650Z",
     "shell.execute_reply": "2025-02-07T05:01:04.513606Z"
    },
    "papermill": {
     "duration": 0.050624,
     "end_time": "2025-02-07T05:01:04.516230",
     "exception": false,
     "start_time": "2025-02-07T05:01:04.465606",
     "status": "completed"
    },
    "tags": []
   },
   "outputs": [
    {
     "name": "stderr",
     "output_type": "stream",
     "text": [
      "c:\\Users\\giton\\AppData\\Local\\Programs\\Python\\Python312\\Lib\\site-packages\\sklearn\\linear_model\\_logistic.py:469: ConvergenceWarning: lbfgs failed to converge (status=1):\n",
      "STOP: TOTAL NO. of ITERATIONS REACHED LIMIT.\n",
      "\n",
      "Increase the number of iterations (max_iter) or scale the data as shown in:\n",
      "    https://scikit-learn.org/stable/modules/preprocessing.html\n",
      "Please also refer to the documentation for alternative solver options:\n",
      "    https://scikit-learn.org/stable/modules/linear_model.html#logistic-regression\n",
      "  n_iter_i = _check_optimize_result(\n"
     ]
    },
    {
     "data": {
      "text/html": [
       "<style>#sk-container-id-15 {\n",
       "  /* Definition of color scheme common for light and dark mode */\n",
       "  --sklearn-color-text: black;\n",
       "  --sklearn-color-line: gray;\n",
       "  /* Definition of color scheme for unfitted estimators */\n",
       "  --sklearn-color-unfitted-level-0: #fff5e6;\n",
       "  --sklearn-color-unfitted-level-1: #f6e4d2;\n",
       "  --sklearn-color-unfitted-level-2: #ffe0b3;\n",
       "  --sklearn-color-unfitted-level-3: chocolate;\n",
       "  /* Definition of color scheme for fitted estimators */\n",
       "  --sklearn-color-fitted-level-0: #f0f8ff;\n",
       "  --sklearn-color-fitted-level-1: #d4ebff;\n",
       "  --sklearn-color-fitted-level-2: #b3dbfd;\n",
       "  --sklearn-color-fitted-level-3: cornflowerblue;\n",
       "\n",
       "  /* Specific color for light theme */\n",
       "  --sklearn-color-text-on-default-background: var(--sg-text-color, var(--theme-code-foreground, var(--jp-content-font-color1, black)));\n",
       "  --sklearn-color-background: var(--sg-background-color, var(--theme-background, var(--jp-layout-color0, white)));\n",
       "  --sklearn-color-border-box: var(--sg-text-color, var(--theme-code-foreground, var(--jp-content-font-color1, black)));\n",
       "  --sklearn-color-icon: #696969;\n",
       "\n",
       "  @media (prefers-color-scheme: dark) {\n",
       "    /* Redefinition of color scheme for dark theme */\n",
       "    --sklearn-color-text-on-default-background: var(--sg-text-color, var(--theme-code-foreground, var(--jp-content-font-color1, white)));\n",
       "    --sklearn-color-background: var(--sg-background-color, var(--theme-background, var(--jp-layout-color0, #111)));\n",
       "    --sklearn-color-border-box: var(--sg-text-color, var(--theme-code-foreground, var(--jp-content-font-color1, white)));\n",
       "    --sklearn-color-icon: #878787;\n",
       "  }\n",
       "}\n",
       "\n",
       "#sk-container-id-15 {\n",
       "  color: var(--sklearn-color-text);\n",
       "}\n",
       "\n",
       "#sk-container-id-15 pre {\n",
       "  padding: 0;\n",
       "}\n",
       "\n",
       "#sk-container-id-15 input.sk-hidden--visually {\n",
       "  border: 0;\n",
       "  clip: rect(1px 1px 1px 1px);\n",
       "  clip: rect(1px, 1px, 1px, 1px);\n",
       "  height: 1px;\n",
       "  margin: -1px;\n",
       "  overflow: hidden;\n",
       "  padding: 0;\n",
       "  position: absolute;\n",
       "  width: 1px;\n",
       "}\n",
       "\n",
       "#sk-container-id-15 div.sk-dashed-wrapped {\n",
       "  border: 1px dashed var(--sklearn-color-line);\n",
       "  margin: 0 0.4em 0.5em 0.4em;\n",
       "  box-sizing: border-box;\n",
       "  padding-bottom: 0.4em;\n",
       "  background-color: var(--sklearn-color-background);\n",
       "}\n",
       "\n",
       "#sk-container-id-15 div.sk-container {\n",
       "  /* jupyter's `normalize.less` sets `[hidden] { display: none; }`\n",
       "     but bootstrap.min.css set `[hidden] { display: none !important; }`\n",
       "     so we also need the `!important` here to be able to override the\n",
       "     default hidden behavior on the sphinx rendered scikit-learn.org.\n",
       "     See: https://github.com/scikit-learn/scikit-learn/issues/21755 */\n",
       "  display: inline-block !important;\n",
       "  position: relative;\n",
       "}\n",
       "\n",
       "#sk-container-id-15 div.sk-text-repr-fallback {\n",
       "  display: none;\n",
       "}\n",
       "\n",
       "div.sk-parallel-item,\n",
       "div.sk-serial,\n",
       "div.sk-item {\n",
       "  /* draw centered vertical line to link estimators */\n",
       "  background-image: linear-gradient(var(--sklearn-color-text-on-default-background), var(--sklearn-color-text-on-default-background));\n",
       "  background-size: 2px 100%;\n",
       "  background-repeat: no-repeat;\n",
       "  background-position: center center;\n",
       "}\n",
       "\n",
       "/* Parallel-specific style estimator block */\n",
       "\n",
       "#sk-container-id-15 div.sk-parallel-item::after {\n",
       "  content: \"\";\n",
       "  width: 100%;\n",
       "  border-bottom: 2px solid var(--sklearn-color-text-on-default-background);\n",
       "  flex-grow: 1;\n",
       "}\n",
       "\n",
       "#sk-container-id-15 div.sk-parallel {\n",
       "  display: flex;\n",
       "  align-items: stretch;\n",
       "  justify-content: center;\n",
       "  background-color: var(--sklearn-color-background);\n",
       "  position: relative;\n",
       "}\n",
       "\n",
       "#sk-container-id-15 div.sk-parallel-item {\n",
       "  display: flex;\n",
       "  flex-direction: column;\n",
       "}\n",
       "\n",
       "#sk-container-id-15 div.sk-parallel-item:first-child::after {\n",
       "  align-self: flex-end;\n",
       "  width: 50%;\n",
       "}\n",
       "\n",
       "#sk-container-id-15 div.sk-parallel-item:last-child::after {\n",
       "  align-self: flex-start;\n",
       "  width: 50%;\n",
       "}\n",
       "\n",
       "#sk-container-id-15 div.sk-parallel-item:only-child::after {\n",
       "  width: 0;\n",
       "}\n",
       "\n",
       "/* Serial-specific style estimator block */\n",
       "\n",
       "#sk-container-id-15 div.sk-serial {\n",
       "  display: flex;\n",
       "  flex-direction: column;\n",
       "  align-items: center;\n",
       "  background-color: var(--sklearn-color-background);\n",
       "  padding-right: 1em;\n",
       "  padding-left: 1em;\n",
       "}\n",
       "\n",
       "\n",
       "/* Toggleable style: style used for estimator/Pipeline/ColumnTransformer box that is\n",
       "clickable and can be expanded/collapsed.\n",
       "- Pipeline and ColumnTransformer use this feature and define the default style\n",
       "- Estimators will overwrite some part of the style using the `sk-estimator` class\n",
       "*/\n",
       "\n",
       "/* Pipeline and ColumnTransformer style (default) */\n",
       "\n",
       "#sk-container-id-15 div.sk-toggleable {\n",
       "  /* Default theme specific background. It is overwritten whether we have a\n",
       "  specific estimator or a Pipeline/ColumnTransformer */\n",
       "  background-color: var(--sklearn-color-background);\n",
       "}\n",
       "\n",
       "/* Toggleable label */\n",
       "#sk-container-id-15 label.sk-toggleable__label {\n",
       "  cursor: pointer;\n",
       "  display: block;\n",
       "  width: 100%;\n",
       "  margin-bottom: 0;\n",
       "  padding: 0.5em;\n",
       "  box-sizing: border-box;\n",
       "  text-align: center;\n",
       "}\n",
       "\n",
       "#sk-container-id-15 label.sk-toggleable__label-arrow:before {\n",
       "  /* Arrow on the left of the label */\n",
       "  content: \"▸\";\n",
       "  float: left;\n",
       "  margin-right: 0.25em;\n",
       "  color: var(--sklearn-color-icon);\n",
       "}\n",
       "\n",
       "#sk-container-id-15 label.sk-toggleable__label-arrow:hover:before {\n",
       "  color: var(--sklearn-color-text);\n",
       "}\n",
       "\n",
       "/* Toggleable content - dropdown */\n",
       "\n",
       "#sk-container-id-15 div.sk-toggleable__content {\n",
       "  max-height: 0;\n",
       "  max-width: 0;\n",
       "  overflow: hidden;\n",
       "  text-align: left;\n",
       "  /* unfitted */\n",
       "  background-color: var(--sklearn-color-unfitted-level-0);\n",
       "}\n",
       "\n",
       "#sk-container-id-15 div.sk-toggleable__content.fitted {\n",
       "  /* fitted */\n",
       "  background-color: var(--sklearn-color-fitted-level-0);\n",
       "}\n",
       "\n",
       "#sk-container-id-15 div.sk-toggleable__content pre {\n",
       "  margin: 0.2em;\n",
       "  border-radius: 0.25em;\n",
       "  color: var(--sklearn-color-text);\n",
       "  /* unfitted */\n",
       "  background-color: var(--sklearn-color-unfitted-level-0);\n",
       "}\n",
       "\n",
       "#sk-container-id-15 div.sk-toggleable__content.fitted pre {\n",
       "  /* unfitted */\n",
       "  background-color: var(--sklearn-color-fitted-level-0);\n",
       "}\n",
       "\n",
       "#sk-container-id-15 input.sk-toggleable__control:checked~div.sk-toggleable__content {\n",
       "  /* Expand drop-down */\n",
       "  max-height: 200px;\n",
       "  max-width: 100%;\n",
       "  overflow: auto;\n",
       "}\n",
       "\n",
       "#sk-container-id-15 input.sk-toggleable__control:checked~label.sk-toggleable__label-arrow:before {\n",
       "  content: \"▾\";\n",
       "}\n",
       "\n",
       "/* Pipeline/ColumnTransformer-specific style */\n",
       "\n",
       "#sk-container-id-15 div.sk-label input.sk-toggleable__control:checked~label.sk-toggleable__label {\n",
       "  color: var(--sklearn-color-text);\n",
       "  background-color: var(--sklearn-color-unfitted-level-2);\n",
       "}\n",
       "\n",
       "#sk-container-id-15 div.sk-label.fitted input.sk-toggleable__control:checked~label.sk-toggleable__label {\n",
       "  background-color: var(--sklearn-color-fitted-level-2);\n",
       "}\n",
       "\n",
       "/* Estimator-specific style */\n",
       "\n",
       "/* Colorize estimator box */\n",
       "#sk-container-id-15 div.sk-estimator input.sk-toggleable__control:checked~label.sk-toggleable__label {\n",
       "  /* unfitted */\n",
       "  background-color: var(--sklearn-color-unfitted-level-2);\n",
       "}\n",
       "\n",
       "#sk-container-id-15 div.sk-estimator.fitted input.sk-toggleable__control:checked~label.sk-toggleable__label {\n",
       "  /* fitted */\n",
       "  background-color: var(--sklearn-color-fitted-level-2);\n",
       "}\n",
       "\n",
       "#sk-container-id-15 div.sk-label label.sk-toggleable__label,\n",
       "#sk-container-id-15 div.sk-label label {\n",
       "  /* The background is the default theme color */\n",
       "  color: var(--sklearn-color-text-on-default-background);\n",
       "}\n",
       "\n",
       "/* On hover, darken the color of the background */\n",
       "#sk-container-id-15 div.sk-label:hover label.sk-toggleable__label {\n",
       "  color: var(--sklearn-color-text);\n",
       "  background-color: var(--sklearn-color-unfitted-level-2);\n",
       "}\n",
       "\n",
       "/* Label box, darken color on hover, fitted */\n",
       "#sk-container-id-15 div.sk-label.fitted:hover label.sk-toggleable__label.fitted {\n",
       "  color: var(--sklearn-color-text);\n",
       "  background-color: var(--sklearn-color-fitted-level-2);\n",
       "}\n",
       "\n",
       "/* Estimator label */\n",
       "\n",
       "#sk-container-id-15 div.sk-label label {\n",
       "  font-family: monospace;\n",
       "  font-weight: bold;\n",
       "  display: inline-block;\n",
       "  line-height: 1.2em;\n",
       "}\n",
       "\n",
       "#sk-container-id-15 div.sk-label-container {\n",
       "  text-align: center;\n",
       "}\n",
       "\n",
       "/* Estimator-specific */\n",
       "#sk-container-id-15 div.sk-estimator {\n",
       "  font-family: monospace;\n",
       "  border: 1px dotted var(--sklearn-color-border-box);\n",
       "  border-radius: 0.25em;\n",
       "  box-sizing: border-box;\n",
       "  margin-bottom: 0.5em;\n",
       "  /* unfitted */\n",
       "  background-color: var(--sklearn-color-unfitted-level-0);\n",
       "}\n",
       "\n",
       "#sk-container-id-15 div.sk-estimator.fitted {\n",
       "  /* fitted */\n",
       "  background-color: var(--sklearn-color-fitted-level-0);\n",
       "}\n",
       "\n",
       "/* on hover */\n",
       "#sk-container-id-15 div.sk-estimator:hover {\n",
       "  /* unfitted */\n",
       "  background-color: var(--sklearn-color-unfitted-level-2);\n",
       "}\n",
       "\n",
       "#sk-container-id-15 div.sk-estimator.fitted:hover {\n",
       "  /* fitted */\n",
       "  background-color: var(--sklearn-color-fitted-level-2);\n",
       "}\n",
       "\n",
       "/* Specification for estimator info (e.g. \"i\" and \"?\") */\n",
       "\n",
       "/* Common style for \"i\" and \"?\" */\n",
       "\n",
       ".sk-estimator-doc-link,\n",
       "a:link.sk-estimator-doc-link,\n",
       "a:visited.sk-estimator-doc-link {\n",
       "  float: right;\n",
       "  font-size: smaller;\n",
       "  line-height: 1em;\n",
       "  font-family: monospace;\n",
       "  background-color: var(--sklearn-color-background);\n",
       "  border-radius: 1em;\n",
       "  height: 1em;\n",
       "  width: 1em;\n",
       "  text-decoration: none !important;\n",
       "  margin-left: 1ex;\n",
       "  /* unfitted */\n",
       "  border: var(--sklearn-color-unfitted-level-1) 1pt solid;\n",
       "  color: var(--sklearn-color-unfitted-level-1);\n",
       "}\n",
       "\n",
       ".sk-estimator-doc-link.fitted,\n",
       "a:link.sk-estimator-doc-link.fitted,\n",
       "a:visited.sk-estimator-doc-link.fitted {\n",
       "  /* fitted */\n",
       "  border: var(--sklearn-color-fitted-level-1) 1pt solid;\n",
       "  color: var(--sklearn-color-fitted-level-1);\n",
       "}\n",
       "\n",
       "/* On hover */\n",
       "div.sk-estimator:hover .sk-estimator-doc-link:hover,\n",
       ".sk-estimator-doc-link:hover,\n",
       "div.sk-label-container:hover .sk-estimator-doc-link:hover,\n",
       ".sk-estimator-doc-link:hover {\n",
       "  /* unfitted */\n",
       "  background-color: var(--sklearn-color-unfitted-level-3);\n",
       "  color: var(--sklearn-color-background);\n",
       "  text-decoration: none;\n",
       "}\n",
       "\n",
       "div.sk-estimator.fitted:hover .sk-estimator-doc-link.fitted:hover,\n",
       ".sk-estimator-doc-link.fitted:hover,\n",
       "div.sk-label-container:hover .sk-estimator-doc-link.fitted:hover,\n",
       ".sk-estimator-doc-link.fitted:hover {\n",
       "  /* fitted */\n",
       "  background-color: var(--sklearn-color-fitted-level-3);\n",
       "  color: var(--sklearn-color-background);\n",
       "  text-decoration: none;\n",
       "}\n",
       "\n",
       "/* Span, style for the box shown on hovering the info icon */\n",
       ".sk-estimator-doc-link span {\n",
       "  display: none;\n",
       "  z-index: 9999;\n",
       "  position: relative;\n",
       "  font-weight: normal;\n",
       "  right: .2ex;\n",
       "  padding: .5ex;\n",
       "  margin: .5ex;\n",
       "  width: min-content;\n",
       "  min-width: 20ex;\n",
       "  max-width: 50ex;\n",
       "  color: var(--sklearn-color-text);\n",
       "  box-shadow: 2pt 2pt 4pt #999;\n",
       "  /* unfitted */\n",
       "  background: var(--sklearn-color-unfitted-level-0);\n",
       "  border: .5pt solid var(--sklearn-color-unfitted-level-3);\n",
       "}\n",
       "\n",
       ".sk-estimator-doc-link.fitted span {\n",
       "  /* fitted */\n",
       "  background: var(--sklearn-color-fitted-level-0);\n",
       "  border: var(--sklearn-color-fitted-level-3);\n",
       "}\n",
       "\n",
       ".sk-estimator-doc-link:hover span {\n",
       "  display: block;\n",
       "}\n",
       "\n",
       "/* \"?\"-specific style due to the `<a>` HTML tag */\n",
       "\n",
       "#sk-container-id-15 a.estimator_doc_link {\n",
       "  float: right;\n",
       "  font-size: 1rem;\n",
       "  line-height: 1em;\n",
       "  font-family: monospace;\n",
       "  background-color: var(--sklearn-color-background);\n",
       "  border-radius: 1rem;\n",
       "  height: 1rem;\n",
       "  width: 1rem;\n",
       "  text-decoration: none;\n",
       "  /* unfitted */\n",
       "  color: var(--sklearn-color-unfitted-level-1);\n",
       "  border: var(--sklearn-color-unfitted-level-1) 1pt solid;\n",
       "}\n",
       "\n",
       "#sk-container-id-15 a.estimator_doc_link.fitted {\n",
       "  /* fitted */\n",
       "  border: var(--sklearn-color-fitted-level-1) 1pt solid;\n",
       "  color: var(--sklearn-color-fitted-level-1);\n",
       "}\n",
       "\n",
       "/* On hover */\n",
       "#sk-container-id-15 a.estimator_doc_link:hover {\n",
       "  /* unfitted */\n",
       "  background-color: var(--sklearn-color-unfitted-level-3);\n",
       "  color: var(--sklearn-color-background);\n",
       "  text-decoration: none;\n",
       "}\n",
       "\n",
       "#sk-container-id-15 a.estimator_doc_link.fitted:hover {\n",
       "  /* fitted */\n",
       "  background-color: var(--sklearn-color-fitted-level-3);\n",
       "}\n",
       "</style><div id=\"sk-container-id-15\" class=\"sk-top-container\"><div class=\"sk-text-repr-fallback\"><pre>LogisticRegression(C=0.1, max_iter=1000)</pre><b>In a Jupyter environment, please rerun this cell to show the HTML representation or trust the notebook. <br />On GitHub, the HTML representation is unable to render, please try loading this page with nbviewer.org.</b></div><div class=\"sk-container\" hidden><div class=\"sk-item\"><div class=\"sk-estimator fitted sk-toggleable\"><input class=\"sk-toggleable__control sk-hidden--visually\" id=\"sk-estimator-id-15\" type=\"checkbox\" checked><label for=\"sk-estimator-id-15\" class=\"sk-toggleable__label fitted sk-toggleable__label-arrow fitted\">&nbsp;&nbsp;LogisticRegression<a class=\"sk-estimator-doc-link fitted\" rel=\"noreferrer\" target=\"_blank\" href=\"https://scikit-learn.org/1.5/modules/generated/sklearn.linear_model.LogisticRegression.html\">?<span>Documentation for LogisticRegression</span></a><span class=\"sk-estimator-doc-link fitted\">i<span>Fitted</span></span></label><div class=\"sk-toggleable__content fitted\"><pre>LogisticRegression(C=0.1, max_iter=1000)</pre></div> </div></div></div></div>"
      ],
      "text/plain": [
       "LogisticRegression(C=0.1, max_iter=1000)"
      ]
     },
     "execution_count": 335,
     "metadata": {},
     "output_type": "execute_result"
    }
   ],
   "source": [
    "# Step 4: Train the Word-Level Classifier\n",
    "\n",
    "# Fix: Create y_classifier with one label per log-likelihood (i.e., per audio file)\n",
    "# This assumes you have one label per file in the same order as log_likelihoods\n",
    "\n",
    "# Build a new list of labels, one per file, matching log_likelihoods\n",
    "y_classifier_list = []\n",
    "\n",
    "for dirname in os.listdir(audio_path):\n",
    "\tsubfolder = os.path.join(audio_path, dirname)\n",
    "\tif not os.path.isdir(subfolder):\n",
    "\t\tcontinue\n",
    "\tlabel = dirname\n",
    "\tfor filename in [x for x in os.listdir(subfolder) if x.endswith('.wav')]:\n",
    "\t\ty_classifier_list.append(label)\n",
    "\n",
    "# Now y_classifier_fixed should have the same length as log_likelihoods/X_classifier\n",
    "classifier = LogisticRegression(C=0.1, max_iter=1000)\n",
    "classifier.fit(X_classifier, y_classifier_list)"
   ]
  },
  {
   "cell_type": "code",
   "execution_count": 336,
   "id": "e0b85820",
   "metadata": {
    "execution": {
     "iopub.execute_input": "2025-02-07T05:01:04.580374Z",
     "iopub.status.busy": "2025-02-07T05:01:04.579988Z",
     "iopub.status.idle": "2025-02-07T05:01:04.598251Z",
     "shell.execute_reply": "2025-02-07T05:01:04.597042Z"
    },
    "papermill": {
     "duration": 0.052027,
     "end_time": "2025-02-07T05:01:04.599984",
     "exception": false,
     "start_time": "2025-02-07T05:01:04.547957",
     "status": "completed"
    },
    "tags": []
   },
   "outputs": [
    {
     "name": "stdout",
     "output_type": "stream",
     "text": [
      "Input file: orange15.wav\n",
      "Predicted label: orange\n"
     ]
    }
   ],
   "source": [
    "# Step 5: Test the Model\n",
    "input_file = os.path.join(audio_path, \"orange\", \"orange15.wav\")\n",
    "\n",
    "# Extract MFCC and delta features from the test file\n",
    "audio, sampling_freq = librosa.load(input_file)\n",
    "# Extract MFCC features with 15 coefficients (features consistent with training)\n",
    "mfcc_features = mfcc(y=audio, sr=sampling_freq, n_mfcc=15)\n",
    "delta_features = librosa.feature.delta(mfcc_features)\n",
    "combined_features = np.vstack([mfcc_features, delta_features]).T\n",
    "\n",
    "# Get the log-likelihood score\n",
    "test_score = shared_hmm.score(combined_features)\n",
    "\n",
    "# Predict the label using the classifier\n",
    "predicted_label = classifier.predict([[test_score]])\n",
    "\n",
    "# Print results\n",
    "print(\"Input file:\", os.path.basename(input_file))\n",
    "print(\"Predicted label:\", predicted_label[0])"
   ]
  },
  {
   "cell_type": "code",
   "execution_count": 337,
   "id": "dd2a9e7d",
   "metadata": {
    "execution": {
     "iopub.execute_input": "2025-02-07T05:01:04.666278Z",
     "iopub.status.busy": "2025-02-07T05:01:04.665929Z",
     "iopub.status.idle": "2025-02-07T05:01:04.944893Z",
     "shell.execute_reply": "2025-02-07T05:01:04.943693Z"
    },
    "papermill": {
     "duration": 0.312584,
     "end_time": "2025-02-07T05:01:04.946461",
     "exception": false,
     "start_time": "2025-02-07T05:01:04.633877",
     "status": "completed"
    },
    "tags": []
   },
   "outputs": [
    {
     "name": "stdout",
     "output_type": "stream",
     "text": [
      "\n",
      "Classification Report:\n",
      "\n",
      "              precision    recall  f1-score   support\n",
      "\n",
      "       apple       0.60      0.60      0.60        15\n",
      "      banana       0.38      0.40      0.39        15\n",
      "        kiwi       0.40      0.40      0.40        15\n",
      "        lime       0.58      0.47      0.52        15\n",
      "      orange       0.93      0.93      0.93        15\n",
      "       peach       0.87      0.87      0.87        15\n",
      "   pineapple       0.71      0.80      0.75        15\n",
      "\n",
      "    accuracy                           0.64       105\n",
      "   macro avg       0.64      0.64      0.64       105\n",
      "weighted avg       0.64      0.64      0.64       105\n",
      "\n"
     ]
    },
    {
     "data": {
      "image/png": "[encoded data removed]",
      "text/plain": [
       "<Figure size 800x600 with 2 Axes>"
      ]
     },
     "metadata": {},
     "output_type": "display_data"
    }
   ],
   "source": [
    "# Step 6: Evaluate the Classifier\n",
    "y_pred = classifier.predict(X_classifier)\n",
    "print(\"\\nClassification Report:\\n\")\n",
    "print(classification_report(y_classifier_list, y_pred))\n",
    "\n",
    "# Optional: Plot the Confusion Matrix\n",
    "unique_labels = sorted(list(set(y_classifier)))\n",
    "cm = confusion_matrix(y_classifier_list, y_pred, labels=unique_labels)\n",
    "plt.figure(figsize=(8, 6))\n",
    "plt.imshow(cm, cmap='Blues', interpolation='nearest')\n",
    "plt.colorbar()\n",
    "plt.title(\"Confusion Matrix\")\n",
    "plt.xticks(np.arange(len(unique_labels)), unique_labels, rotation=45)\n",
    "plt.yticks(np.arange(len(unique_labels)), unique_labels)\n",
    "plt.xlabel(\"Predicted\")\n",
    "plt.ylabel(\"True\")\n",
    "plt.show()"
   ]
  },
  {
   "cell_type": "markdown",
   "id": "09a44f2f",
   "metadata": {
    "papermill": {
     "duration": 0.03157,
     "end_time": "2025-02-07T05:01:05.010739",
     "exception": false,
     "start_time": "2025-02-07T05:01:04.979169",
     "status": "completed"
    },
    "tags": []
   },
   "source": [
    "#### Performace Improved Yet for some classes showing low performnace \n",
    "\n",
    "\n",
    "* Feature Enhancement: Added delta-MFCC features for capturing temporal dynamics.\n",
    "* HMM Parameter Tuning: n_components and n_iter.\n",
    "* Regularized Classifier:Used LR with L2 regularization (C=0.1).\n",
    "* Robust Testing: MFCC and delta features for the test file.\n"
   ]
  }
 ],
 "metadata": {
  "kaggle": {
   "accelerator": "none",
   "dataSources": [
    {
     "datasetId": 2552522,
     "sourceId": 4335073,
     "sourceType": "datasetVersion"
    },
    {
     "datasetId": 6532211,
     "sourceId": 10558309,
     "sourceType": "datasetVersion"
    }
   ],
   "dockerImageVersionId": 30839,
   "isGpuEnabled": false,
   "isInternetEnabled": true,
   "language": "python",
   "sourceType": "notebook"
  },
  "kernelspec": {
   "display_name": "Python 3",
   "language": "python",
   "name": "python3"
  },
  "language_info": {
   "codemirror_mode": {
    "name": "ipython",
    "version": 3
   },
   "file_extension": ".py",
   "mimetype": "text/x-python",
   "name": "python",
   "nbconvert_exporter": "python",
   "pygments_lexer": "ipython3",
   "version": "3.12.6"
  },
  "papermill": {
   "default_parameters": {},
   "duration": 65.692567,
   "end_time": "2025-02-07T05:01:20.240936",
   "environment_variables": {},
   "exception": null,
   "input_path": "__notebook__.ipynb",
   "output_path": "__notebook__.ipynb",
   "parameters": {},
   "start_time": "2025-02-07T05:00:14.548369",
   "version": "2.6.0"
  }
 },
 "nbformat": 4,
 "nbformat_minor": 5
}
